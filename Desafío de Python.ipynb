{
 "cells": [
  {
   "cell_type": "markdown",
   "metadata": {},
   "source": [
    "# Predictor de responsabilidad de siniestros viales\n",
    "\n",
    "Nombre: Alvaro Concha"
   ]
  },
  {
   "cell_type": "markdown",
   "metadata": {},
   "source": [
    "---\n",
    "### Objetivos\n",
    "1. Realizar el análisis exploratorio de los datos para determinar qué campos además de la\n",
    "descripción tienen importancia para determinar la responsabilidad del hecho.\n",
    "\n",
    "2. Realizar un modelo que dada las características seleccionadas determine la\n",
    "responsabilidad del hecho.\n",
    "\n",
    "3. Realizar un workflow del proceso realizado en los puntos anteriores donde también se\n",
    "reporten los próximos pasos a seguir al momento de disponibilizar dicho modelo al\n",
    "cliente.\n",
    "\n",
    "4. Disponibilizar en un repositorio todo el desarrollo con un esquema de la estructura\n",
    "deseada del proyecto y la explicación de su abordaje en el “README.md” o en un\n",
    "Notebook junto con el resto de los puntos.\n"
   ]
  },
  {
   "cell_type": "markdown",
   "metadata": {},
   "source": [
    "---\n",
    "### Atributos originales\n",
    "\n",
    "Id_evento: es un código identificador\n",
    "\n",
    "Id_reclamo_evento: es un código identificador\n",
    "\n",
    "Id_reclamo: es un código identificador\n",
    "\n",
    "TIPO_RECLAMO: es un código identificador\n",
    "\n",
    "FECHA_SINI: fecha en la que ocurrió el siniestro\n",
    "\n",
    "LUGAR_OCURRENCIA: dirección de ocurrencia del siniestro\n",
    "\n",
    "COD_POST_OCURRENCIA: código postal del lugar donde ocurre el siniestro\n",
    "\n",
    "ESTADO_CIVIL: estado civil del asegurado\n",
    "\n",
    "FECHA_NAC_ASEG: fecha de nacimiento del asegurado\n",
    "\n",
    "SEXO: sexo del asegurado\n",
    "\n",
    "OCUPACION_ASEG: ocupación codificada del asegurado\n",
    "\n",
    "MODELO_VEHICULO: año de emisión del vehículo del asegurado\n",
    "\n",
    "FECHA_PROCESO: fecha en la que se proceso la designación del asegurado\n",
    "\n",
    "TIPO_ADMINISTRACION: determina la responsabilidad inicial del asegurado\n",
    "\n",
    "DESCRIP_HECHO: descripción del siniestro en cuestión\n",
    "\n",
    "HORA_SINI: hora en la que ocurre el siniestro\n",
    "\n",
    "LATITUD\n",
    "\n",
    "LONGITUD\n",
    "\n",
    "TIPO_ADMINISTRACION_FIN: determina la responsabilidad final del asegurado\n",
    "\n"
   ]
  },
  {
   "cell_type": "markdown",
   "metadata": {},
   "source": [
    "---\n",
    "### Setup"
   ]
  },
  {
   "cell_type": "code",
   "execution_count": 1,
   "metadata": {},
   "outputs": [],
   "source": [
    "# Instalar librerías y paquetes\n",
    "# %pip install -r requirements.txt"
   ]
  },
  {
   "cell_type": "code",
   "execution_count": 2,
   "metadata": {},
   "outputs": [
    {
     "name": "stderr",
     "output_type": "stream",
     "text": [
      "/home/alvaro/.local/lib/python3.8/site-packages/xarray/core/merge.py:10: FutureWarning: The Panel class is removed from pandas. Accessing it from the top-level namespace will also be removed in the next version\n",
      "  PANDAS_TYPES = (pd.Series, pd.DataFrame, pd.Panel)\n"
     ]
    }
   ],
   "source": [
    "# Importar librerías y paquetes\n",
    "import numpy as np\n",
    "import pandas as pd\n",
    "import matplotlib.pyplot as plt\n",
    "import seaborn as sns\n",
    "import plotly.express as px\n",
    "from sklearn.compose import ColumnTransformer\n",
    "from sklearn.preprocessing import OneHotEncoder, OrdinalEncoder, RobustScaler\n",
    "from sklearn.model_selection import train_test_split\n",
    "from sklearn.linear_model import LogisticRegression\n",
    "from sklearn.ensemble import GradientBoostingClassifier\n",
    "from sklearn.pipeline import make_pipeline\n",
    "from sklearn.metrics import roc_curve, roc_auc_score, confusion_matrix\n",
    "\n",
    "np.random.seed(42)"
   ]
  },
  {
   "cell_type": "code",
   "execution_count": 3,
   "metadata": {},
   "outputs": [
    {
     "name": "stderr",
     "output_type": "stream",
     "text": [
      "2022-08-27 18:49:34.446589: W tensorflow/stream_executor/platform/default/dso_loader.cc:64] Could not load dynamic library 'libcudart.so.11.0'; dlerror: libcudart.so.11.0: cannot open shared object file: No such file or directory\n",
      "2022-08-27 18:49:34.446613: I tensorflow/stream_executor/cuda/cudart_stub.cc:29] Ignore above cudart dlerror if you do not have a GPU set up on your machine.\n",
      "/usr/lib/python3/dist-packages/requests/__init__.py:89: RequestsDependencyWarning: urllib3 (1.26.12) or chardet (3.0.4) doesn't match a supported version!\n",
      "  warnings.warn(\"urllib3 ({}) or chardet ({}) doesn't match a supported \"\n"
     ]
    }
   ],
   "source": [
    "import numpy as np\n",
    "import pandas as pd\n",
    "import matplotlib.pyplot as plt\n",
    "import seaborn as sns\n",
    "from sklearn.naive_bayes import GaussianNB\n",
    "from sklearn.compose import ColumnTransformer\n",
    "from sklearn.preprocessing import OneHotEncoder, OrdinalEncoder, RobustScaler\n",
    "from sklearn.feature_selection import mutual_info_classif\n",
    "from sklearn.model_selection import train_test_split\n",
    "from sklearn.linear_model import LogisticRegression\n",
    "from sklearn.ensemble import GradientBoostingClassifier\n",
    "from sklearn.pipeline import make_pipeline\n",
    "from sklearn.metrics import classification_report\n",
    "from keras.models import Sequential\n",
    "from keras.layers import InputLayer, Dense, Dropout\n",
    "from keras.regularizers import l2\n",
    "from scikeras.wrappers import KerasClassifier\n",
    "import umap\n",
    "import hdbscan"
   ]
  },
  {
   "cell_type": "code",
   "execution_count": null,
   "metadata": {},
   "outputs": [],
   "source": [
    "from stanza import Pipeline\n",
    "from nltk.tokenize import RegexpTokenizer\n",
    "from spellchecker import SpellChecker\n",
    "from nltk.corpus import stopwords\n",
    "from nltk.stem import SnowballStemmer"
   ]
  },
  {
   "cell_type": "code",
   "execution_count": 4,
   "metadata": {},
   "outputs": [
    {
     "name": "stdout",
     "output_type": "stream",
     "text": [
      ",id_evento,id_reclamo_evento,id_reclamo,TIPO_RECLAMO,FECHA_SINI,LUGAR_OCURRENCIA,COD_POST_OCURRENCIA,ESTADO_CIVIL,FECHA_NAC_ASEG,SEXO,OCUPACION_ASEG,MODELO_VEHICULO,FECHA_PROCESO,TIPO_ADMINISTRACION,DESCRIP_HECHO,HORA_SINI,LATITUD,LONGITUD,TIPO_ADMINISTRACION_FIN\n",
      "\n",
      "0,1,1,1,NO TRANSPORTADO,1/1/2019,CEBALLOS 5300,8300001,SO,10/27/1976,M,2.0,2007.0,1/31/2019,A,\"VH CIRCULANDO POR CALLE CEBALLOS 5300 (NEUQUEN - NEUQUEN CAP) CUANDO UN TERCERO QUE CIRCULABA POR LA MISMA EN SENTIDO CONTRARIO INVADE EL CARRIL DEL ASEGURADO, ESTE MANIOBRA PARA EVITAR COLISION FRONTAL Y ES EMBESTIDO EN LATERAL IZQUIERDO CON LA PARTE FRONTAL DEL TERCERO. AMBOS VH SE DESPLAZAN SIN NUEVAS COLISIONES. CON LESIONADOS, INTERVIENE POLICIA Y AMBULANCIA.\",01:30,,,B\n",
      "\n",
      "1,1,2,2,NO TRANSPORTADO,1/1/2019,CEBALLOS 5300,8300001,SO,10/27/1976,M,2.0,2007.0,1/31/2019,A,\"VH CIRCULANDO POR CALLE CEBALLOS 5300 (NEUQUEN - NEUQUEN CAP) CUANDO UN TERCERO QUE CIRCULABA POR LA MISMA EN SENTIDO CONTRARIO INVADE EL CARRIL DEL ASEGURADO, ESTE MANIOBRA PARA EVITAR COLISION FRONTAL Y ES EMBESTIDO EN LATERAL IZQUIERDO CON LA PARTE FRONTAL DEL TERCERO. AMBOS VH SE DESPLAZAN SIN NUEVAS COLISIONES. CON LESIONADOS, INTERVIENE POLICIA Y AMBULANCIA.\",01:30,,,B\n",
      "\n",
      "2,1,3,3,NO TRANSPORTADO,1/1/2019,CEBALLOS 5300,8300001,SO,10/27/1976,M,2.0,2007.0,1/31/2019,A,\"VH CIRCULANDO POR CALLE CEBALLOS 5300 (NEUQUEN - NEUQUEN CAP) CUANDO UN TERCERO QUE CIRCULABA POR LA MISMA EN SENTIDO CONTRARIO INVADE EL CARRIL DEL ASEGURADO, ESTE MANIOBRA PARA EVITAR COLISION FRONTAL Y ES EMBESTIDO EN LATERAL IZQUIERDO CON LA PARTE FRONTAL DEL TERCERO. AMBOS VH SE DESPLAZAN SIN NUEVAS COLISIONES. CON LESIONADOS, INTERVIENE POLICIA Y AMBULANCIA.\",01:30,,,B\n",
      "\n",
      "3,1,4,4,NO TRANSPORTADO,1/1/2019,CEBALLOS 5300,8300001,SO,10/27/1976,M,2.0,2007.0,1/31/2019,A,\"VH CIRCULANDO POR CALLE CEBALLOS 5300 (NEUQUEN - NEUQUEN CAP) CUANDO UN TERCERO QUE CIRCULABA POR LA MISMA EN SENTIDO CONTRARIO INVADE EL CARRIL DEL ASEGURADO, ESTE MANIOBRA PARA EVITAR COLISION FRONTAL Y ES EMBESTIDO EN LATERAL IZQUIERDO CON LA PARTE FRONTAL DEL TERCERO. AMBOS VH SE DESPLAZAN SIN NUEVAS COLISIONES. CON LESIONADOS, INTERVIENE POLICIA Y AMBULANCIA.\",01:30,,,B\n",
      "\n"
     ]
    }
   ],
   "source": [
    "# Un vistazo de las primeras líneas de \"siniestros.csv\"\n",
    "with open(\"siniestros.csv\", \"r\") as file:\n",
    "    for _ in range(5):\n",
    "        line = file.readline()\n",
    "        print(line)"
   ]
  },
  {
   "cell_type": "code",
   "execution_count": 5,
   "metadata": {},
   "outputs": [
    {
     "data": {
      "text/html": [
       "<div>\n",
       "<style scoped>\n",
       "    .dataframe tbody tr th:only-of-type {\n",
       "        vertical-align: middle;\n",
       "    }\n",
       "\n",
       "    .dataframe tbody tr th {\n",
       "        vertical-align: top;\n",
       "    }\n",
       "\n",
       "    .dataframe thead th {\n",
       "        text-align: right;\n",
       "    }\n",
       "</style>\n",
       "<table border=\"1\" class=\"dataframe\">\n",
       "  <thead>\n",
       "    <tr style=\"text-align: right;\">\n",
       "      <th></th>\n",
       "      <th>id_evento</th>\n",
       "      <th>id_reclamo_evento</th>\n",
       "      <th>id_reclamo</th>\n",
       "      <th>TIPO_RECLAMO</th>\n",
       "      <th>FECHA_SINI</th>\n",
       "      <th>LUGAR_OCURRENCIA</th>\n",
       "      <th>COD_POST_OCURRENCIA</th>\n",
       "      <th>ESTADO_CIVIL</th>\n",
       "      <th>FECHA_NAC_ASEG</th>\n",
       "      <th>SEXO</th>\n",
       "      <th>OCUPACION_ASEG</th>\n",
       "      <th>MODELO_VEHICULO</th>\n",
       "      <th>FECHA_PROCESO</th>\n",
       "      <th>TIPO_ADMINISTRACION</th>\n",
       "      <th>DESCRIP_HECHO</th>\n",
       "      <th>HORA_SINI</th>\n",
       "      <th>LATITUD</th>\n",
       "      <th>LONGITUD</th>\n",
       "      <th>TIPO_ADMINISTRACION_FIN</th>\n",
       "    </tr>\n",
       "  </thead>\n",
       "  <tbody>\n",
       "    <tr>\n",
       "      <th>0</th>\n",
       "      <td>1</td>\n",
       "      <td>1</td>\n",
       "      <td>1</td>\n",
       "      <td>NO TRANSPORTADO</td>\n",
       "      <td>1/1/2019</td>\n",
       "      <td>CEBALLOS 5300</td>\n",
       "      <td>8300001</td>\n",
       "      <td>SO</td>\n",
       "      <td>10/27/1976</td>\n",
       "      <td>M</td>\n",
       "      <td>2.0</td>\n",
       "      <td>2007.0</td>\n",
       "      <td>1/31/2019</td>\n",
       "      <td>A</td>\n",
       "      <td>VH CIRCULANDO POR CALLE CEBALLOS 5300 (NEUQUEN...</td>\n",
       "      <td>01:30</td>\n",
       "      <td>NaN</td>\n",
       "      <td>NaN</td>\n",
       "      <td>B</td>\n",
       "    </tr>\n",
       "    <tr>\n",
       "      <th>1</th>\n",
       "      <td>1</td>\n",
       "      <td>2</td>\n",
       "      <td>2</td>\n",
       "      <td>NO TRANSPORTADO</td>\n",
       "      <td>1/1/2019</td>\n",
       "      <td>CEBALLOS 5300</td>\n",
       "      <td>8300001</td>\n",
       "      <td>SO</td>\n",
       "      <td>10/27/1976</td>\n",
       "      <td>M</td>\n",
       "      <td>2.0</td>\n",
       "      <td>2007.0</td>\n",
       "      <td>1/31/2019</td>\n",
       "      <td>A</td>\n",
       "      <td>VH CIRCULANDO POR CALLE CEBALLOS 5300 (NEUQUEN...</td>\n",
       "      <td>01:30</td>\n",
       "      <td>NaN</td>\n",
       "      <td>NaN</td>\n",
       "      <td>B</td>\n",
       "    </tr>\n",
       "    <tr>\n",
       "      <th>2</th>\n",
       "      <td>1</td>\n",
       "      <td>3</td>\n",
       "      <td>3</td>\n",
       "      <td>NO TRANSPORTADO</td>\n",
       "      <td>1/1/2019</td>\n",
       "      <td>CEBALLOS 5300</td>\n",
       "      <td>8300001</td>\n",
       "      <td>SO</td>\n",
       "      <td>10/27/1976</td>\n",
       "      <td>M</td>\n",
       "      <td>2.0</td>\n",
       "      <td>2007.0</td>\n",
       "      <td>1/31/2019</td>\n",
       "      <td>A</td>\n",
       "      <td>VH CIRCULANDO POR CALLE CEBALLOS 5300 (NEUQUEN...</td>\n",
       "      <td>01:30</td>\n",
       "      <td>NaN</td>\n",
       "      <td>NaN</td>\n",
       "      <td>B</td>\n",
       "    </tr>\n",
       "    <tr>\n",
       "      <th>3</th>\n",
       "      <td>1</td>\n",
       "      <td>4</td>\n",
       "      <td>4</td>\n",
       "      <td>NO TRANSPORTADO</td>\n",
       "      <td>1/1/2019</td>\n",
       "      <td>CEBALLOS 5300</td>\n",
       "      <td>8300001</td>\n",
       "      <td>SO</td>\n",
       "      <td>10/27/1976</td>\n",
       "      <td>M</td>\n",
       "      <td>2.0</td>\n",
       "      <td>2007.0</td>\n",
       "      <td>1/31/2019</td>\n",
       "      <td>A</td>\n",
       "      <td>VH CIRCULANDO POR CALLE CEBALLOS 5300 (NEUQUEN...</td>\n",
       "      <td>01:30</td>\n",
       "      <td>NaN</td>\n",
       "      <td>NaN</td>\n",
       "      <td>B</td>\n",
       "    </tr>\n",
       "    <tr>\n",
       "      <th>4</th>\n",
       "      <td>1</td>\n",
       "      <td>5</td>\n",
       "      <td>5</td>\n",
       "      <td>TRANSPORTADO</td>\n",
       "      <td>1/1/2019</td>\n",
       "      <td>CEBALLOS 5300</td>\n",
       "      <td>8300001</td>\n",
       "      <td>SO</td>\n",
       "      <td>10/27/1976</td>\n",
       "      <td>M</td>\n",
       "      <td>2.0</td>\n",
       "      <td>2007.0</td>\n",
       "      <td>4/30/2019</td>\n",
       "      <td>B</td>\n",
       "      <td>VH CIRCULANDO POR CALLE CEBALLOS 5300 (NEUQUEN...</td>\n",
       "      <td>01:30</td>\n",
       "      <td>NaN</td>\n",
       "      <td>NaN</td>\n",
       "      <td>B</td>\n",
       "    </tr>\n",
       "  </tbody>\n",
       "</table>\n",
       "</div>"
      ],
      "text/plain": [
       "   id_evento  id_reclamo_evento  id_reclamo     TIPO_RECLAMO FECHA_SINI  \\\n",
       "0          1                  1           1  NO TRANSPORTADO   1/1/2019   \n",
       "1          1                  2           2  NO TRANSPORTADO   1/1/2019   \n",
       "2          1                  3           3  NO TRANSPORTADO   1/1/2019   \n",
       "3          1                  4           4  NO TRANSPORTADO   1/1/2019   \n",
       "4          1                  5           5     TRANSPORTADO   1/1/2019   \n",
       "\n",
       "  LUGAR_OCURRENCIA  COD_POST_OCURRENCIA ESTADO_CIVIL FECHA_NAC_ASEG SEXO  \\\n",
       "0    CEBALLOS 5300              8300001           SO     10/27/1976    M   \n",
       "1    CEBALLOS 5300              8300001           SO     10/27/1976    M   \n",
       "2    CEBALLOS 5300              8300001           SO     10/27/1976    M   \n",
       "3    CEBALLOS 5300              8300001           SO     10/27/1976    M   \n",
       "4    CEBALLOS 5300              8300001           SO     10/27/1976    M   \n",
       "\n",
       "   OCUPACION_ASEG  MODELO_VEHICULO FECHA_PROCESO TIPO_ADMINISTRACION  \\\n",
       "0             2.0           2007.0     1/31/2019                   A   \n",
       "1             2.0           2007.0     1/31/2019                   A   \n",
       "2             2.0           2007.0     1/31/2019                   A   \n",
       "3             2.0           2007.0     1/31/2019                   A   \n",
       "4             2.0           2007.0     4/30/2019                   B   \n",
       "\n",
       "                                       DESCRIP_HECHO HORA_SINI LATITUD  \\\n",
       "0  VH CIRCULANDO POR CALLE CEBALLOS 5300 (NEUQUEN...     01:30     NaN   \n",
       "1  VH CIRCULANDO POR CALLE CEBALLOS 5300 (NEUQUEN...     01:30     NaN   \n",
       "2  VH CIRCULANDO POR CALLE CEBALLOS 5300 (NEUQUEN...     01:30     NaN   \n",
       "3  VH CIRCULANDO POR CALLE CEBALLOS 5300 (NEUQUEN...     01:30     NaN   \n",
       "4  VH CIRCULANDO POR CALLE CEBALLOS 5300 (NEUQUEN...     01:30     NaN   \n",
       "\n",
       "  LONGITUD TIPO_ADMINISTRACION_FIN  \n",
       "0      NaN                       B  \n",
       "1      NaN                       B  \n",
       "2      NaN                       B  \n",
       "3      NaN                       B  \n",
       "4      NaN                       B  "
      ]
     },
     "execution_count": 5,
     "metadata": {},
     "output_type": "execute_result"
    }
   ],
   "source": [
    "# Cargar los datos\n",
    "data = pd.read_csv(\"siniestros.csv\", sep=\",\", header=0)\n",
    "data = data.drop(columns=data.columns[0])\n",
    "data.head()"
   ]
  },
  {
   "cell_type": "code",
   "execution_count": 6,
   "metadata": {},
   "outputs": [],
   "source": [
    "# Definir la variable objetivo\n",
    "target_dict = {\n",
    "    \"A\": 1 , \"B\": 0 , \"C\": 0 , \"D\": 0 , \"S\": 0\n",
    "}\n",
    "data[\"target\"] = data[\"TIPO_ADMINISTRACION_FIN\"].map(target_dict)"
   ]
  },
  {
   "cell_type": "code",
   "execution_count": 7,
   "metadata": {},
   "outputs": [],
   "source": [
    "# Agrupemos por id_evento para deshacernos de los reclamos reiterados\n",
    "event_groups = data.groupby(\"id_evento\")"
   ]
  },
  {
   "cell_type": "code",
   "execution_count": 8,
   "metadata": {},
   "outputs": [],
   "source": [
    "# Nos quedemos solamente con uno de los reclamos de mayor gravedad\n",
    "deduplicate_idx = event_groups[\"target\"].idxmax()"
   ]
  },
  {
   "cell_type": "code",
   "execution_count": 9,
   "metadata": {},
   "outputs": [],
   "source": [
    "# Reduzcamos nuestros datos\n",
    "data = data.iloc[deduplicate_idx].set_index(\"id_evento\")"
   ]
  },
  {
   "cell_type": "code",
   "execution_count": 10,
   "metadata": {},
   "outputs": [],
   "source": [
    "# Agreguemos un atributo que cuente la cantidad de reclamos originales por evento\n",
    "data[\"CANT_RECLAMOS\"] = event_groups.size()"
   ]
  },
  {
   "cell_type": "code",
   "execution_count": 11,
   "metadata": {},
   "outputs": [
    {
     "data": {
      "text/html": [
       "<div>\n",
       "<style scoped>\n",
       "    .dataframe tbody tr th:only-of-type {\n",
       "        vertical-align: middle;\n",
       "    }\n",
       "\n",
       "    .dataframe tbody tr th {\n",
       "        vertical-align: top;\n",
       "    }\n",
       "\n",
       "    .dataframe thead th {\n",
       "        text-align: right;\n",
       "    }\n",
       "</style>\n",
       "<table border=\"1\" class=\"dataframe\">\n",
       "  <thead>\n",
       "    <tr style=\"text-align: right;\">\n",
       "      <th></th>\n",
       "      <th>id_reclamo_evento</th>\n",
       "      <th>id_reclamo</th>\n",
       "      <th>TIPO_RECLAMO</th>\n",
       "      <th>FECHA_SINI</th>\n",
       "      <th>LUGAR_OCURRENCIA</th>\n",
       "      <th>COD_POST_OCURRENCIA</th>\n",
       "      <th>ESTADO_CIVIL</th>\n",
       "      <th>FECHA_NAC_ASEG</th>\n",
       "      <th>SEXO</th>\n",
       "      <th>OCUPACION_ASEG</th>\n",
       "      <th>MODELO_VEHICULO</th>\n",
       "      <th>FECHA_PROCESO</th>\n",
       "      <th>TIPO_ADMINISTRACION</th>\n",
       "      <th>DESCRIP_HECHO</th>\n",
       "      <th>HORA_SINI</th>\n",
       "      <th>LATITUD</th>\n",
       "      <th>LONGITUD</th>\n",
       "      <th>TIPO_ADMINISTRACION_FIN</th>\n",
       "      <th>target</th>\n",
       "      <th>CANT_RECLAMOS</th>\n",
       "    </tr>\n",
       "    <tr>\n",
       "      <th>id_evento</th>\n",
       "      <th></th>\n",
       "      <th></th>\n",
       "      <th></th>\n",
       "      <th></th>\n",
       "      <th></th>\n",
       "      <th></th>\n",
       "      <th></th>\n",
       "      <th></th>\n",
       "      <th></th>\n",
       "      <th></th>\n",
       "      <th></th>\n",
       "      <th></th>\n",
       "      <th></th>\n",
       "      <th></th>\n",
       "      <th></th>\n",
       "      <th></th>\n",
       "      <th></th>\n",
       "      <th></th>\n",
       "      <th></th>\n",
       "      <th></th>\n",
       "    </tr>\n",
       "  </thead>\n",
       "  <tbody>\n",
       "    <tr>\n",
       "      <th>1</th>\n",
       "      <td>1</td>\n",
       "      <td>1</td>\n",
       "      <td>NO TRANSPORTADO</td>\n",
       "      <td>1/1/2019</td>\n",
       "      <td>CEBALLOS 5300</td>\n",
       "      <td>8300001</td>\n",
       "      <td>SO</td>\n",
       "      <td>10/27/1976</td>\n",
       "      <td>M</td>\n",
       "      <td>2.0</td>\n",
       "      <td>2007.0</td>\n",
       "      <td>1/31/2019</td>\n",
       "      <td>A</td>\n",
       "      <td>VH CIRCULANDO POR CALLE CEBALLOS 5300 (NEUQUEN...</td>\n",
       "      <td>01:30</td>\n",
       "      <td>NaN</td>\n",
       "      <td>NaN</td>\n",
       "      <td>B</td>\n",
       "      <td>0.0</td>\n",
       "      <td>6</td>\n",
       "    </tr>\n",
       "    <tr>\n",
       "      <th>2</th>\n",
       "      <td>1</td>\n",
       "      <td>6</td>\n",
       "      <td>NO TRANSPORTADO</td>\n",
       "      <td>1/1/2019</td>\n",
       "      <td>SOFIA DE LUQUE</td>\n",
       "      <td>5000050</td>\n",
       "      <td>SO</td>\n",
       "      <td>6/18/1980</td>\n",
       "      <td>F</td>\n",
       "      <td>44.0</td>\n",
       "      <td>2011.0</td>\n",
       "      <td>1/31/2019</td>\n",
       "      <td>B</td>\n",
       "      <td>ASEG CIRCULABA POR CALLE ALFONSO DE MIRANDO NO...</td>\n",
       "      <td>10:30</td>\n",
       "      <td>NaN</td>\n",
       "      <td>NaN</td>\n",
       "      <td>B</td>\n",
       "      <td>0.0</td>\n",
       "      <td>4</td>\n",
       "    </tr>\n",
       "    <tr>\n",
       "      <th>3</th>\n",
       "      <td>1</td>\n",
       "      <td>9</td>\n",
       "      <td>NO TRANSPORTADO</td>\n",
       "      <td>1/1/2019</td>\n",
       "      <td>SAN LUIS</td>\n",
       "      <td>3630009</td>\n",
       "      <td>SO</td>\n",
       "      <td>2/14/1989</td>\n",
       "      <td>F</td>\n",
       "      <td>13.0</td>\n",
       "      <td>2014.0</td>\n",
       "      <td>1/31/2019</td>\n",
       "      <td>B</td>\n",
       "      <td>ASEG INCORPORANDOSE A CIRCULACION LUEGO DE EST...</td>\n",
       "      <td>09:45</td>\n",
       "      <td>NaN</td>\n",
       "      <td>NaN</td>\n",
       "      <td>A</td>\n",
       "      <td>1.0</td>\n",
       "      <td>2</td>\n",
       "    </tr>\n",
       "    <tr>\n",
       "      <th>4</th>\n",
       "      <td>1</td>\n",
       "      <td>10</td>\n",
       "      <td>NO TRANSPORTADO</td>\n",
       "      <td>1/1/2019</td>\n",
       "      <td>RUTA PROV 11 KM 322</td>\n",
       "      <td>7107000</td>\n",
       "      <td>CA</td>\n",
       "      <td>11/22/1979</td>\n",
       "      <td>M</td>\n",
       "      <td>5.0</td>\n",
       "      <td>2018.0</td>\n",
       "      <td>12/31/2019</td>\n",
       "      <td>B</td>\n",
       "      <td>YO CIRCULABA POR RUTA 11 SENTIDO SUR NORTE. IN...</td>\n",
       "      <td>14:30</td>\n",
       "      <td>NaN</td>\n",
       "      <td>NaN</td>\n",
       "      <td>A</td>\n",
       "      <td>1.0</td>\n",
       "      <td>2</td>\n",
       "    </tr>\n",
       "    <tr>\n",
       "      <th>5</th>\n",
       "      <td>1</td>\n",
       "      <td>11</td>\n",
       "      <td>NO TRANSPORTADO</td>\n",
       "      <td>1/1/2019</td>\n",
       "      <td>AV GASPAR CAMPOS  Y AV PRIMERA JUNTA</td>\n",
       "      <td>1663015</td>\n",
       "      <td>SO</td>\n",
       "      <td>7/5/1993</td>\n",
       "      <td>F</td>\n",
       "      <td>44.0</td>\n",
       "      <td>2010.0</td>\n",
       "      <td>1/31/2019</td>\n",
       "      <td>B</td>\n",
       "      <td>ASEGURADO DETENIDO PARA DOBLAR EN AV GASPAR CA...</td>\n",
       "      <td>12:30</td>\n",
       "      <td>NaN</td>\n",
       "      <td>NaN</td>\n",
       "      <td>B</td>\n",
       "      <td>0.0</td>\n",
       "      <td>2</td>\n",
       "    </tr>\n",
       "  </tbody>\n",
       "</table>\n",
       "</div>"
      ],
      "text/plain": [
       "           id_reclamo_evento  id_reclamo     TIPO_RECLAMO FECHA_SINI  \\\n",
       "id_evento                                                              \n",
       "1                          1           1  NO TRANSPORTADO   1/1/2019   \n",
       "2                          1           6  NO TRANSPORTADO   1/1/2019   \n",
       "3                          1           9  NO TRANSPORTADO   1/1/2019   \n",
       "4                          1          10  NO TRANSPORTADO   1/1/2019   \n",
       "5                          1          11  NO TRANSPORTADO   1/1/2019   \n",
       "\n",
       "                               LUGAR_OCURRENCIA  COD_POST_OCURRENCIA  \\\n",
       "id_evento                                                              \n",
       "1                                 CEBALLOS 5300              8300001   \n",
       "2                                SOFIA DE LUQUE              5000050   \n",
       "3                                      SAN LUIS              3630009   \n",
       "4                           RUTA PROV 11 KM 322              7107000   \n",
       "5          AV GASPAR CAMPOS  Y AV PRIMERA JUNTA              1663015   \n",
       "\n",
       "          ESTADO_CIVIL FECHA_NAC_ASEG SEXO  OCUPACION_ASEG  MODELO_VEHICULO  \\\n",
       "id_evento                                                                     \n",
       "1                   SO     10/27/1976    M             2.0           2007.0   \n",
       "2                   SO      6/18/1980    F            44.0           2011.0   \n",
       "3                   SO      2/14/1989    F            13.0           2014.0   \n",
       "4                   CA     11/22/1979    M             5.0           2018.0   \n",
       "5                   SO       7/5/1993    F            44.0           2010.0   \n",
       "\n",
       "          FECHA_PROCESO TIPO_ADMINISTRACION  \\\n",
       "id_evento                                     \n",
       "1             1/31/2019                   A   \n",
       "2             1/31/2019                   B   \n",
       "3             1/31/2019                   B   \n",
       "4            12/31/2019                   B   \n",
       "5             1/31/2019                   B   \n",
       "\n",
       "                                               DESCRIP_HECHO HORA_SINI  \\\n",
       "id_evento                                                                \n",
       "1          VH CIRCULANDO POR CALLE CEBALLOS 5300 (NEUQUEN...     01:30   \n",
       "2          ASEG CIRCULABA POR CALLE ALFONSO DE MIRANDO NO...     10:30   \n",
       "3          ASEG INCORPORANDOSE A CIRCULACION LUEGO DE EST...     09:45   \n",
       "4          YO CIRCULABA POR RUTA 11 SENTIDO SUR NORTE. IN...     14:30   \n",
       "5          ASEGURADO DETENIDO PARA DOBLAR EN AV GASPAR CA...     12:30   \n",
       "\n",
       "          LATITUD LONGITUD TIPO_ADMINISTRACION_FIN  target  CANT_RECLAMOS  \n",
       "id_evento                                                                  \n",
       "1             NaN      NaN                       B     0.0              6  \n",
       "2             NaN      NaN                       B     0.0              4  \n",
       "3             NaN      NaN                       A     1.0              2  \n",
       "4             NaN      NaN                       A     1.0              2  \n",
       "5             NaN      NaN                       B     0.0              2  "
      ]
     },
     "execution_count": 11,
     "metadata": {},
     "output_type": "execute_result"
    }
   ],
   "source": [
    "data.head()"
   ]
  },
  {
   "cell_type": "markdown",
   "metadata": {},
   "source": [
    "---\n",
    "### Análisis exploratorio"
   ]
  },
  {
   "cell_type": "code",
   "execution_count": 12,
   "metadata": {},
   "outputs": [
    {
     "data": {
      "text/html": [
       "<div>\n",
       "<style scoped>\n",
       "    .dataframe tbody tr th:only-of-type {\n",
       "        vertical-align: middle;\n",
       "    }\n",
       "\n",
       "    .dataframe tbody tr th {\n",
       "        vertical-align: top;\n",
       "    }\n",
       "\n",
       "    .dataframe thead th {\n",
       "        text-align: right;\n",
       "    }\n",
       "</style>\n",
       "<table border=\"1\" class=\"dataframe\">\n",
       "  <thead>\n",
       "    <tr style=\"text-align: right;\">\n",
       "      <th></th>\n",
       "      <th>unique values</th>\n",
       "      <th>dtype</th>\n",
       "    </tr>\n",
       "  </thead>\n",
       "  <tbody>\n",
       "    <tr>\n",
       "      <th>id_reclamo_evento</th>\n",
       "      <td>8</td>\n",
       "      <td>int64</td>\n",
       "    </tr>\n",
       "    <tr>\n",
       "      <th>id_reclamo</th>\n",
       "      <td>25696</td>\n",
       "      <td>int64</td>\n",
       "    </tr>\n",
       "    <tr>\n",
       "      <th>TIPO_RECLAMO</th>\n",
       "      <td>2</td>\n",
       "      <td>object</td>\n",
       "    </tr>\n",
       "    <tr>\n",
       "      <th>FECHA_SINI</th>\n",
       "      <td>746</td>\n",
       "      <td>object</td>\n",
       "    </tr>\n",
       "    <tr>\n",
       "      <th>LUGAR_OCURRENCIA</th>\n",
       "      <td>27077</td>\n",
       "      <td>object</td>\n",
       "    </tr>\n",
       "    <tr>\n",
       "      <th>COD_POST_OCURRENCIA</th>\n",
       "      <td>2059</td>\n",
       "      <td>int64</td>\n",
       "    </tr>\n",
       "    <tr>\n",
       "      <th>ESTADO_CIVIL</th>\n",
       "      <td>10</td>\n",
       "      <td>object</td>\n",
       "    </tr>\n",
       "    <tr>\n",
       "      <th>FECHA_NAC_ASEG</th>\n",
       "      <td>16492</td>\n",
       "      <td>object</td>\n",
       "    </tr>\n",
       "    <tr>\n",
       "      <th>SEXO</th>\n",
       "      <td>2</td>\n",
       "      <td>object</td>\n",
       "    </tr>\n",
       "    <tr>\n",
       "      <th>OCUPACION_ASEG</th>\n",
       "      <td>47</td>\n",
       "      <td>float64</td>\n",
       "    </tr>\n",
       "    <tr>\n",
       "      <th>MODELO_VEHICULO</th>\n",
       "      <td>60</td>\n",
       "      <td>float64</td>\n",
       "    </tr>\n",
       "    <tr>\n",
       "      <th>FECHA_PROCESO</th>\n",
       "      <td>40</td>\n",
       "      <td>object</td>\n",
       "    </tr>\n",
       "    <tr>\n",
       "      <th>TIPO_ADMINISTRACION</th>\n",
       "      <td>5</td>\n",
       "      <td>object</td>\n",
       "    </tr>\n",
       "    <tr>\n",
       "      <th>DESCRIP_HECHO</th>\n",
       "      <td>28627</td>\n",
       "      <td>object</td>\n",
       "    </tr>\n",
       "    <tr>\n",
       "      <th>HORA_SINI</th>\n",
       "      <td>728</td>\n",
       "      <td>object</td>\n",
       "    </tr>\n",
       "    <tr>\n",
       "      <th>LATITUD</th>\n",
       "      <td>5200</td>\n",
       "      <td>object</td>\n",
       "    </tr>\n",
       "    <tr>\n",
       "      <th>LONGITUD</th>\n",
       "      <td>5159</td>\n",
       "      <td>object</td>\n",
       "    </tr>\n",
       "    <tr>\n",
       "      <th>TIPO_ADMINISTRACION_FIN</th>\n",
       "      <td>5</td>\n",
       "      <td>object</td>\n",
       "    </tr>\n",
       "    <tr>\n",
       "      <th>target</th>\n",
       "      <td>2</td>\n",
       "      <td>float64</td>\n",
       "    </tr>\n",
       "    <tr>\n",
       "      <th>CANT_RECLAMOS</th>\n",
       "      <td>13</td>\n",
       "      <td>int64</td>\n",
       "    </tr>\n",
       "  </tbody>\n",
       "</table>\n",
       "</div>"
      ],
      "text/plain": [
       "                         unique values    dtype\n",
       "id_reclamo_evento                    8    int64\n",
       "id_reclamo                       25696    int64\n",
       "TIPO_RECLAMO                         2   object\n",
       "FECHA_SINI                         746   object\n",
       "LUGAR_OCURRENCIA                 27077   object\n",
       "COD_POST_OCURRENCIA               2059    int64\n",
       "ESTADO_CIVIL                        10   object\n",
       "FECHA_NAC_ASEG                   16492   object\n",
       "SEXO                                 2   object\n",
       "OCUPACION_ASEG                      47  float64\n",
       "MODELO_VEHICULO                     60  float64\n",
       "FECHA_PROCESO                       40   object\n",
       "TIPO_ADMINISTRACION                  5   object\n",
       "DESCRIP_HECHO                    28627   object\n",
       "HORA_SINI                          728   object\n",
       "LATITUD                           5200   object\n",
       "LONGITUD                          5159   object\n",
       "TIPO_ADMINISTRACION_FIN              5   object\n",
       "target                               2  float64\n",
       "CANT_RECLAMOS                       13    int64"
      ]
     },
     "execution_count": 12,
     "metadata": {},
     "output_type": "execute_result"
    }
   ],
   "source": [
    "# Explorar los tipos de valores y la cantidad de valores únicos\n",
    "unique_values = pd.DataFrame(data.nunique(), columns=[\"unique values\"])\n",
    "unique_values[\"dtype\"] = data.dtypes\n",
    "unique_values"
   ]
  },
  {
   "cell_type": "code",
   "execution_count": 13,
   "metadata": {},
   "outputs": [
    {
     "data": {
      "text/html": [
       "<div>\n",
       "<style scoped>\n",
       "    .dataframe tbody tr th:only-of-type {\n",
       "        vertical-align: middle;\n",
       "    }\n",
       "\n",
       "    .dataframe tbody tr th {\n",
       "        vertical-align: top;\n",
       "    }\n",
       "\n",
       "    .dataframe thead th {\n",
       "        text-align: right;\n",
       "    }\n",
       "</style>\n",
       "<table border=\"1\" class=\"dataframe\">\n",
       "  <thead>\n",
       "    <tr style=\"text-align: right;\">\n",
       "      <th></th>\n",
       "      <th>missing</th>\n",
       "    </tr>\n",
       "  </thead>\n",
       "  <tbody>\n",
       "    <tr>\n",
       "      <th>LUGAR_OCURRENCIA</th>\n",
       "      <td>3</td>\n",
       "    </tr>\n",
       "    <tr>\n",
       "      <th>ESTADO_CIVIL</th>\n",
       "      <td>518</td>\n",
       "    </tr>\n",
       "    <tr>\n",
       "      <th>FECHA_NAC_ASEG</th>\n",
       "      <td>204</td>\n",
       "    </tr>\n",
       "    <tr>\n",
       "      <th>OCUPACION_ASEG</th>\n",
       "      <td>24</td>\n",
       "    </tr>\n",
       "    <tr>\n",
       "      <th>MODELO_VEHICULO</th>\n",
       "      <td>1</td>\n",
       "    </tr>\n",
       "    <tr>\n",
       "      <th>LATITUD</th>\n",
       "      <td>23435</td>\n",
       "    </tr>\n",
       "    <tr>\n",
       "      <th>LONGITUD</th>\n",
       "      <td>23435</td>\n",
       "    </tr>\n",
       "  </tbody>\n",
       "</table>\n",
       "</div>"
      ],
      "text/plain": [
       "                  missing\n",
       "LUGAR_OCURRENCIA        3\n",
       "ESTADO_CIVIL          518\n",
       "FECHA_NAC_ASEG        204\n",
       "OCUPACION_ASEG         24\n",
       "MODELO_VEHICULO         1\n",
       "LATITUD             23435\n",
       "LONGITUD            23435"
      ]
     },
     "execution_count": 13,
     "metadata": {},
     "output_type": "execute_result"
    }
   ],
   "source": [
    "# Contar la cantidad de missing values en los datos\n",
    "na_columns = data.columns[data.isna().any()]\n",
    "na_values = pd.DataFrame(\n",
    "    data[na_columns].isna().sum(),\n",
    "    columns=[\"missing\"],\n",
    ")\n",
    "na_values"
   ]
  },
  {
   "cell_type": "code",
   "execution_count": 43,
   "metadata": {},
   "outputs": [
    {
     "data": {
      "image/png": "[encoded data removed]",
      "text/plain": [
       "<Figure size 432x288 with 2 Axes>"
      ]
     },
     "metadata": {
      "needs_background": "light"
     },
     "output_type": "display_data"
    }
   ],
   "source": [
    "# Distribuciones de algunas columnas\n",
    "numeric_columns = [\"MODELO_VEHICULO\", \"CANT_RECLAMOS\"]\n",
    "sns.set_context(\"paper\", font_scale=1.5)\n",
    "_, axs = plt.subplots(nrows=len(numeric_columns))\n",
    "for i, column in enumerate(numeric_columns):\n",
    "    axs[i].hist(data[column], bins=24)\n",
    "    axs[i].set_xlabel(column)\n",
    "    axs[i].spines[\"right\"].set_visible(False)\n",
    "    axs[i].spines[\"top\"].set_visible(False)\n",
    "sns.despine(trim=True)\n",
    "plt.subplots_adjust(hspace=0.5)\n",
    "plt.show()"
   ]
  },
  {
   "cell_type": "code",
   "execution_count": 17,
   "metadata": {},
   "outputs": [
    {
     "data": {
      "image/png": "[encoded data removed]",
      "text/plain": [
       "<Figure size 432x288 with 1 Axes>"
      ]
     },
     "metadata": {
      "needs_background": "light"
     },
     "output_type": "display_data"
    }
   ],
   "source": [
    "# Convertir HORA_SINI a un float con el momento del día\n",
    "data[\"HORA_SINI\"] = (\n",
    "    pd.to_datetime(data[\"HORA_SINI\"], format=\"%H:%M\") - np.datetime64(\"1900-01-01 00:00:00\")\n",
    ") / np.timedelta64(1, \"h\") % 24\n",
    "sns.set_context(\"paper\", font_scale=1.5)\n",
    "plt.hist(data[\"HORA_SINI\"], bins=\"auto\")\n",
    "plt.ylabel(\"Frequency\")\n",
    "plt.xlabel(\"Time of day (hour)\")\n",
    "sns.despine(trim=True)\n",
    "plt.show()"
   ]
  },
  {
   "cell_type": "code",
   "execution_count": 18,
   "metadata": {},
   "outputs": [
    {
     "data": {
      "image/png": "[encoded data removed]",
      "text/plain": [
       "<Figure size 432x288 with 1 Axes>"
      ]
     },
     "metadata": {
      "needs_background": "light"
     },
     "output_type": "display_data"
    }
   ],
   "source": [
    "# Calcular momento en el año a partir de FECHA_SINI\n",
    "data[\"FECHA_SINI_MES\"] = (\n",
    "    pd.to_datetime(data[\"FECHA_SINI\"]) - np.datetime64(\"1900-01-01 00:00:00\")\n",
    ") / np.timedelta64(1, \"M\") % 12 + 1\n",
    "sns.set_context(\"paper\", font_scale=1.5)\n",
    "plt.hist(data[\"FECHA_SINI_MES\"], bins=\"auto\")\n",
    "plt.ylabel(\"Frequency\")\n",
    "plt.xlabel(\"Time of year (month)\")\n",
    "sns.despine(trim=True)\n",
    "plt.show()"
   ]
  },
  {
   "cell_type": "code",
   "execution_count": 19,
   "metadata": {},
   "outputs": [
    {
     "data": {
      "image/png": "[encoded data removed]",
      "text/plain": [
       "<Figure size 432x288 with 1 Axes>"
      ]
     },
     "metadata": {
      "needs_background": "light"
     },
     "output_type": "display_data"
    }
   ],
   "source": [
    "# Calcular día del mes a partir de FECHA_SINI\n",
    "data[\"FECHA_SINI_DIA_MES\"] = pd.to_datetime(data[\"FECHA_SINI\"]).dt.day\n",
    "sns.set_context(\"paper\", font_scale=1.5)\n",
    "plt.hist(data[\"FECHA_SINI_DIA_MES\"], bins=31)\n",
    "plt.ylabel(\"Frequency\")\n",
    "plt.xlabel(\"Time of month (day)\")\n",
    "sns.despine(trim=True)\n",
    "plt.show()"
   ]
  },
  {
   "cell_type": "code",
   "execution_count": 20,
   "metadata": {},
   "outputs": [
    {
     "data": {
      "image/png": "[encoded data removed]",
      "text/plain": [
       "<Figure size 432x288 with 1 Axes>"
      ]
     },
     "metadata": {
      "needs_background": "light"
     },
     "output_type": "display_data"
    }
   ],
   "source": [
    "# Calcular día de la semana a partir de FECHA_SINI (Monday=1)\n",
    "data[\"FECHA_SINI_DIA_SEMANA\"] = pd.to_datetime(data[\"FECHA_SINI\"]).dt.dayofweek + 1\n",
    "sns.set_context(\"paper\", font_scale=1.5)\n",
    "plt.hist(data[\"FECHA_SINI_DIA_SEMANA\"], bins=7)\n",
    "plt.ylabel(\"Frequency\")\n",
    "plt.xlabel(\"Time of week (day)\")\n",
    "sns.despine(trim=True)\n",
    "plt.show()"
   ]
  },
  {
   "cell_type": "code",
   "execution_count": 21,
   "metadata": {},
   "outputs": [
    {
     "data": {
      "image/png": "[encoded data removed]",
      "text/plain": [
       "<Figure size 432x288 with 1 Axes>"
      ]
     },
     "metadata": {
      "needs_background": "light"
     },
     "output_type": "display_data"
    }
   ],
   "source": [
    "# Calcular la diferencia en días entre FECHA_PROCESO y FECHA_SINI\n",
    "data[\"FECHA_PROCESO_DIF\"] = (\n",
    "    pd.to_datetime(data[\"FECHA_PROCESO\"]) - pd.to_datetime(data[\"FECHA_SINI\"])\n",
    ") / np.timedelta64(1, \"D\")\n",
    "sns.set_context(\"paper\", font_scale=1.5)\n",
    "plt.hist(data[\"FECHA_PROCESO_DIF\"], bins=\"auto\")\n",
    "plt.ylabel(\"Frequency\")\n",
    "plt.xlabel(\"Difference (day)\")\n",
    "sns.despine(trim=True)\n",
    "plt.show()"
   ]
  },
  {
   "cell_type": "code",
   "execution_count": 22,
   "metadata": {},
   "outputs": [
    {
     "data": {
      "image/png": "[encoded data removed]",
      "text/plain": [
       "<Figure size 432x288 with 1 Axes>"
      ]
     },
     "metadata": {
      "needs_background": "light"
     },
     "output_type": "display_data"
    }
   ],
   "source": [
    "# Calcular edad del asegurado, tratando edad > 100 como missing\n",
    "data[\"EDAD_ASEG\"] = (\n",
    "    np.datetime64(\"2022-01-01\") - pd.to_datetime(data[\"FECHA_NAC_ASEG\"])\n",
    ") / np.timedelta64(1, 'Y')\n",
    "data.loc[data[\"EDAD_ASEG\"] > 100, \"EDAD_ASEG\"] = np.nan\n",
    "sns.set_context(\"paper\", font_scale=1.5)\n",
    "plt.hist(data[\"EDAD_ASEG\"], bins=\"auto\")\n",
    "plt.ylabel(\"Frequency\")\n",
    "plt.xlabel(\"Age (year)\")\n",
    "sns.despine(trim=True)\n",
    "plt.show()"
   ]
  },
  {
   "cell_type": "code",
   "execution_count": 23,
   "metadata": {},
   "outputs": [
    {
     "data": {
      "text/plain": [
       "Buenos Aires           13520\n",
       "Capital Federal         5552\n",
       "Cordoba                 2050\n",
       "Santa Fe                1255\n",
       "Chaco                    911\n",
       "Tucuman                  717\n",
       "Salta                    580\n",
       "Misiones                 544\n",
       "Formosa                  416\n",
       "Mendoza                  359\n",
       "Entre Rios               278\n",
       "La Pampa                 254\n",
       "San Juan                 230\n",
       "Catamarca                207\n",
       "La Rioja                 178\n",
       "Rio Negro                169\n",
       "Jujuy                    163\n",
       "Santiago Del Estero      150\n",
       "Corrientes               150\n",
       "San Luis                 149\n",
       "Chubut                   130\n",
       "Neuquen                  123\n",
       "Santa Cruz                83\n",
       "Tierra Del Fuego          17\n",
       "Name: PROV_OCURRENCIA, dtype: int64"
      ]
     },
     "execution_count": 23,
     "metadata": {},
     "output_type": "execute_result"
    }
   ],
   "source": [
    "# Convertir el código postal a un distrito de mayor extensión, por ejemplo,\n",
    "# utilizando una tabla para mapear código postal -> provincia\n",
    "zip_codes_data = pd.read_csv(\n",
    "    \"codigos-postales.csv\", sep=\",\", header=0\n",
    ").astype(\"str\").set_index(\"CP\")\n",
    "data[\"PROV_OCURRENCIA\"] = data[\"COD_POST_OCURRENCIA\"].astype(\"str\").str[:4].map(\n",
    "    zip_codes_data[\"Provincia\"].to_dict()\n",
    ")\n",
    "del zip_codes_data\n",
    "data[\"PROV_OCURRENCIA\"].value_counts()"
   ]
  },
  {
   "cell_type": "code",
   "execution_count": 24,
   "metadata": {},
   "outputs": [
    {
     "data": {
      "text/plain": [
       "Otro         15677\n",
       "Avenida       8574\n",
       "Ruta          1945\n",
       "Acceso        1688\n",
       "Autopista     1120\n",
       "Name: LUGAR_OCURRENCIA, dtype: int64"
      ]
     },
     "execution_count": 24,
     "metadata": {},
     "output_type": "execute_result"
    }
   ],
   "source": [
    "# Simplificar LUGAR_OCURRENCIA\n",
    "places_dict = {\n",
    "    \"Avenida\": [\"avenida\", \"avda\", \"av \", \"av.\"],\n",
    "    \"Acceso\": [\"acceso\", \"acc \", \"acc.\", \"ac \", \"ac.\", \"colec\"],\n",
    "    \"Autopista\": [\"autopista\", \"autop \", \"autop.\", \"au \", \"au.\"],\n",
    "    \"Ruta\": [\"ruta\", \"ru \", \"rut \", \"ru.\", \"rut.\"]\n",
    "}\n",
    "lowercase_places = data[\"LUGAR_OCURRENCIA\"].str.lower().copy()\n",
    "data[\"LUGAR_OCURRENCIA\"] = pd.Series(\"Otro\", index=lowercase_places.index)\n",
    "for place, search in places_dict.items():\n",
    "    match = lowercase_places.str.contains(\"|\".join(search)).fillna(False)\n",
    "    data.loc[match, \"LUGAR_OCURRENCIA\"] = place\n",
    "del lowercase_places, places_dict\n",
    "data[\"LUGAR_OCURRENCIA\"].value_counts()"
   ]
  },
  {
   "cell_type": "code",
   "execution_count": 30,
   "metadata": {},
   "outputs": [
    {
     "data": {
      "text/plain": [
       "5        11667\n",
       "999       4115\n",
       "99999     3057\n",
       "44        2339\n",
       "9999      1518\n",
       "13         956\n",
       "8          939\n",
       "28         632\n",
       "1          530\n",
       "25         351\n",
       "Name: OCUPACION_ASEG, dtype: int64"
      ]
     },
     "execution_count": 30,
     "metadata": {},
     "output_type": "execute_result"
    }
   ],
   "source": [
    "# Convertir OCUPACION_ASEG a etiquetas\n",
    "data[\"OCUPACION_ASEG\"] = data[\"OCUPACION_ASEG\"].fillna(0).astype(int).astype(str)\n",
    "data[\"OCUPACION_ASEG\"].value_counts().head(10)"
   ]
  },
  {
   "cell_type": "code",
   "execution_count": 45,
   "metadata": {},
   "outputs": [
    {
     "data": {
      "text/html": [
       "<div>\n",
       "<style scoped>\n",
       "    .dataframe tbody tr th:only-of-type {\n",
       "        vertical-align: middle;\n",
       "    }\n",
       "\n",
       "    .dataframe tbody tr th {\n",
       "        vertical-align: top;\n",
       "    }\n",
       "\n",
       "    .dataframe thead th {\n",
       "        text-align: right;\n",
       "    }\n",
       "</style>\n",
       "<table border=\"1\" class=\"dataframe\">\n",
       "  <thead>\n",
       "    <tr style=\"text-align: right;\">\n",
       "      <th></th>\n",
       "      <th>TIPO_RECLAMO</th>\n",
       "      <th>LUGAR_OCURRENCIA</th>\n",
       "      <th>ESTADO_CIVIL</th>\n",
       "      <th>SEXO</th>\n",
       "      <th>OCUPACION_ASEG</th>\n",
       "      <th>TIPO_ADMINISTRACION</th>\n",
       "      <th>DESCRIP_HECHO</th>\n",
       "      <th>PROV_OCURRENCIA</th>\n",
       "    </tr>\n",
       "  </thead>\n",
       "  <tbody>\n",
       "    <tr>\n",
       "      <th>count</th>\n",
       "      <td>29004</td>\n",
       "      <td>29004</td>\n",
       "      <td>28486</td>\n",
       "      <td>29004</td>\n",
       "      <td>29004</td>\n",
       "      <td>29004</td>\n",
       "      <td>29004</td>\n",
       "      <td>28185</td>\n",
       "    </tr>\n",
       "    <tr>\n",
       "      <th>unique</th>\n",
       "      <td>2</td>\n",
       "      <td>5</td>\n",
       "      <td>10</td>\n",
       "      <td>2</td>\n",
       "      <td>48</td>\n",
       "      <td>5</td>\n",
       "      <td>28627</td>\n",
       "      <td>24</td>\n",
       "    </tr>\n",
       "    <tr>\n",
       "      <th>top</th>\n",
       "      <td>NO TRANSPORTADO</td>\n",
       "      <td>Otro</td>\n",
       "      <td>CA</td>\n",
       "      <td>M</td>\n",
       "      <td>5</td>\n",
       "      <td>A</td>\n",
       "      <td>APERTURA DE OFICIO//   SIN DENUNCIA \\r\\n</td>\n",
       "      <td>Buenos Aires</td>\n",
       "    </tr>\n",
       "    <tr>\n",
       "      <th>freq</th>\n",
       "      <td>27452</td>\n",
       "      <td>15677</td>\n",
       "      <td>13580</td>\n",
       "      <td>21113</td>\n",
       "      <td>11667</td>\n",
       "      <td>11569</td>\n",
       "      <td>73</td>\n",
       "      <td>13520</td>\n",
       "    </tr>\n",
       "  </tbody>\n",
       "</table>\n",
       "</div>"
      ],
      "text/plain": [
       "           TIPO_RECLAMO LUGAR_OCURRENCIA ESTADO_CIVIL   SEXO OCUPACION_ASEG  \\\n",
       "count             29004            29004        28486  29004          29004   \n",
       "unique                2                5           10      2             48   \n",
       "top     NO TRANSPORTADO             Otro           CA      M              5   \n",
       "freq              27452            15677        13580  21113          11667   \n",
       "\n",
       "       TIPO_ADMINISTRACION                             DESCRIP_HECHO  \\\n",
       "count                29004                                     29004   \n",
       "unique                   5                                     28627   \n",
       "top                      A  APERTURA DE OFICIO//   SIN DENUNCIA \\r\\n   \n",
       "freq                 11569                                        73   \n",
       "\n",
       "       PROV_OCURRENCIA  \n",
       "count            28185  \n",
       "unique              24  \n",
       "top       Buenos Aires  \n",
       "freq             13520  "
      ]
     },
     "execution_count": 45,
     "metadata": {},
     "output_type": "execute_result"
    }
   ],
   "source": [
    "# Características de columnas categóricas\n",
    "data.describe(include=\"object\")"
   ]
  },
  {
   "cell_type": "code",
   "execution_count": 31,
   "metadata": {},
   "outputs": [],
   "source": [
    "# Eliminar atributos que no se usen\n",
    "data = data.drop(columns=[\n",
    "    \"id_reclamo_evento\", \"id_reclamo\",\n",
    "    \"TIPO_ADMINISTRACION_FIN\", \"FECHA_PROCESO\", \"FECHA_SINI\", \"FECHA_NAC_ASEG\", \"COD_POST_OCURRENCIA\", # Fueron transformadas a otras columnas\n",
    "    \"LATITUD\", \"LONGITUD\", # Tienen demasiados missing values\n",
    "])"
   ]
  },
  {
   "cell_type": "code",
   "execution_count": 49,
   "metadata": {},
   "outputs": [
    {
     "data": {
      "application/vnd.plotly.v1+json": {
       "config": {
        "plotlyServerURL": "https://plot.ly"
       },
       "data": [
        {
         "alignmentgroup": "True",
         "hovertemplate": "columns=M<br>index=%{x}<br>value=%{y}<extra></extra>",
         "legendgroup": "M",
         "marker": {
          "color": "#4C78A8",
          "pattern": {
           "shape": ""
          }
         },
         "name": "M",
         "offsetgroup": "M",
         "orientation": "v",
         "showlegend": true,
         "textposition": "auto",
         "type": "bar",
         "x": [
          "TIPO_RECLAMO",
          "LUGAR_OCURRENCIA",
          "ESTADO_CIVIL",
          "SEXO",
          "TIPO_ADMINISTRACION"
         ],
         "xaxis": "x",
         "y": [
          0,
          0,
          0,
          21113,
          0
         ],
         "yaxis": "y"
        },
        {
         "alignmentgroup": "True",
         "hovertemplate": "columns=Ruta<br>index=%{x}<br>value=%{y}<extra></extra>",
         "legendgroup": "Ruta",
         "marker": {
          "color": "#F58518",
          "pattern": {
           "shape": ""
          }
         },
         "name": "Ruta",
         "offsetgroup": "Ruta",
         "orientation": "v",
         "showlegend": true,
         "textposition": "auto",
         "type": "bar",
         "x": [
          "TIPO_RECLAMO",
          "LUGAR_OCURRENCIA",
          "ESTADO_CIVIL",
          "SEXO",
          "TIPO_ADMINISTRACION"
         ],
         "xaxis": "x",
         "y": [
          0,
          1945,
          0,
          0,
          0
         ],
         "yaxis": "y"
        },
        {
         "alignmentgroup": "True",
         "hovertemplate": "columns=Acceso<br>index=%{x}<br>value=%{y}<extra></extra>",
         "legendgroup": "Acceso",
         "marker": {
          "color": "#E45756",
          "pattern": {
           "shape": ""
          }
         },
         "name": "Acceso",
         "offsetgroup": "Acceso",
         "orientation": "v",
         "showlegend": true,
         "textposition": "auto",
         "type": "bar",
         "x": [
          "TIPO_RECLAMO",
          "LUGAR_OCURRENCIA",
          "ESTADO_CIVIL",
          "SEXO",
          "TIPO_ADMINISTRACION"
         ],
         "xaxis": "x",
         "y": [
          0,
          1688,
          0,
          0,
          0
         ],
         "yaxis": "y"
        },
        {
         "alignmentgroup": "True",
         "hovertemplate": "columns=Autopista<br>index=%{x}<br>value=%{y}<extra></extra>",
         "legendgroup": "Autopista",
         "marker": {
          "color": "#72B7B2",
          "pattern": {
           "shape": ""
          }
         },
         "name": "Autopista",
         "offsetgroup": "Autopista",
         "orientation": "v",
         "showlegend": true,
         "textposition": "auto",
         "type": "bar",
         "x": [
          "TIPO_RECLAMO",
          "LUGAR_OCURRENCIA",
          "ESTADO_CIVIL",
          "SEXO",
          "TIPO_ADMINISTRACION"
         ],
         "xaxis": "x",
         "y": [
          0,
          1120,
          0,
          0,
          0
         ],
         "yaxis": "y"
        },
        {
         "alignmentgroup": "True",
         "hovertemplate": "columns=NO TRANSPORTADO<br>index=%{x}<br>value=%{y}<extra></extra>",
         "legendgroup": "NO TRANSPORTADO",
         "marker": {
          "color": "#54A24B",
          "pattern": {
           "shape": ""
          }
         },
         "name": "NO TRANSPORTADO",
         "offsetgroup": "NO TRANSPORTADO",
         "orientation": "v",
         "showlegend": true,
         "textposition": "auto",
         "type": "bar",
         "x": [
          "TIPO_RECLAMO",
          "LUGAR_OCURRENCIA",
          "ESTADO_CIVIL",
          "SEXO",
          "TIPO_ADMINISTRACION"
         ],
         "xaxis": "x",
         "y": [
          27452,
          0,
          0,
          0,
          0
         ],
         "yaxis": "y"
        },
        {
         "alignmentgroup": "True",
         "hovertemplate": "columns=Avenida<br>index=%{x}<br>value=%{y}<extra></extra>",
         "legendgroup": "Avenida",
         "marker": {
          "color": "#EECA3B",
          "pattern": {
           "shape": ""
          }
         },
         "name": "Avenida",
         "offsetgroup": "Avenida",
         "orientation": "v",
         "showlegend": true,
         "textposition": "auto",
         "type": "bar",
         "x": [
          "TIPO_RECLAMO",
          "LUGAR_OCURRENCIA",
          "ESTADO_CIVIL",
          "SEXO",
          "TIPO_ADMINISTRACION"
         ],
         "xaxis": "x",
         "y": [
          0,
          8574,
          0,
          0,
          0
         ],
         "yaxis": "y"
        },
        {
         "alignmentgroup": "True",
         "hovertemplate": "columns=Otro<br>index=%{x}<br>value=%{y}<extra></extra>",
         "legendgroup": "Otro",
         "marker": {
          "color": "#B279A2",
          "pattern": {
           "shape": ""
          }
         },
         "name": "Otro",
         "offsetgroup": "Otro",
         "orientation": "v",
         "showlegend": true,
         "textposition": "auto",
         "type": "bar",
         "x": [
          "TIPO_RECLAMO",
          "LUGAR_OCURRENCIA",
          "ESTADO_CIVIL",
          "SEXO",
          "TIPO_ADMINISTRACION"
         ],
         "xaxis": "x",
         "y": [
          0,
          15677,
          0,
          0,
          0
         ],
         "yaxis": "y"
        },
        {
         "alignmentgroup": "True",
         "hovertemplate": "columns=F<br>index=%{x}<br>value=%{y}<extra></extra>",
         "legendgroup": "F",
         "marker": {
          "color": "#FF9DA6",
          "pattern": {
           "shape": ""
          }
         },
         "name": "F",
         "offsetgroup": "F",
         "orientation": "v",
         "showlegend": true,
         "textposition": "auto",
         "type": "bar",
         "x": [
          "TIPO_RECLAMO",
          "LUGAR_OCURRENCIA",
          "ESTADO_CIVIL",
          "SEXO",
          "TIPO_ADMINISTRACION"
         ],
         "xaxis": "x",
         "y": [
          0,
          0,
          0,
          7891,
          0
         ],
         "yaxis": "y"
        },
        {
         "alignmentgroup": "True",
         "hovertemplate": "columns=TRANSPORTADO<br>index=%{x}<br>value=%{y}<extra></extra>",
         "legendgroup": "TRANSPORTADO",
         "marker": {
          "color": "#9D755D",
          "pattern": {
           "shape": ""
          }
         },
         "name": "TRANSPORTADO",
         "offsetgroup": "TRANSPORTADO",
         "orientation": "v",
         "showlegend": true,
         "textposition": "auto",
         "type": "bar",
         "x": [
          "TIPO_RECLAMO",
          "LUGAR_OCURRENCIA",
          "ESTADO_CIVIL",
          "SEXO",
          "TIPO_ADMINISTRACION"
         ],
         "xaxis": "x",
         "y": [
          1552,
          0,
          0,
          0,
          0
         ],
         "yaxis": "y"
        },
        {
         "alignmentgroup": "True",
         "hovertemplate": "columns=SO<br>index=%{x}<br>value=%{y}<extra></extra>",
         "legendgroup": "SO",
         "marker": {
          "color": "#BAB0AC",
          "pattern": {
           "shape": ""
          }
         },
         "name": "SO",
         "offsetgroup": "SO",
         "orientation": "v",
         "showlegend": true,
         "textposition": "auto",
         "type": "bar",
         "x": [
          "TIPO_RECLAMO",
          "LUGAR_OCURRENCIA",
          "ESTADO_CIVIL",
          "SEXO",
          "TIPO_ADMINISTRACION"
         ],
         "xaxis": "x",
         "y": [
          0,
          0,
          13425,
          0,
          0
         ],
         "yaxis": "y"
        },
        {
         "alignmentgroup": "True",
         "hovertemplate": "columns=UC<br>index=%{x}<br>value=%{y}<extra></extra>",
         "legendgroup": "UC",
         "marker": {
          "color": "#4C78A8",
          "pattern": {
           "shape": ""
          }
         },
         "name": "UC",
         "offsetgroup": "UC",
         "orientation": "v",
         "showlegend": true,
         "textposition": "auto",
         "type": "bar",
         "x": [
          "TIPO_RECLAMO",
          "LUGAR_OCURRENCIA",
          "ESTADO_CIVIL",
          "SEXO",
          "TIPO_ADMINISTRACION"
         ],
         "xaxis": "x",
         "y": [
          0,
          0,
          19,
          0,
          0
         ],
         "yaxis": "y"
        },
        {
         "alignmentgroup": "True",
         "hovertemplate": "columns=CO<br>index=%{x}<br>value=%{y}<extra></extra>",
         "legendgroup": "CO",
         "marker": {
          "color": "#F58518",
          "pattern": {
           "shape": ""
          }
         },
         "name": "CO",
         "offsetgroup": "CO",
         "orientation": "v",
         "showlegend": true,
         "textposition": "auto",
         "type": "bar",
         "x": [
          "TIPO_RECLAMO",
          "LUGAR_OCURRENCIA",
          "ESTADO_CIVIL",
          "SEXO",
          "TIPO_ADMINISTRACION"
         ],
         "xaxis": "x",
         "y": [
          0,
          0,
          31,
          0,
          0
         ],
         "yaxis": "y"
        },
        {
         "alignmentgroup": "True",
         "hovertemplate": "columns=NC<br>index=%{x}<br>value=%{y}<extra></extra>",
         "legendgroup": "NC",
         "marker": {
          "color": "#E45756",
          "pattern": {
           "shape": ""
          }
         },
         "name": "NC",
         "offsetgroup": "NC",
         "orientation": "v",
         "showlegend": true,
         "textposition": "auto",
         "type": "bar",
         "x": [
          "TIPO_RECLAMO",
          "LUGAR_OCURRENCIA",
          "ESTADO_CIVIL",
          "SEXO",
          "TIPO_ADMINISTRACION"
         ],
         "xaxis": "x",
         "y": [
          0,
          0,
          34,
          0,
          0
         ],
         "yaxis": "y"
        },
        {
         "alignmentgroup": "True",
         "hovertemplate": "columns=SE<br>index=%{x}<br>value=%{y}<extra></extra>",
         "legendgroup": "SE",
         "marker": {
          "color": "#72B7B2",
          "pattern": {
           "shape": ""
          }
         },
         "name": "SE",
         "offsetgroup": "SE",
         "orientation": "v",
         "showlegend": true,
         "textposition": "auto",
         "type": "bar",
         "x": [
          "TIPO_RECLAMO",
          "LUGAR_OCURRENCIA",
          "ESTADO_CIVIL",
          "SEXO",
          "TIPO_ADMINISTRACION"
         ],
         "xaxis": "x",
         "y": [
          0,
          0,
          144,
          0,
          0
         ],
         "yaxis": "y"
        },
        {
         "alignmentgroup": "True",
         "hovertemplate": "columns=UL<br>index=%{x}<br>value=%{y}<extra></extra>",
         "legendgroup": "UL",
         "marker": {
          "color": "#54A24B",
          "pattern": {
           "shape": ""
          }
         },
         "name": "UL",
         "offsetgroup": "UL",
         "orientation": "v",
         "showlegend": true,
         "textposition": "auto",
         "type": "bar",
         "x": [
          "TIPO_RECLAMO",
          "LUGAR_OCURRENCIA",
          "ESTADO_CIVIL",
          "SEXO",
          "TIPO_ADMINISTRACION"
         ],
         "xaxis": "x",
         "y": [
          0,
          0,
          216,
          0,
          0
         ],
         "yaxis": "y"
        },
        {
         "alignmentgroup": "True",
         "hovertemplate": "columns=VI<br>index=%{x}<br>value=%{y}<extra></extra>",
         "legendgroup": "VI",
         "marker": {
          "color": "#EECA3B",
          "pattern": {
           "shape": ""
          }
         },
         "name": "VI",
         "offsetgroup": "VI",
         "orientation": "v",
         "showlegend": true,
         "textposition": "auto",
         "type": "bar",
         "x": [
          "TIPO_RECLAMO",
          "LUGAR_OCURRENCIA",
          "ESTADO_CIVIL",
          "SEXO",
          "TIPO_ADMINISTRACION"
         ],
         "xaxis": "x",
         "y": [
          0,
          0,
          237,
          0,
          0
         ],
         "yaxis": "y"
        },
        {
         "alignmentgroup": "True",
         "hovertemplate": "columns=DI<br>index=%{x}<br>value=%{y}<extra></extra>",
         "legendgroup": "DI",
         "marker": {
          "color": "#B279A2",
          "pattern": {
           "shape": ""
          }
         },
         "name": "DI",
         "offsetgroup": "DI",
         "orientation": "v",
         "showlegend": true,
         "textposition": "auto",
         "type": "bar",
         "x": [
          "TIPO_RECLAMO",
          "LUGAR_OCURRENCIA",
          "ESTADO_CIVIL",
          "SEXO",
          "TIPO_ADMINISTRACION"
         ],
         "xaxis": "x",
         "y": [
          0,
          0,
          793,
          0,
          0
         ],
         "yaxis": "y"
        },
        {
         "alignmentgroup": "True",
         "hovertemplate": "columns=NO<br>index=%{x}<br>value=%{y}<extra></extra>",
         "legendgroup": "NO",
         "marker": {
          "color": "#FF9DA6",
          "pattern": {
           "shape": ""
          }
         },
         "name": "NO",
         "offsetgroup": "NO",
         "orientation": "v",
         "showlegend": true,
         "textposition": "auto",
         "type": "bar",
         "x": [
          "TIPO_RECLAMO",
          "LUGAR_OCURRENCIA",
          "ESTADO_CIVIL",
          "SEXO",
          "TIPO_ADMINISTRACION"
         ],
         "xaxis": "x",
         "y": [
          0,
          0,
          7,
          0,
          0
         ],
         "yaxis": "y"
        },
        {
         "alignmentgroup": "True",
         "hovertemplate": "columns=CA<br>index=%{x}<br>value=%{y}<extra></extra>",
         "legendgroup": "CA",
         "marker": {
          "color": "#9D755D",
          "pattern": {
           "shape": ""
          }
         },
         "name": "CA",
         "offsetgroup": "CA",
         "orientation": "v",
         "showlegend": true,
         "textposition": "auto",
         "type": "bar",
         "x": [
          "TIPO_RECLAMO",
          "LUGAR_OCURRENCIA",
          "ESTADO_CIVIL",
          "SEXO",
          "TIPO_ADMINISTRACION"
         ],
         "xaxis": "x",
         "y": [
          0,
          0,
          13580,
          0,
          0
         ],
         "yaxis": "y"
        },
        {
         "alignmentgroup": "True",
         "hovertemplate": "columns=S<br>index=%{x}<br>value=%{y}<extra></extra>",
         "legendgroup": "S",
         "marker": {
          "color": "#BAB0AC",
          "pattern": {
           "shape": ""
          }
         },
         "name": "S",
         "offsetgroup": "S",
         "orientation": "v",
         "showlegend": true,
         "textposition": "auto",
         "type": "bar",
         "x": [
          "TIPO_RECLAMO",
          "LUGAR_OCURRENCIA",
          "ESTADO_CIVIL",
          "SEXO",
          "TIPO_ADMINISTRACION"
         ],
         "xaxis": "x",
         "y": [
          0,
          0,
          0,
          0,
          80
         ],
         "yaxis": "y"
        },
        {
         "alignmentgroup": "True",
         "hovertemplate": "columns=D<br>index=%{x}<br>value=%{y}<extra></extra>",
         "legendgroup": "D",
         "marker": {
          "color": "#4C78A8",
          "pattern": {
           "shape": ""
          }
         },
         "name": "D",
         "offsetgroup": "D",
         "orientation": "v",
         "showlegend": true,
         "textposition": "auto",
         "type": "bar",
         "x": [
          "TIPO_RECLAMO",
          "LUGAR_OCURRENCIA",
          "ESTADO_CIVIL",
          "SEXO",
          "TIPO_ADMINISTRACION"
         ],
         "xaxis": "x",
         "y": [
          0,
          0,
          0,
          0,
          1834
         ],
         "yaxis": "y"
        },
        {
         "alignmentgroup": "True",
         "hovertemplate": "columns=C<br>index=%{x}<br>value=%{y}<extra></extra>",
         "legendgroup": "C",
         "marker": {
          "color": "#F58518",
          "pattern": {
           "shape": ""
          }
         },
         "name": "C",
         "offsetgroup": "C",
         "orientation": "v",
         "showlegend": true,
         "textposition": "auto",
         "type": "bar",
         "x": [
          "TIPO_RECLAMO",
          "LUGAR_OCURRENCIA",
          "ESTADO_CIVIL",
          "SEXO",
          "TIPO_ADMINISTRACION"
         ],
         "xaxis": "x",
         "y": [
          0,
          0,
          0,
          0,
          4838
         ],
         "yaxis": "y"
        },
        {
         "alignmentgroup": "True",
         "hovertemplate": "columns=B<br>index=%{x}<br>value=%{y}<extra></extra>",
         "legendgroup": "B",
         "marker": {
          "color": "#E45756",
          "pattern": {
           "shape": ""
          }
         },
         "name": "B",
         "offsetgroup": "B",
         "orientation": "v",
         "showlegend": true,
         "textposition": "auto",
         "type": "bar",
         "x": [
          "TIPO_RECLAMO",
          "LUGAR_OCURRENCIA",
          "ESTADO_CIVIL",
          "SEXO",
          "TIPO_ADMINISTRACION"
         ],
         "xaxis": "x",
         "y": [
          0,
          0,
          0,
          0,
          10683
         ],
         "yaxis": "y"
        },
        {
         "alignmentgroup": "True",
         "hovertemplate": "columns=A<br>index=%{x}<br>value=%{y}<extra></extra>",
         "legendgroup": "A",
         "marker": {
          "color": "#72B7B2",
          "pattern": {
           "shape": ""
          }
         },
         "name": "A",
         "offsetgroup": "A",
         "orientation": "v",
         "showlegend": true,
         "textposition": "auto",
         "type": "bar",
         "x": [
          "TIPO_RECLAMO",
          "LUGAR_OCURRENCIA",
          "ESTADO_CIVIL",
          "SEXO",
          "TIPO_ADMINISTRACION"
         ],
         "xaxis": "x",
         "y": [
          0,
          0,
          0,
          0,
          11569
         ],
         "yaxis": "y"
        }
       ],
       "layout": {
        "barmode": "relative",
        "font": {
         "color": "black"
        },
        "legend": {
         "title": {
          "text": "Possible values"
         },
         "tracegroupgap": 0
        },
        "margin": {
         "t": 60
        },
        "plot_bgcolor": "white",
        "template": {
         "data": {
          "bar": [
           {
            "error_x": {
             "color": "#2a3f5f"
            },
            "error_y": {
             "color": "#2a3f5f"
            },
            "marker": {
             "line": {
              "color": "#E5ECF6",
              "width": 0.5
             },
             "pattern": {
              "fillmode": "overlay",
              "size": 10,
              "solidity": 0.2
             }
            },
            "type": "bar"
           }
          ],
          "barpolar": [
           {
            "marker": {
             "line": {
              "color": "#E5ECF6",
              "width": 0.5
             },
             "pattern": {
              "fillmode": "overlay",
              "size": 10,
              "solidity": 0.2
             }
            },
            "type": "barpolar"
           }
          ],
          "carpet": [
           {
            "aaxis": {
             "endlinecolor": "#2a3f5f",
             "gridcolor": "white",
             "linecolor": "white",
             "minorgridcolor": "white",
             "startlinecolor": "#2a3f5f"
            },
            "baxis": {
             "endlinecolor": "#2a3f5f",
             "gridcolor": "white",
             "linecolor": "white",
             "minorgridcolor": "white",
             "startlinecolor": "#2a3f5f"
            },
            "type": "carpet"
           }
          ],
          "choropleth": [
           {
            "colorbar": {
             "outlinewidth": 0,
             "ticks": ""
            },
            "type": "choropleth"
           }
          ],
          "contour": [
           {
            "colorbar": {
             "outlinewidth": 0,
             "ticks": ""
            },
            "colorscale": [
             [
              0,
              "#0d0887"
             ],
             [
              0.1111111111111111,
              "#46039f"
             ],
             [
              0.2222222222222222,
              "#7201a8"
             ],
             [
              0.3333333333333333,
              "#9c179e"
             ],
             [
              0.4444444444444444,
              "#bd3786"
             ],
             [
              0.5555555555555556,
              "#d8576b"
             ],
             [
              0.6666666666666666,
              "#ed7953"
             ],
             [
              0.7777777777777778,
              "#fb9f3a"
             ],
             [
              0.8888888888888888,
              "#fdca26"
             ],
             [
              1,
              "#f0f921"
             ]
            ],
            "type": "contour"
           }
          ],
          "contourcarpet": [
           {
            "colorbar": {
             "outlinewidth": 0,
             "ticks": ""
            },
            "type": "contourcarpet"
           }
          ],
          "heatmap": [
           {
            "colorbar": {
             "outlinewidth": 0,
             "ticks": ""
            },
            "colorscale": [
             [
              0,
              "#0d0887"
             ],
             [
              0.1111111111111111,
              "#46039f"
             ],
             [
              0.2222222222222222,
              "#7201a8"
             ],
             [
              0.3333333333333333,
              "#9c179e"
             ],
             [
              0.4444444444444444,
              "#bd3786"
             ],
             [
              0.5555555555555556,
              "#d8576b"
             ],
             [
              0.6666666666666666,
              "#ed7953"
             ],
             [
              0.7777777777777778,
              "#fb9f3a"
             ],
             [
              0.8888888888888888,
              "#fdca26"
             ],
             [
              1,
              "#f0f921"
             ]
            ],
            "type": "heatmap"
           }
          ],
          "heatmapgl": [
           {
            "colorbar": {
             "outlinewidth": 0,
             "ticks": ""
            },
            "colorscale": [
             [
              0,
              "#0d0887"
             ],
             [
              0.1111111111111111,
              "#46039f"
             ],
             [
              0.2222222222222222,
              "#7201a8"
             ],
             [
              0.3333333333333333,
              "#9c179e"
             ],
             [
              0.4444444444444444,
              "#bd3786"
             ],
             [
              0.5555555555555556,
              "#d8576b"
             ],
             [
              0.6666666666666666,
              "#ed7953"
             ],
             [
              0.7777777777777778,
              "#fb9f3a"
             ],
             [
              0.8888888888888888,
              "#fdca26"
             ],
             [
              1,
              "#f0f921"
             ]
            ],
            "type": "heatmapgl"
           }
          ],
          "histogram": [
           {
            "marker": {
             "pattern": {
              "fillmode": "overlay",
              "size": 10,
              "solidity": 0.2
             }
            },
            "type": "histogram"
           }
          ],
          "histogram2d": [
           {
            "colorbar": {
             "outlinewidth": 0,
             "ticks": ""
            },
            "colorscale": [
             [
              0,
              "#0d0887"
             ],
             [
              0.1111111111111111,
              "#46039f"
             ],
             [
              0.2222222222222222,
              "#7201a8"
             ],
             [
              0.3333333333333333,
              "#9c179e"
             ],
             [
              0.4444444444444444,
              "#bd3786"
             ],
             [
              0.5555555555555556,
              "#d8576b"
             ],
             [
              0.6666666666666666,
              "#ed7953"
             ],
             [
              0.7777777777777778,
              "#fb9f3a"
             ],
             [
              0.8888888888888888,
              "#fdca26"
             ],
             [
              1,
              "#f0f921"
             ]
            ],
            "type": "histogram2d"
           }
          ],
          "histogram2dcontour": [
           {
            "colorbar": {
             "outlinewidth": 0,
             "ticks": ""
            },
            "colorscale": [
             [
              0,
              "#0d0887"
             ],
             [
              0.1111111111111111,
              "#46039f"
             ],
             [
              0.2222222222222222,
              "#7201a8"
             ],
             [
              0.3333333333333333,
              "#9c179e"
             ],
             [
              0.4444444444444444,
              "#bd3786"
             ],
             [
              0.5555555555555556,
              "#d8576b"
             ],
             [
              0.6666666666666666,
              "#ed7953"
             ],
             [
              0.7777777777777778,
              "#fb9f3a"
             ],
             [
              0.8888888888888888,
              "#fdca26"
             ],
             [
              1,
              "#f0f921"
             ]
            ],
            "type": "histogram2dcontour"
           }
          ],
          "mesh3d": [
           {
            "colorbar": {
             "outlinewidth": 0,
             "ticks": ""
            },
            "type": "mesh3d"
           }
          ],
          "parcoords": [
           {
            "line": {
             "colorbar": {
              "outlinewidth": 0,
              "ticks": ""
             }
            },
            "type": "parcoords"
           }
          ],
          "pie": [
           {
            "automargin": true,
            "type": "pie"
           }
          ],
          "scatter": [
           {
            "marker": {
             "colorbar": {
              "outlinewidth": 0,
              "ticks": ""
             }
            },
            "type": "scatter"
           }
          ],
          "scatter3d": [
           {
            "line": {
             "colorbar": {
              "outlinewidth": 0,
              "ticks": ""
             }
            },
            "marker": {
             "colorbar": {
              "outlinewidth": 0,
              "ticks": ""
             }
            },
            "type": "scatter3d"
           }
          ],
          "scattercarpet": [
           {
            "marker": {
             "colorbar": {
              "outlinewidth": 0,
              "ticks": ""
             }
            },
            "type": "scattercarpet"
           }
          ],
          "scattergeo": [
           {
            "marker": {
             "colorbar": {
              "outlinewidth": 0,
              "ticks": ""
             }
            },
            "type": "scattergeo"
           }
          ],
          "scattergl": [
           {
            "marker": {
             "colorbar": {
              "outlinewidth": 0,
              "ticks": ""
             }
            },
            "type": "scattergl"
           }
          ],
          "scattermapbox": [
           {
            "marker": {
             "colorbar": {
              "outlinewidth": 0,
              "ticks": ""
             }
            },
            "type": "scattermapbox"
           }
          ],
          "scatterpolar": [
           {
            "marker": {
             "colorbar": {
              "outlinewidth": 0,
              "ticks": ""
             }
            },
            "type": "scatterpolar"
           }
          ],
          "scatterpolargl": [
           {
            "marker": {
             "colorbar": {
              "outlinewidth": 0,
              "ticks": ""
             }
            },
            "type": "scatterpolargl"
           }
          ],
          "scatterternary": [
           {
            "marker": {
             "colorbar": {
              "outlinewidth": 0,
              "ticks": ""
             }
            },
            "type": "scatterternary"
           }
          ],
          "surface": [
           {
            "colorbar": {
             "outlinewidth": 0,
             "ticks": ""
            },
            "colorscale": [
             [
              0,
              "#0d0887"
             ],
             [
              0.1111111111111111,
              "#46039f"
             ],
             [
              0.2222222222222222,
              "#7201a8"
             ],
             [
              0.3333333333333333,
              "#9c179e"
             ],
             [
              0.4444444444444444,
              "#bd3786"
             ],
             [
              0.5555555555555556,
              "#d8576b"
             ],
             [
              0.6666666666666666,
              "#ed7953"
             ],
             [
              0.7777777777777778,
              "#fb9f3a"
             ],
             [
              0.8888888888888888,
              "#fdca26"
             ],
             [
              1,
              "#f0f921"
             ]
            ],
            "type": "surface"
           }
          ],
          "table": [
           {
            "cells": {
             "fill": {
              "color": "#EBF0F8"
             },
             "line": {
              "color": "white"
             }
            },
            "header": {
             "fill": {
              "color": "#C8D4E3"
             },
             "line": {
              "color": "white"
             }
            },
            "type": "table"
           }
          ]
         },
         "layout": {
          "annotationdefaults": {
           "arrowcolor": "#2a3f5f",
           "arrowhead": 0,
           "arrowwidth": 1
          },
          "autotypenumbers": "strict",
          "coloraxis": {
           "colorbar": {
            "outlinewidth": 0,
            "ticks": ""
           }
          },
          "colorscale": {
           "diverging": [
            [
             0,
             "#8e0152"
            ],
            [
             0.1,
             "#c51b7d"
            ],
            [
             0.2,
             "#de77ae"
            ],
            [
             0.3,
             "#f1b6da"
            ],
            [
             0.4,
             "#fde0ef"
            ],
            [
             0.5,
             "#f7f7f7"
            ],
            [
             0.6,
             "#e6f5d0"
            ],
            [
             0.7,
             "#b8e186"
            ],
            [
             0.8,
             "#7fbc41"
            ],
            [
             0.9,
             "#4d9221"
            ],
            [
             1,
             "#276419"
            ]
           ],
           "sequential": [
            [
             0,
             "#0d0887"
            ],
            [
             0.1111111111111111,
             "#46039f"
            ],
            [
             0.2222222222222222,
             "#7201a8"
            ],
            [
             0.3333333333333333,
             "#9c179e"
            ],
            [
             0.4444444444444444,
             "#bd3786"
            ],
            [
             0.5555555555555556,
             "#d8576b"
            ],
            [
             0.6666666666666666,
             "#ed7953"
            ],
            [
             0.7777777777777778,
             "#fb9f3a"
            ],
            [
             0.8888888888888888,
             "#fdca26"
            ],
            [
             1,
             "#f0f921"
            ]
           ],
           "sequentialminus": [
            [
             0,
             "#0d0887"
            ],
            [
             0.1111111111111111,
             "#46039f"
            ],
            [
             0.2222222222222222,
             "#7201a8"
            ],
            [
             0.3333333333333333,
             "#9c179e"
            ],
            [
             0.4444444444444444,
             "#bd3786"
            ],
            [
             0.5555555555555556,
             "#d8576b"
            ],
            [
             0.6666666666666666,
             "#ed7953"
            ],
            [
             0.7777777777777778,
             "#fb9f3a"
            ],
            [
             0.8888888888888888,
             "#fdca26"
            ],
            [
             1,
             "#f0f921"
            ]
           ]
          },
          "colorway": [
           "#636efa",
           "#EF553B",
           "#00cc96",
           "#ab63fa",
           "#FFA15A",
           "#19d3f3",
           "#FF6692",
           "#B6E880",
           "#FF97FF",
           "#FECB52"
          ],
          "font": {
           "color": "#2a3f5f"
          },
          "geo": {
           "bgcolor": "white",
           "lakecolor": "white",
           "landcolor": "#E5ECF6",
           "showlakes": true,
           "showland": true,
           "subunitcolor": "white"
          },
          "hoverlabel": {
           "align": "left"
          },
          "hovermode": "closest",
          "mapbox": {
           "style": "light"
          },
          "paper_bgcolor": "white",
          "plot_bgcolor": "#E5ECF6",
          "polar": {
           "angularaxis": {
            "gridcolor": "white",
            "linecolor": "white",
            "ticks": ""
           },
           "bgcolor": "#E5ECF6",
           "radialaxis": {
            "gridcolor": "white",
            "linecolor": "white",
            "ticks": ""
           }
          },
          "scene": {
           "xaxis": {
            "backgroundcolor": "#E5ECF6",
            "gridcolor": "white",
            "gridwidth": 2,
            "linecolor": "white",
            "showbackground": true,
            "ticks": "",
            "zerolinecolor": "white"
           },
           "yaxis": {
            "backgroundcolor": "#E5ECF6",
            "gridcolor": "white",
            "gridwidth": 2,
            "linecolor": "white",
            "showbackground": true,
            "ticks": "",
            "zerolinecolor": "white"
           },
           "zaxis": {
            "backgroundcolor": "#E5ECF6",
            "gridcolor": "white",
            "gridwidth": 2,
            "linecolor": "white",
            "showbackground": true,
            "ticks": "",
            "zerolinecolor": "white"
           }
          },
          "shapedefaults": {
           "line": {
            "color": "#2a3f5f"
           }
          },
          "ternary": {
           "aaxis": {
            "gridcolor": "white",
            "linecolor": "white",
            "ticks": ""
           },
           "baxis": {
            "gridcolor": "white",
            "linecolor": "white",
            "ticks": ""
           },
           "bgcolor": "#E5ECF6",
           "caxis": {
            "gridcolor": "white",
            "linecolor": "white",
            "ticks": ""
           }
          },
          "title": {
           "x": 0.05
          },
          "xaxis": {
           "automargin": true,
           "gridcolor": "white",
           "linecolor": "white",
           "ticks": "",
           "title": {
            "standoff": 15
           },
           "zerolinecolor": "white",
           "zerolinewidth": 2
          },
          "yaxis": {
           "automargin": true,
           "gridcolor": "white",
           "linecolor": "white",
           "ticks": "",
           "title": {
            "standoff": 15
           },
           "zerolinecolor": "white",
           "zerolinewidth": 2
          }
         }
        },
        "xaxis": {
         "anchor": "y",
         "domain": [
          0,
          1
         ],
         "tickangle": -45,
         "title": {
          "text": "Categorical Columns"
         }
        },
        "yaxis": {
         "anchor": "x",
         "domain": [
          0,
          1
         ],
         "title": {
          "text": "Count"
         }
        }
       }
      }
     },
     "metadata": {},
     "output_type": "display_data"
    }
   ],
   "source": [
    "# Veamos algunas columnas categóricas\n",
    "show_categorical_columns = data.columns[data.dtypes==\"object\"]\n",
    "show_categorical_columns = show_categorical_columns[data[show_categorical_columns].nunique() < 20]\n",
    "data_cuentas = pd.crosstab(**data[show_categorical_columns].melt(var_name=\"index\", value_name=\"columns\"))\n",
    "data_cuentas = data_cuentas.reindex(show_categorical_columns)\n",
    "for i in data_cuentas.index:\n",
    "    \"\"\"Sort row i by column values\"\"\"\n",
    "    data_cuentas = data_cuentas[data_cuentas.columns[data_cuentas.loc[i].argsort()]]\n",
    "fig = px.bar(\n",
    "    data_cuentas,\n",
    "    x = data_cuentas.index,\n",
    "    y = data_cuentas.columns,\n",
    "    color_discrete_sequence=px.colors.qualitative.T10\n",
    ")\n",
    "fig.update_layout(\n",
    "    xaxis_tickangle=-45,\n",
    "    xaxis_title=\"Categorical Columns\",\n",
    "    yaxis_title=\"Count\",\n",
    "    legend_title_text=\"Possible values\",\n",
    "    font_color=\"black\",\n",
    "    plot_bgcolor=\"white\",\n",
    ")\n",
    "fig.show()"
   ]
  },
  {
   "cell_type": "markdown",
   "metadata": {},
   "source": [
    "Benchmark"
   ]
  },
  {
   "cell_type": "code",
   "execution_count": 29,
   "metadata": {},
   "outputs": [
    {
     "data": {
      "text/plain": [
       "0.9048751896290167"
      ]
     },
     "execution_count": 29,
     "metadata": {},
     "output_type": "execute_result"
    }
   ],
   "source": [
    "(data.TIPO_ADMINISTRACION.map(target_dict) == data.target).mean()"
   ]
  },
  {
   "cell_type": "markdown",
   "metadata": {},
   "source": [
    "Nuestro modelo necesita una precisión mayor al 90.5%, para ser considerado mejor que este benchmark."
   ]
  },
  {
   "cell_type": "markdown",
   "metadata": {},
   "source": [
    "---\n",
    "### Conjuntos de entrenamiento y de prueba"
   ]
  },
  {
   "cell_type": "code",
   "execution_count": 33,
   "metadata": {},
   "outputs": [],
   "source": [
    "# Dividir los datos en conjuntos de train y test\n",
    "[\n",
    "    idx_train, idx_test,\n",
    "    X_train, X_test,\n",
    "    y_train, y_test\n",
    "] = train_test_split(\n",
    "    data.index,\n",
    "    data.drop(columns=[\"target\"]),\n",
    "    data[\"target\"],\n",
    "    test_size=0.2,\n",
    "    random_state=42\n",
    ")"
   ]
  },
  {
   "cell_type": "code",
   "execution_count": null,
   "metadata": {},
   "outputs": [],
   "source": [
    "# Named Entity Recognition, Tokenizer, SpellChecker y Stemmer\n",
    "ner = Pipeline(lang=\"es\", processors=\"tokenize, ner\", verbose=False, use_gpu=False) # Lo estoy corriendo en una laptop sin GPU, lo podría correr en Google Colab para aprovechar su GPU\n",
    "tokenizer = RegexpTokenizer(r\"[a-zA-Z]+\")\n",
    "spell = SpellChecker(distance=3, language=\"es\")\n",
    "stemmer = SnowballStemmer(\"spanish\")"
   ]
  },
  {
   "cell_type": "code",
   "execution_count": 78,
   "metadata": {},
   "outputs": [],
   "source": [
    "# Pipeline de procesamiento de texto\n",
    "def nlp_pipeline(words, ner, tokenizer, spell, stemmer):\n",
    "    \"\"\"Procesamiento de texto.\"\"\"\n",
    "    # Remover Named Entities (nombres propios de lugares, personas, organizaciones y miscelánea)\n",
    "    i = 0\n",
    "    new_words = \"\"\n",
    "    for entity in ner(words).ents:\n",
    "        new_words += words[i:entity.start_char]\n",
    "        i = entity.end_char\n",
    "    new_words += words[i:]\n",
    "\n",
    "    # Cambiar a minúsculas\n",
    "    new_words = new_words.lower()\n",
    "\n",
    "    # Remover números, puntuación y separar en palabras\n",
    "    new_words = tokenizer.tokenize(new_words)\n",
    "\n",
    "    # Corrección ortográfica\n",
    "    new_words = [word if word in spell else spell.correction(word) for word in new_words]\n",
    "\n",
    "    # Remover stop words\n",
    "    new_words = [word for word in new_words if word not in set(stopwords.words(\"spanish\"))]\n",
    "\n",
    "    # Obtener stems\n",
    "    new_words = [stemmer.stem(word) for word in new_words]\n",
    "\n",
    "    return new_words"
   ]
  },
  {
   "cell_type": "code",
   "execution_count": 79,
   "metadata": {},
   "outputs": [],
   "source": [
    "from nltk import everygrams\n",
    "from nltk.classify import NaiveBayesClassifier\n",
    "from nltk.classify.util import accuracy"
   ]
  },
  {
   "cell_type": "code",
   "execution_count": 84,
   "metadata": {},
   "outputs": [
    {
     "data": {
      "text/plain": [
       "8"
      ]
     },
     "execution_count": 84,
     "metadata": {},
     "output_type": "execute_result"
    }
   ],
   "source": [
    "import multiprocessing as mp\n",
    "mp.cpu_count()"
   ]
  },
  {
   "cell_type": "code",
   "execution_count": 80,
   "metadata": {},
   "outputs": [],
   "source": [
    "# Calcular ngrams\n",
    "def ngram_features(words, n):\n",
    "    \"\"\"Retorna ngrams observados en words, desde orden 1 hasta n.\"\"\"\n",
    "    return {ngram: True for ngram in everygrams(words, 1, n)}"
   ]
  },
  {
   "cell_type": "code",
   "execution_count": 82,
   "metadata": {},
   "outputs": [],
   "source": [
    "ejemplos = data[[\"DESCRIP_HECHO\", \"target\"]].sample(n=100, random_state=42)\n",
    "\n",
    "n_ngram = 5\n",
    "\n",
    "nlp = lambda x: ngram_features(nlp_pipeline(x, ner, tokenizer, spell, stemmer), n_ngram)\n",
    "label_dict = {0: \"negative\", 1: \"positive\"}\n",
    "\n",
    "# Tengo que crear los ngram features para las muestra de train y test\n",
    "# Tienen la forma\n",
    "# features.append((create_ngram_features(words, n), \"positive\"))\n",
    "\n",
    "ngrams_label = ejemplos.copy()\n",
    "ngrams_label[\"DESCRIP_HECHO\"] = ngrams_label[\"DESCRIP_HECHO\"].map(nlp)\n",
    "ngrams_label_tuples = []\n",
    "for i in ngrams_label.index:\n",
    "    ngrams_label_tuples.append(\n",
    "        (\n",
    "            nlp(ngrams_label[\"DESCRIP_HECHO\"][i]),\n",
    "            label_dict[ngrams_label[\"target\"][i]]\n",
    "        )\n",
    "    )\n",
    "\n",
    "# classifier = NaiveBayesClassifier.train(train_set)\n",
    "\n",
    "# accuracy = nltk.classify.util.accuracy(classifier, test_set)\n",
    "# print('1-gram to', str(n_ngram)+'-gram accuracy:', accuracy)"
   ]
  },
  {
   "cell_type": "code",
   "execution_count": 100,
   "metadata": {},
   "outputs": [],
   "source": [
    "ngrams_label_tuples = [\n",
    "    (ngrams_label.DESCRIP_HECHO[i], label_dict[ngrams_label[\"target\"][i]])\n",
    "    for i in ngrams_label.index\n",
    "]"
   ]
  },
  {
   "cell_type": "code",
   "execution_count": 107,
   "metadata": {},
   "outputs": [],
   "source": [
    "classifier = NaiveBayesClassifier.train(ngrams_label_tuples[:95])"
   ]
  },
  {
   "cell_type": "code",
   "execution_count": 108,
   "metadata": {},
   "outputs": [
    {
     "data": {
      "text/plain": [
       "0.8"
      ]
     },
     "execution_count": 108,
     "metadata": {},
     "output_type": "execute_result"
    }
   ],
   "source": [
    "accuracy(classifier, ngrams_label_tuples[95:])"
   ]
  },
  {
   "cell_type": "markdown",
   "metadata": {},
   "source": [
    "---\n",
    "### Implementación de modelos de clasificación"
   ]
  },
  {
   "cell_type": "code",
   "execution_count": 11,
   "metadata": {},
   "outputs": [],
   "source": [
    "# Preprocesamiento\n",
    "one_hot_preprocessor = ColumnTransformer([\n",
    "    (\"one-hot-encoder\", OneHotEncoder(), categorical_columns),\n",
    "    (\"robust-scaler\", RobustScaler(), numeric_columns),\n",
    "])\n",
    "ordinal_preprocessor = ColumnTransformer([\n",
    "    (\"ordinal-encoder\", OrdinalEncoder(), categorical_columns),\n",
    "    (\"identity\", \"passthrough\", numeric_columns)\n",
    "])"
   ]
  },
  {
   "cell_type": "code",
   "execution_count": 12,
   "metadata": {},
   "outputs": [],
   "source": [
    "# Modelo Regresión Logística\n",
    "model_lr = make_pipeline(one_hot_preprocessor, LogisticRegression(max_iter=1000))\n",
    "model_lr.fit(X_train, y_train)\n",
    "y_pred_lr = model_lr.predict(X_test)\n",
    "y_prob_lr = model_lr.predict_proba(X_test)[:, 1]"
   ]
  },
  {
   "cell_type": "code",
   "execution_count": 13,
   "metadata": {},
   "outputs": [
    {
     "data": {
      "image/png": "[encoded data removed]",
      "text/plain": [
       "<Figure size 1404x216 with 1 Axes>"
      ]
     },
     "metadata": {
      "needs_background": "light"
     },
     "output_type": "display_data"
    }
   ],
   "source": [
    "# Coeficientes Regresión Logística\n",
    "plt.figure(figsize=(19.5, 3))\n",
    "one_hot_categories = OneHotEncoder().fit(X_train[categorical_columns]).get_feature_names_out(categorical_columns)\n",
    "labels_lr = np.concatenate([one_hot_categories, numeric_columns])\n",
    "coefs_lr = model_lr._final_estimator.coef_[0]\n",
    "sort_lr = np.argsort(coefs_lr)[::-1]\n",
    "plt.bar(\n",
    "    labels_lr[sort_lr],\n",
    "    coefs_lr[sort_lr]\n",
    "    )\n",
    "plt.xticks(rotation=45, ha=\"right\")\n",
    "plt.ylabel(\"Coef. regresión logística\")\n",
    "sns.despine(trim=True)\n",
    "plt.show()\n",
    "plt.close()"
   ]
  },
  {
   "cell_type": "code",
   "execution_count": 14,
   "metadata": {},
   "outputs": [],
   "source": [
    "# Modelo Gradient Boosting\n",
    "model_gb = make_pipeline(ordinal_preprocessor, GradientBoostingClassifier(min_samples_split=300, min_samples_leaf=100))\n",
    "model_gb.fit(X_train, y_train)\n",
    "y_pred_gb = model_gb.predict(X_test)\n",
    "y_prob_gb = model_gb.predict_proba(X_test)[:, 1]"
   ]
  },
  {
   "cell_type": "code",
   "execution_count": 15,
   "metadata": {},
   "outputs": [
    {
     "data": {
      "image/png": "[encoded data removed]",
      "text/plain": [
       "<Figure size 504x288 with 1 Axes>"
      ]
     },
     "metadata": {
      "needs_background": "light"
     },
     "output_type": "display_data"
    }
   ],
   "source": [
    "# Importancia de los features en Gradiant Boosting\n",
    "plt.figure(figsize=(7, 4))\n",
    "sns.set_context(\"paper\", font_scale=1.5)\n",
    "labels_gb = np.concatenate([categorical_columns, numeric_columns])\n",
    "importance_gb = model_gb._final_estimator.feature_importances_\n",
    "sort_gb = np.argsort(importance_gb)[::-1]\n",
    "plt.bar(\n",
    "    labels_gb[sort_gb],\n",
    "    importance_gb[sort_gb]\n",
    "    )\n",
    "plt.xticks(rotation=45, ha=\"right\")\n",
    "plt.ylabel(\"Importancia de los features\")\n",
    "sns.despine(trim=True)\n",
    "plt.show()\n",
    "plt.close()"
   ]
  },
  {
   "cell_type": "markdown",
   "metadata": {},
   "source": [
    "---\n",
    "### Selección de modelo"
   ]
  },
  {
   "cell_type": "code",
   "execution_count": 16,
   "metadata": {},
   "outputs": [
    {
     "data": {
      "image/png": "[encoded data removed]",
      "text/plain": [
       "<Figure size 504x504 with 1 Axes>"
      ]
     },
     "metadata": {
      "needs_background": "light"
     },
     "output_type": "display_data"
    }
   ],
   "source": [
    "plt.figure(figsize=(7, 7))\n",
    "sns.set_context(\"paper\", font_scale=1.5)\n",
    "for y_prob, name in zip(\n",
    "    [y_prob_lr, y_prob_gb],\n",
    "    [\"Regresión Logística\", \"Gradient Boosting\"]\n",
    "):\n",
    "    fpr, tpr, thres = roc_curve(y_test, y_prob)\n",
    "    plt.plot(\n",
    "        fpr,\n",
    "        tpr,\n",
    "        label=f\"{name} (AUC={roc_auc_score(y_test, y_prob):.3f})\"\n",
    "    )\n",
    "    gmeans = np.sqrt(tpr * (1 - fpr))\n",
    "    opt_idx = gmeans.argmax()\n",
    "    plt.scatter(\n",
    "        fpr[opt_idx],\n",
    "        tpr[opt_idx],\n",
    "        s=100,\n",
    "        label=f\"Umbral óptimo {thres[opt_idx]:.3f}\",\n",
    "    )\n",
    "plt.plot([0, 1], [0, 1], c=\"gray\", linestyle=\"--\")\n",
    "plt.xlabel(\"False Positive Rate\")\n",
    "plt.ylabel(\"True Positive Rate\")\n",
    "plt.title(\"ROC Curve\")\n",
    "plt.legend()\n",
    "plt.gca().set_aspect(\"equal\", adjustable=\"box\")\n",
    "sns.despine(trim=True)\n",
    "plt.show()"
   ]
  },
  {
   "cell_type": "markdown",
   "metadata": {},
   "source": [
    "---\n",
    "### Evaluación del modelo seleccionado"
   ]
  },
  {
   "cell_type": "code",
   "execution_count": 17,
   "metadata": {},
   "outputs": [],
   "source": [
    "# Función para graficar la matriz de confusión de un modelo\n",
    "def plot_confusion_matrix(matrix, title):\n",
    "    \"\"\"Heatmap de la matriz de confusión de un modelo de clasificación.\"\"\"\n",
    "    plt.figure(figsize=(7, 7))\n",
    "    sns.set_context(\"paper\", font_scale=1.5)\n",
    "    ax = sns.heatmap(\n",
    "        matrix / np.sum(matrix) * 100,\n",
    "        annot=True, fmt=\".2f\", cmap=\"Blues\",\n",
    "        vmin=0, vmax=100\n",
    "    )\n",
    "    ax.set_xlabel(\"Predicted Values\")\n",
    "    ax.set_ylabel(\"Actual Values\")\n",
    "    ax.xaxis.set_ticklabels([\"False\", \"True\"])\n",
    "    ax.yaxis.set_ticklabels([\"False\", \"True\"])\n",
    "    ax.xaxis.set_ticks_position(\"none\")\n",
    "    ax.yaxis.set_ticks_position(\"none\")\n",
    "    cbar = ax.collections[0].colorbar\n",
    "    cbar.ax.tick_params(length=0)\n",
    "    cbar.set_label(\"Probabilidad (%)\")\n",
    "    plt.title(title)\n",
    "    plt.gca().set_aspect(\"equal\", adjustable=\"box\")\n",
    "    plt.show()\n",
    "    plt.close()"
   ]
  },
  {
   "cell_type": "code",
   "execution_count": 18,
   "metadata": {},
   "outputs": [
    {
     "data": {
      "image/png": "[encoded data removed]",
      "text/plain": [
       "<Figure size 504x504 with 2 Axes>"
      ]
     },
     "metadata": {
      "needs_background": "light"
     },
     "output_type": "display_data"
    }
   ],
   "source": [
    "# Veamos la matriz de confusion del modelo seleccionado\n",
    "# Gradient Boost, con umbral óptimo\n",
    "fpr, tpr, thres = roc_curve(y_test, y_prob_gb)\n",
    "gmeans = np.sqrt(tpr * (1 - fpr))\n",
    "opt_idx = gmeans.argmax()\n",
    "opt_theta = thres[opt_idx]\n",
    "y_pred_opt = (y_prob_gb > opt_theta).astype(int)\n",
    "confusion_opt = confusion_matrix(y_test, y_pred_opt)\n",
    "plot_confusion_matrix(confusion_opt, \"Gradient Boosting optimizado\")"
   ]
  },
  {
   "cell_type": "code",
   "execution_count": 19,
   "metadata": {},
   "outputs": [
    {
     "data": {
      "image/png": "[encoded data removed]",
      "text/plain": [
       "<Figure size 504x504 with 2 Axes>"
      ]
     },
     "metadata": {
      "needs_background": "light"
     },
     "output_type": "display_data"
    }
   ],
   "source": [
    "# Comparemos con la matriz de confusión del modelo sin optimizar\n",
    "confusion_gb = confusion_matrix(y_test, y_pred_gb)\n",
    "plot_confusion_matrix(confusion_gb, \"Gradient Boosting sin optimizar\")"
   ]
  }
 ],
 "metadata": {
  "interpreter": {
   "hash": "31f2aee4e71d21fbe5cf8b01ff0e069b9275f58929596ceb00d14d90e3e16cd6"
  },
  "kernelspec": {
   "display_name": "Python 3.8.10 64-bit",
   "language": "python",
   "name": "python3"
  },
  "language_info": {
   "codemirror_mode": {
    "name": "ipython",
    "version": 3
   },
   "file_extension": ".py",
   "mimetype": "text/x-python",
   "name": "python",
   "nbconvert_exporter": "python",
   "pygments_lexer": "ipython3",
   "version": "3.8.10"
  },
  "orig_nbformat": 4
 },
 "nbformat": 4,
 "nbformat_minor": 2
}

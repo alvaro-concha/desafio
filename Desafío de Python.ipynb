{
 "cells": [
  {
   "cell_type": "markdown",
   "metadata": {},
   "source": [
    "# Predictor de responsabilidad de siniestros viales\n",
    "\n",
    "Nombre: Alvaro Concha"
   ]
  },
  {
   "cell_type": "markdown",
   "metadata": {},
   "source": [
    "---\n",
    "### Objetivos\n",
    "1. Realizar el análisis exploratorio de los datos para determinar qué campos además de la\n",
    "descripción tienen importancia para determinar la responsabilidad del hecho.\n",
    "\n",
    "2. Realizar un modelo que dada las características seleccionadas determine la\n",
    "responsabilidad del hecho.\n",
    "\n",
    "3. Realizar un workflow del proceso realizado en los puntos anteriores donde también se\n",
    "reporten los próximos pasos a seguir al momento de disponibilizar dicho modelo al\n",
    "cliente.\n",
    "\n",
    "4. Disponibilizar en un repositorio todo el desarrollo con un esquema de la estructura\n",
    "deseada del proyecto y la explicación de su abordaje en el “README.md” o en un\n",
    "Notebook junto con el resto de los puntos.\n"
   ]
  },
  {
   "cell_type": "markdown",
   "metadata": {},
   "source": [
    "---\n",
    "### Atributos originales\n",
    "\n",
    "Id_evento: es un código identificador\n",
    "\n",
    "Id_reclamo_evento: es un código identificador\n",
    "\n",
    "Id_reclamo: es un código identificador\n",
    "\n",
    "TIPO_RECLAMO: es un código identificador\n",
    "\n",
    "FECHA_SINI: fecha en la que ocurrió el siniestro\n",
    "\n",
    "LUGAR_OCURRENCIA: dirección de ocurrencia del siniestro\n",
    "\n",
    "COD_POST_OCURRENCIA: código postal del lugar donde ocurre el siniestro\n",
    "\n",
    "ESTADO_CIVIL: estado civil del asegurado\n",
    "\n",
    "FECHA_NAC_ASEG: fecha de nacimiento del asegurado\n",
    "\n",
    "SEXO: sexo del asegurado\n",
    "\n",
    "OCUPACION_ASEG: ocupación codificada del asegurado\n",
    "\n",
    "MODELO_VEHICULO: año de emisión del vehículo del asegurado\n",
    "\n",
    "FECHA_PROCESO: fecha en la que se proceso la designación del asegurado\n",
    "\n",
    "TIPO_ADMINISTRACION: determina la responsabilidad inicial del asegurado\n",
    "\n",
    "DESCRIP_HECHO: descripción del siniestro en cuestión\n",
    "\n",
    "HORA_SINI: hora en la que ocurre el siniestro\n",
    "\n",
    "LATITUD\n",
    "\n",
    "LONGITUD\n",
    "\n",
    "TIPO_ADMINISTRACION_FIN: determina la responsabilidad final del asegurado\n",
    "\n"
   ]
  },
  {
   "cell_type": "markdown",
   "metadata": {},
   "source": [
    "---\n",
    "### Setup\n",
    "\n",
    "Importar librerías y leer datos."
   ]
  },
  {
   "cell_type": "code",
   "execution_count": 1,
   "metadata": {},
   "outputs": [],
   "source": [
    "# Instalar librerías y paquetes\n",
    "# %pip install -r requirements.txt"
   ]
  },
  {
   "cell_type": "code",
   "execution_count": 2,
   "metadata": {},
   "outputs": [],
   "source": [
    "# !pip freeze > requirements.txt"
   ]
  },
  {
   "cell_type": "code",
   "execution_count": 3,
   "metadata": {},
   "outputs": [
    {
     "name": "stderr",
     "output_type": "stream",
     "text": [
      "/home/alvaro/.local/lib/python3.8/site-packages/xarray/core/merge.py:10: FutureWarning: The Panel class is removed from pandas. Accessing it from the top-level namespace will also be removed in the next version\n",
      "  PANDAS_TYPES = (pd.Series, pd.DataFrame, pd.Panel)\n",
      "/usr/lib/python3/dist-packages/requests/__init__.py:89: RequestsDependencyWarning: urllib3 (1.26.12) or chardet (3.0.4) doesn't match a supported version!\n",
      "  warnings.warn(\"urllib3 ({}) or chardet ({}) doesn't match a supported \"\n",
      "2022-08-28 21:15:31.111037: W tensorflow/stream_executor/platform/default/dso_loader.cc:64] Could not load dynamic library 'libcudart.so.11.0'; dlerror: libcudart.so.11.0: cannot open shared object file: No such file or directory\n",
      "2022-08-28 21:15:31.111065: I tensorflow/stream_executor/cuda/cudart_stub.cc:29] Ignore above cudart dlerror if you do not have a GPU set up on your machine.\n"
     ]
    }
   ],
   "source": [
    "# Importar librerías y paquetes\n",
    "import pickle\n",
    "import numpy as np\n",
    "import pandas as pd\n",
    "import matplotlib.pyplot as plt\n",
    "import seaborn as sns\n",
    "import plotly.express as px\n",
    "from stanza import Pipeline as StanzaPipeline\n",
    "from nltk.tokenize import RegexpTokenizer\n",
    "from spellchecker import SpellChecker\n",
    "from nltk.corpus import stopwords\n",
    "from nltk.stem import SnowballStemmer\n",
    "from nltk import everygrams\n",
    "from nltk.classify import NaiveBayesClassifier\n",
    "from sklearn.compose import ColumnTransformer\n",
    "from sklearn.base import BaseEstimator, TransformerMixin\n",
    "from sklearn.preprocessing import OneHotEncoder, OrdinalEncoder, RobustScaler\n",
    "from sklearn.model_selection import train_test_split\n",
    "from sklearn.linear_model import LogisticRegression\n",
    "from sklearn.ensemble import GradientBoostingClassifier\n",
    "from sklearn.pipeline import make_pipeline\n",
    "from sklearn.impute import SimpleImputer\n",
    "from sklearn.metrics import roc_curve, roc_auc_score, classification_report, confusion_matrix\n",
    "\n",
    "np.random.seed(42)"
   ]
  },
  {
   "cell_type": "code",
   "execution_count": 4,
   "metadata": {},
   "outputs": [
    {
     "name": "stdout",
     "output_type": "stream",
     "text": [
      ",id_evento,id_reclamo_evento,id_reclamo,TIPO_RECLAMO,FECHA_SINI,LUGAR_OCURRENCIA,COD_POST_OCURRENCIA,ESTADO_CIVIL,FECHA_NAC_ASEG,SEXO,OCUPACION_ASEG,MODELO_VEHICULO,FECHA_PROCESO,TIPO_ADMINISTRACION,DESCRIP_HECHO,HORA_SINI,LATITUD,LONGITUD,TIPO_ADMINISTRACION_FIN\n",
      "\n",
      "0,1,1,1,NO TRANSPORTADO,1/1/2019,CEBALLOS 5300,8300001,SO,10/27/1976,M,2.0,2007.0,1/31/2019,A,\"VH CIRCULANDO POR CALLE CEBALLOS 5300 (NEUQUEN - NEUQUEN CAP) CUANDO UN TERCERO QUE CIRCULABA POR LA MISMA EN SENTIDO CONTRARIO INVADE EL CARRIL DEL ASEGURADO, ESTE MANIOBRA PARA EVITAR COLISION FRONTAL Y ES EMBESTIDO EN LATERAL IZQUIERDO CON LA PARTE FRONTAL DEL TERCERO. AMBOS VH SE DESPLAZAN SIN NUEVAS COLISIONES. CON LESIONADOS, INTERVIENE POLICIA Y AMBULANCIA.\",01:30,,,B\n",
      "\n",
      "1,1,2,2,NO TRANSPORTADO,1/1/2019,CEBALLOS 5300,8300001,SO,10/27/1976,M,2.0,2007.0,1/31/2019,A,\"VH CIRCULANDO POR CALLE CEBALLOS 5300 (NEUQUEN - NEUQUEN CAP) CUANDO UN TERCERO QUE CIRCULABA POR LA MISMA EN SENTIDO CONTRARIO INVADE EL CARRIL DEL ASEGURADO, ESTE MANIOBRA PARA EVITAR COLISION FRONTAL Y ES EMBESTIDO EN LATERAL IZQUIERDO CON LA PARTE FRONTAL DEL TERCERO. AMBOS VH SE DESPLAZAN SIN NUEVAS COLISIONES. CON LESIONADOS, INTERVIENE POLICIA Y AMBULANCIA.\",01:30,,,B\n",
      "\n",
      "2,1,3,3,NO TRANSPORTADO,1/1/2019,CEBALLOS 5300,8300001,SO,10/27/1976,M,2.0,2007.0,1/31/2019,A,\"VH CIRCULANDO POR CALLE CEBALLOS 5300 (NEUQUEN - NEUQUEN CAP) CUANDO UN TERCERO QUE CIRCULABA POR LA MISMA EN SENTIDO CONTRARIO INVADE EL CARRIL DEL ASEGURADO, ESTE MANIOBRA PARA EVITAR COLISION FRONTAL Y ES EMBESTIDO EN LATERAL IZQUIERDO CON LA PARTE FRONTAL DEL TERCERO. AMBOS VH SE DESPLAZAN SIN NUEVAS COLISIONES. CON LESIONADOS, INTERVIENE POLICIA Y AMBULANCIA.\",01:30,,,B\n",
      "\n",
      "3,1,4,4,NO TRANSPORTADO,1/1/2019,CEBALLOS 5300,8300001,SO,10/27/1976,M,2.0,2007.0,1/31/2019,A,\"VH CIRCULANDO POR CALLE CEBALLOS 5300 (NEUQUEN - NEUQUEN CAP) CUANDO UN TERCERO QUE CIRCULABA POR LA MISMA EN SENTIDO CONTRARIO INVADE EL CARRIL DEL ASEGURADO, ESTE MANIOBRA PARA EVITAR COLISION FRONTAL Y ES EMBESTIDO EN LATERAL IZQUIERDO CON LA PARTE FRONTAL DEL TERCERO. AMBOS VH SE DESPLAZAN SIN NUEVAS COLISIONES. CON LESIONADOS, INTERVIENE POLICIA Y AMBULANCIA.\",01:30,,,B\n",
      "\n"
     ]
    }
   ],
   "source": [
    "# Un vistazo de las primeras líneas de \"siniestros.csv\"\n",
    "with open(\"siniestros.csv\", \"r\") as file:\n",
    "    for _ in range(5):\n",
    "        line = file.readline()\n",
    "        print(line)"
   ]
  },
  {
   "cell_type": "code",
   "execution_count": 5,
   "metadata": {},
   "outputs": [
    {
     "data": {
      "text/html": [
       "<div>\n",
       "<style scoped>\n",
       "    .dataframe tbody tr th:only-of-type {\n",
       "        vertical-align: middle;\n",
       "    }\n",
       "\n",
       "    .dataframe tbody tr th {\n",
       "        vertical-align: top;\n",
       "    }\n",
       "\n",
       "    .dataframe thead th {\n",
       "        text-align: right;\n",
       "    }\n",
       "</style>\n",
       "<table border=\"1\" class=\"dataframe\">\n",
       "  <thead>\n",
       "    <tr style=\"text-align: right;\">\n",
       "      <th></th>\n",
       "      <th>id_evento</th>\n",
       "      <th>id_reclamo_evento</th>\n",
       "      <th>id_reclamo</th>\n",
       "      <th>TIPO_RECLAMO</th>\n",
       "      <th>FECHA_SINI</th>\n",
       "      <th>LUGAR_OCURRENCIA</th>\n",
       "      <th>COD_POST_OCURRENCIA</th>\n",
       "      <th>ESTADO_CIVIL</th>\n",
       "      <th>FECHA_NAC_ASEG</th>\n",
       "      <th>SEXO</th>\n",
       "      <th>OCUPACION_ASEG</th>\n",
       "      <th>MODELO_VEHICULO</th>\n",
       "      <th>FECHA_PROCESO</th>\n",
       "      <th>TIPO_ADMINISTRACION</th>\n",
       "      <th>DESCRIP_HECHO</th>\n",
       "      <th>HORA_SINI</th>\n",
       "      <th>LATITUD</th>\n",
       "      <th>LONGITUD</th>\n",
       "      <th>TIPO_ADMINISTRACION_FIN</th>\n",
       "    </tr>\n",
       "  </thead>\n",
       "  <tbody>\n",
       "    <tr>\n",
       "      <th>0</th>\n",
       "      <td>1</td>\n",
       "      <td>1</td>\n",
       "      <td>1</td>\n",
       "      <td>NO TRANSPORTADO</td>\n",
       "      <td>1/1/2019</td>\n",
       "      <td>CEBALLOS 5300</td>\n",
       "      <td>8300001</td>\n",
       "      <td>SO</td>\n",
       "      <td>10/27/1976</td>\n",
       "      <td>M</td>\n",
       "      <td>2.0</td>\n",
       "      <td>2007.0</td>\n",
       "      <td>1/31/2019</td>\n",
       "      <td>A</td>\n",
       "      <td>VH CIRCULANDO POR CALLE CEBALLOS 5300 (NEUQUEN...</td>\n",
       "      <td>01:30</td>\n",
       "      <td>NaN</td>\n",
       "      <td>NaN</td>\n",
       "      <td>B</td>\n",
       "    </tr>\n",
       "    <tr>\n",
       "      <th>1</th>\n",
       "      <td>1</td>\n",
       "      <td>2</td>\n",
       "      <td>2</td>\n",
       "      <td>NO TRANSPORTADO</td>\n",
       "      <td>1/1/2019</td>\n",
       "      <td>CEBALLOS 5300</td>\n",
       "      <td>8300001</td>\n",
       "      <td>SO</td>\n",
       "      <td>10/27/1976</td>\n",
       "      <td>M</td>\n",
       "      <td>2.0</td>\n",
       "      <td>2007.0</td>\n",
       "      <td>1/31/2019</td>\n",
       "      <td>A</td>\n",
       "      <td>VH CIRCULANDO POR CALLE CEBALLOS 5300 (NEUQUEN...</td>\n",
       "      <td>01:30</td>\n",
       "      <td>NaN</td>\n",
       "      <td>NaN</td>\n",
       "      <td>B</td>\n",
       "    </tr>\n",
       "    <tr>\n",
       "      <th>2</th>\n",
       "      <td>1</td>\n",
       "      <td>3</td>\n",
       "      <td>3</td>\n",
       "      <td>NO TRANSPORTADO</td>\n",
       "      <td>1/1/2019</td>\n",
       "      <td>CEBALLOS 5300</td>\n",
       "      <td>8300001</td>\n",
       "      <td>SO</td>\n",
       "      <td>10/27/1976</td>\n",
       "      <td>M</td>\n",
       "      <td>2.0</td>\n",
       "      <td>2007.0</td>\n",
       "      <td>1/31/2019</td>\n",
       "      <td>A</td>\n",
       "      <td>VH CIRCULANDO POR CALLE CEBALLOS 5300 (NEUQUEN...</td>\n",
       "      <td>01:30</td>\n",
       "      <td>NaN</td>\n",
       "      <td>NaN</td>\n",
       "      <td>B</td>\n",
       "    </tr>\n",
       "    <tr>\n",
       "      <th>3</th>\n",
       "      <td>1</td>\n",
       "      <td>4</td>\n",
       "      <td>4</td>\n",
       "      <td>NO TRANSPORTADO</td>\n",
       "      <td>1/1/2019</td>\n",
       "      <td>CEBALLOS 5300</td>\n",
       "      <td>8300001</td>\n",
       "      <td>SO</td>\n",
       "      <td>10/27/1976</td>\n",
       "      <td>M</td>\n",
       "      <td>2.0</td>\n",
       "      <td>2007.0</td>\n",
       "      <td>1/31/2019</td>\n",
       "      <td>A</td>\n",
       "      <td>VH CIRCULANDO POR CALLE CEBALLOS 5300 (NEUQUEN...</td>\n",
       "      <td>01:30</td>\n",
       "      <td>NaN</td>\n",
       "      <td>NaN</td>\n",
       "      <td>B</td>\n",
       "    </tr>\n",
       "    <tr>\n",
       "      <th>4</th>\n",
       "      <td>1</td>\n",
       "      <td>5</td>\n",
       "      <td>5</td>\n",
       "      <td>TRANSPORTADO</td>\n",
       "      <td>1/1/2019</td>\n",
       "      <td>CEBALLOS 5300</td>\n",
       "      <td>8300001</td>\n",
       "      <td>SO</td>\n",
       "      <td>10/27/1976</td>\n",
       "      <td>M</td>\n",
       "      <td>2.0</td>\n",
       "      <td>2007.0</td>\n",
       "      <td>4/30/2019</td>\n",
       "      <td>B</td>\n",
       "      <td>VH CIRCULANDO POR CALLE CEBALLOS 5300 (NEUQUEN...</td>\n",
       "      <td>01:30</td>\n",
       "      <td>NaN</td>\n",
       "      <td>NaN</td>\n",
       "      <td>B</td>\n",
       "    </tr>\n",
       "  </tbody>\n",
       "</table>\n",
       "</div>"
      ],
      "text/plain": [
       "   id_evento  id_reclamo_evento  id_reclamo     TIPO_RECLAMO FECHA_SINI  \\\n",
       "0          1                  1           1  NO TRANSPORTADO   1/1/2019   \n",
       "1          1                  2           2  NO TRANSPORTADO   1/1/2019   \n",
       "2          1                  3           3  NO TRANSPORTADO   1/1/2019   \n",
       "3          1                  4           4  NO TRANSPORTADO   1/1/2019   \n",
       "4          1                  5           5     TRANSPORTADO   1/1/2019   \n",
       "\n",
       "  LUGAR_OCURRENCIA  COD_POST_OCURRENCIA ESTADO_CIVIL FECHA_NAC_ASEG SEXO  \\\n",
       "0    CEBALLOS 5300              8300001           SO     10/27/1976    M   \n",
       "1    CEBALLOS 5300              8300001           SO     10/27/1976    M   \n",
       "2    CEBALLOS 5300              8300001           SO     10/27/1976    M   \n",
       "3    CEBALLOS 5300              8300001           SO     10/27/1976    M   \n",
       "4    CEBALLOS 5300              8300001           SO     10/27/1976    M   \n",
       "\n",
       "   OCUPACION_ASEG  MODELO_VEHICULO FECHA_PROCESO TIPO_ADMINISTRACION  \\\n",
       "0             2.0           2007.0     1/31/2019                   A   \n",
       "1             2.0           2007.0     1/31/2019                   A   \n",
       "2             2.0           2007.0     1/31/2019                   A   \n",
       "3             2.0           2007.0     1/31/2019                   A   \n",
       "4             2.0           2007.0     4/30/2019                   B   \n",
       "\n",
       "                                       DESCRIP_HECHO HORA_SINI LATITUD  \\\n",
       "0  VH CIRCULANDO POR CALLE CEBALLOS 5300 (NEUQUEN...     01:30     NaN   \n",
       "1  VH CIRCULANDO POR CALLE CEBALLOS 5300 (NEUQUEN...     01:30     NaN   \n",
       "2  VH CIRCULANDO POR CALLE CEBALLOS 5300 (NEUQUEN...     01:30     NaN   \n",
       "3  VH CIRCULANDO POR CALLE CEBALLOS 5300 (NEUQUEN...     01:30     NaN   \n",
       "4  VH CIRCULANDO POR CALLE CEBALLOS 5300 (NEUQUEN...     01:30     NaN   \n",
       "\n",
       "  LONGITUD TIPO_ADMINISTRACION_FIN  \n",
       "0      NaN                       B  \n",
       "1      NaN                       B  \n",
       "2      NaN                       B  \n",
       "3      NaN                       B  \n",
       "4      NaN                       B  "
      ]
     },
     "execution_count": 5,
     "metadata": {},
     "output_type": "execute_result"
    }
   ],
   "source": [
    "# Cargar los datos\n",
    "data = pd.read_csv(\"siniestros.csv\", sep=\",\", header=0)\n",
    "data = data.drop(columns=data.columns[0])\n",
    "data.head()"
   ]
  },
  {
   "cell_type": "markdown",
   "metadata": {},
   "source": [
    "---\n",
    "### Análisis exploratorio\n",
    "\n",
    "Ver valores y distribuciones de los atributos. Crear nuevos atributos."
   ]
  },
  {
   "cell_type": "code",
   "execution_count": 6,
   "metadata": {},
   "outputs": [],
   "source": [
    "# Definir la variable objetivo\n",
    "target_dict = {\n",
    "    \"A\": 1 , \"B\": 0 , \"C\": 0 , \"D\": 0 , \"S\": 0\n",
    "}\n",
    "data[\"target\"] = data[\"TIPO_ADMINISTRACION_FIN\"].map(target_dict)"
   ]
  },
  {
   "cell_type": "code",
   "execution_count": null,
   "metadata": {},
   "outputs": [],
   "source": [
    "# Eliminar TIPO_ADMINISTRACION, suponiendo que se busca implementar un proceso automatizado\n",
    "# en el que no intervenga inicialmente el juicio de ningún operador,\n",
    "# para clasificar la responsabilidad del asegurado en un siniestro\n",
    "# Guardar descripciones originales de los siniestros, ya que luego van a ser transformadas por un pipeline de NLP\n",
    "tipo_administracion = data[\"TIPO_ADMINISTRACION\"].copy()\n",
    "descrip_hecho = data[\"DESCRIP_HECHO\"].copy()\n",
    "data = data.drop(columns=[\n",
    "    \"TIPO_ADMINISTRACION\"\n",
    "])"
   ]
  },
  {
   "cell_type": "code",
   "execution_count": 7,
   "metadata": {},
   "outputs": [],
   "source": [
    "# Agrupar por id_evento para deshacernos de los reclamos reiterados\n",
    "event_groups = data.groupby(\"id_evento\")"
   ]
  },
  {
   "cell_type": "code",
   "execution_count": 8,
   "metadata": {},
   "outputs": [],
   "source": [
    "# Quedarse con reclamos de mayor gravedad\n",
    "deduplicate_idx = event_groups[\"target\"].idxmax()"
   ]
  },
  {
   "cell_type": "code",
   "execution_count": 9,
   "metadata": {},
   "outputs": [],
   "source": [
    "# Reducir datos y convertir target a int\n",
    "data = data.iloc[deduplicate_idx].set_index(\"id_evento\")\n",
    "data[\"target\"] = data[\"target\"].astype(int)"
   ]
  },
  {
   "cell_type": "code",
   "execution_count": 10,
   "metadata": {},
   "outputs": [],
   "source": [
    "# Agreguemos un atributo que cuente la cantidad de reclamos originales por evento\n",
    "data[\"CANT_RECLAMOS\"] = event_groups.size()"
   ]
  },
  {
   "cell_type": "code",
   "execution_count": 11,
   "metadata": {},
   "outputs": [
    {
     "data": {
      "text/html": [
       "<div>\n",
       "<style scoped>\n",
       "    .dataframe tbody tr th:only-of-type {\n",
       "        vertical-align: middle;\n",
       "    }\n",
       "\n",
       "    .dataframe tbody tr th {\n",
       "        vertical-align: top;\n",
       "    }\n",
       "\n",
       "    .dataframe thead th {\n",
       "        text-align: right;\n",
       "    }\n",
       "</style>\n",
       "<table border=\"1\" class=\"dataframe\">\n",
       "  <thead>\n",
       "    <tr style=\"text-align: right;\">\n",
       "      <th></th>\n",
       "      <th>unique values</th>\n",
       "      <th>dtype</th>\n",
       "    </tr>\n",
       "  </thead>\n",
       "  <tbody>\n",
       "    <tr>\n",
       "      <th>id_reclamo_evento</th>\n",
       "      <td>8</td>\n",
       "      <td>int64</td>\n",
       "    </tr>\n",
       "    <tr>\n",
       "      <th>id_reclamo</th>\n",
       "      <td>25696</td>\n",
       "      <td>int64</td>\n",
       "    </tr>\n",
       "    <tr>\n",
       "      <th>TIPO_RECLAMO</th>\n",
       "      <td>2</td>\n",
       "      <td>object</td>\n",
       "    </tr>\n",
       "    <tr>\n",
       "      <th>FECHA_SINI</th>\n",
       "      <td>746</td>\n",
       "      <td>object</td>\n",
       "    </tr>\n",
       "    <tr>\n",
       "      <th>LUGAR_OCURRENCIA</th>\n",
       "      <td>27077</td>\n",
       "      <td>object</td>\n",
       "    </tr>\n",
       "    <tr>\n",
       "      <th>COD_POST_OCURRENCIA</th>\n",
       "      <td>2059</td>\n",
       "      <td>int64</td>\n",
       "    </tr>\n",
       "    <tr>\n",
       "      <th>ESTADO_CIVIL</th>\n",
       "      <td>10</td>\n",
       "      <td>object</td>\n",
       "    </tr>\n",
       "    <tr>\n",
       "      <th>FECHA_NAC_ASEG</th>\n",
       "      <td>16492</td>\n",
       "      <td>object</td>\n",
       "    </tr>\n",
       "    <tr>\n",
       "      <th>SEXO</th>\n",
       "      <td>2</td>\n",
       "      <td>object</td>\n",
       "    </tr>\n",
       "    <tr>\n",
       "      <th>OCUPACION_ASEG</th>\n",
       "      <td>47</td>\n",
       "      <td>float64</td>\n",
       "    </tr>\n",
       "    <tr>\n",
       "      <th>MODELO_VEHICULO</th>\n",
       "      <td>60</td>\n",
       "      <td>float64</td>\n",
       "    </tr>\n",
       "    <tr>\n",
       "      <th>FECHA_PROCESO</th>\n",
       "      <td>40</td>\n",
       "      <td>object</td>\n",
       "    </tr>\n",
       "    <tr>\n",
       "      <th>TIPO_ADMINISTRACION</th>\n",
       "      <td>5</td>\n",
       "      <td>object</td>\n",
       "    </tr>\n",
       "    <tr>\n",
       "      <th>DESCRIP_HECHO</th>\n",
       "      <td>28627</td>\n",
       "      <td>object</td>\n",
       "    </tr>\n",
       "    <tr>\n",
       "      <th>HORA_SINI</th>\n",
       "      <td>728</td>\n",
       "      <td>object</td>\n",
       "    </tr>\n",
       "    <tr>\n",
       "      <th>LATITUD</th>\n",
       "      <td>5200</td>\n",
       "      <td>object</td>\n",
       "    </tr>\n",
       "    <tr>\n",
       "      <th>LONGITUD</th>\n",
       "      <td>5159</td>\n",
       "      <td>object</td>\n",
       "    </tr>\n",
       "    <tr>\n",
       "      <th>TIPO_ADMINISTRACION_FIN</th>\n",
       "      <td>5</td>\n",
       "      <td>object</td>\n",
       "    </tr>\n",
       "    <tr>\n",
       "      <th>target</th>\n",
       "      <td>2</td>\n",
       "      <td>int64</td>\n",
       "    </tr>\n",
       "    <tr>\n",
       "      <th>CANT_RECLAMOS</th>\n",
       "      <td>13</td>\n",
       "      <td>int64</td>\n",
       "    </tr>\n",
       "  </tbody>\n",
       "</table>\n",
       "</div>"
      ],
      "text/plain": [
       "                         unique values    dtype\n",
       "id_reclamo_evento                    8    int64\n",
       "id_reclamo                       25696    int64\n",
       "TIPO_RECLAMO                         2   object\n",
       "FECHA_SINI                         746   object\n",
       "LUGAR_OCURRENCIA                 27077   object\n",
       "COD_POST_OCURRENCIA               2059    int64\n",
       "ESTADO_CIVIL                        10   object\n",
       "FECHA_NAC_ASEG                   16492   object\n",
       "SEXO                                 2   object\n",
       "OCUPACION_ASEG                      47  float64\n",
       "MODELO_VEHICULO                     60  float64\n",
       "FECHA_PROCESO                       40   object\n",
       "TIPO_ADMINISTRACION                  5   object\n",
       "DESCRIP_HECHO                    28627   object\n",
       "HORA_SINI                          728   object\n",
       "LATITUD                           5200   object\n",
       "LONGITUD                          5159   object\n",
       "TIPO_ADMINISTRACION_FIN              5   object\n",
       "target                               2    int64\n",
       "CANT_RECLAMOS                       13    int64"
      ]
     },
     "execution_count": 11,
     "metadata": {},
     "output_type": "execute_result"
    }
   ],
   "source": [
    "# Explorar los tipos de valores y la cantidad de valores únicos\n",
    "unique_values = pd.DataFrame(data.nunique(), columns=[\"unique values\"])\n",
    "unique_values[\"dtype\"] = data.dtypes\n",
    "unique_values"
   ]
  },
  {
   "cell_type": "code",
   "execution_count": 12,
   "metadata": {},
   "outputs": [
    {
     "data": {
      "text/html": [
       "<div>\n",
       "<style scoped>\n",
       "    .dataframe tbody tr th:only-of-type {\n",
       "        vertical-align: middle;\n",
       "    }\n",
       "\n",
       "    .dataframe tbody tr th {\n",
       "        vertical-align: top;\n",
       "    }\n",
       "\n",
       "    .dataframe thead th {\n",
       "        text-align: right;\n",
       "    }\n",
       "</style>\n",
       "<table border=\"1\" class=\"dataframe\">\n",
       "  <thead>\n",
       "    <tr style=\"text-align: right;\">\n",
       "      <th></th>\n",
       "      <th>missing</th>\n",
       "    </tr>\n",
       "  </thead>\n",
       "  <tbody>\n",
       "    <tr>\n",
       "      <th>LUGAR_OCURRENCIA</th>\n",
       "      <td>3</td>\n",
       "    </tr>\n",
       "    <tr>\n",
       "      <th>ESTADO_CIVIL</th>\n",
       "      <td>518</td>\n",
       "    </tr>\n",
       "    <tr>\n",
       "      <th>FECHA_NAC_ASEG</th>\n",
       "      <td>204</td>\n",
       "    </tr>\n",
       "    <tr>\n",
       "      <th>OCUPACION_ASEG</th>\n",
       "      <td>24</td>\n",
       "    </tr>\n",
       "    <tr>\n",
       "      <th>MODELO_VEHICULO</th>\n",
       "      <td>1</td>\n",
       "    </tr>\n",
       "    <tr>\n",
       "      <th>LATITUD</th>\n",
       "      <td>23435</td>\n",
       "    </tr>\n",
       "    <tr>\n",
       "      <th>LONGITUD</th>\n",
       "      <td>23435</td>\n",
       "    </tr>\n",
       "  </tbody>\n",
       "</table>\n",
       "</div>"
      ],
      "text/plain": [
       "                  missing\n",
       "LUGAR_OCURRENCIA        3\n",
       "ESTADO_CIVIL          518\n",
       "FECHA_NAC_ASEG        204\n",
       "OCUPACION_ASEG         24\n",
       "MODELO_VEHICULO         1\n",
       "LATITUD             23435\n",
       "LONGITUD            23435"
      ]
     },
     "execution_count": 12,
     "metadata": {},
     "output_type": "execute_result"
    }
   ],
   "source": [
    "# Contar la cantidad de missing values en los datos\n",
    "na_columns = data.columns[data.isna().any()]\n",
    "na_values = pd.DataFrame(\n",
    "    data[na_columns].isna().sum(),\n",
    "    columns=[\"missing\"],\n",
    ")\n",
    "na_values"
   ]
  },
  {
   "cell_type": "code",
   "execution_count": 13,
   "metadata": {},
   "outputs": [
    {
     "data": {
      "image/png": "[encoded data removed]",
      "text/plain": [
       "<Figure size 432x288 with 2 Axes>"
      ]
     },
     "metadata": {
      "needs_background": "light"
     },
     "output_type": "display_data"
    }
   ],
   "source": [
    "# Distribuciones de algunas columnas\n",
    "see_columns = [\"MODELO_VEHICULO\", \"CANT_RECLAMOS\"]\n",
    "sns.set_context(\"paper\", font_scale=1.5)\n",
    "_, axs = plt.subplots(nrows=len(see_columns))\n",
    "for i, column in enumerate(see_columns):\n",
    "    axs[i].hist(data[column], bins=24)\n",
    "    axs[i].set_xlabel(column)\n",
    "    axs[i].spines[\"right\"].set_visible(False)\n",
    "    axs[i].spines[\"top\"].set_visible(False)\n",
    "sns.despine(trim=True)\n",
    "plt.subplots_adjust(hspace=0.5)\n",
    "plt.show()"
   ]
  },
  {
   "cell_type": "code",
   "execution_count": 14,
   "metadata": {},
   "outputs": [
    {
     "data": {
      "image/png": "[encoded data removed]",
      "text/plain": [
       "<Figure size 432x288 with 1 Axes>"
      ]
     },
     "metadata": {
      "needs_background": "light"
     },
     "output_type": "display_data"
    }
   ],
   "source": [
    "# Convertir HORA_SINI a un float con el momento del día\n",
    "data[\"HORA_SINI\"] = (\n",
    "    pd.to_datetime(data[\"HORA_SINI\"], format=\"%H:%M\") - np.datetime64(\"1900-01-01 00:00:00\")\n",
    ") / np.timedelta64(1, \"h\") % 24\n",
    "sns.set_context(\"paper\", font_scale=1.5)\n",
    "plt.hist(data[\"HORA_SINI\"], bins=\"auto\")\n",
    "plt.ylabel(\"Frequency\")\n",
    "plt.xlabel(\"Time of day (hour)\")\n",
    "sns.despine(trim=True)\n",
    "plt.show()"
   ]
  },
  {
   "cell_type": "code",
   "execution_count": 15,
   "metadata": {},
   "outputs": [
    {
     "data": {
      "image/png": "[encoded data removed]",
      "text/plain": [
       "<Figure size 432x288 with 1 Axes>"
      ]
     },
     "metadata": {
      "needs_background": "light"
     },
     "output_type": "display_data"
    }
   ],
   "source": [
    "# Calcular momento en el año a partir de FECHA_SINI\n",
    "data[\"FECHA_SINI_MES\"] = (\n",
    "    pd.to_datetime(data[\"FECHA_SINI\"]) - np.datetime64(\"1900-01-01 00:00:00\")\n",
    ") / np.timedelta64(1, \"M\") % 12 + 1\n",
    "sns.set_context(\"paper\", font_scale=1.5)\n",
    "plt.hist(data[\"FECHA_SINI_MES\"], bins=\"auto\")\n",
    "plt.ylabel(\"Frequency\")\n",
    "plt.xlabel(\"Time of year (month)\")\n",
    "sns.despine(trim=True)\n",
    "plt.show()"
   ]
  },
  {
   "cell_type": "code",
   "execution_count": 16,
   "metadata": {},
   "outputs": [
    {
     "data": {
      "image/png": "[encoded data removed]",
      "text/plain": [
       "<Figure size 432x288 with 1 Axes>"
      ]
     },
     "metadata": {
      "needs_background": "light"
     },
     "output_type": "display_data"
    }
   ],
   "source": [
    "# Calcular día del mes a partir de FECHA_SINI\n",
    "data[\"FECHA_SINI_DIA_MES\"] = pd.to_datetime(data[\"FECHA_SINI\"]).dt.day\n",
    "sns.set_context(\"paper\", font_scale=1.5)\n",
    "plt.hist(data[\"FECHA_SINI_DIA_MES\"], bins=31)\n",
    "plt.ylabel(\"Frequency\")\n",
    "plt.xlabel(\"Time of month (day)\")\n",
    "sns.despine(trim=True)\n",
    "plt.show()"
   ]
  },
  {
   "cell_type": "code",
   "execution_count": 17,
   "metadata": {},
   "outputs": [
    {
     "data": {
      "image/png": "[encoded data removed]",
      "text/plain": [
       "<Figure size 432x288 with 1 Axes>"
      ]
     },
     "metadata": {
      "needs_background": "light"
     },
     "output_type": "display_data"
    }
   ],
   "source": [
    "# Calcular día de la semana a partir de FECHA_SINI (Monday=1)\n",
    "data[\"FECHA_SINI_DIA_SEMANA\"] = pd.to_datetime(data[\"FECHA_SINI\"]).dt.dayofweek + 1\n",
    "sns.set_context(\"paper\", font_scale=1.5)\n",
    "plt.hist(data[\"FECHA_SINI_DIA_SEMANA\"], bins=7)\n",
    "plt.ylabel(\"Frequency\")\n",
    "plt.xlabel(\"Time of week (day)\")\n",
    "sns.despine(trim=True)\n",
    "plt.show()"
   ]
  },
  {
   "cell_type": "code",
   "execution_count": 18,
   "metadata": {},
   "outputs": [
    {
     "data": {
      "image/png": "[encoded data removed]",
      "text/plain": [
       "<Figure size 432x288 with 1 Axes>"
      ]
     },
     "metadata": {
      "needs_background": "light"
     },
     "output_type": "display_data"
    }
   ],
   "source": [
    "# Calcular la diferencia en días entre FECHA_PROCESO y FECHA_SINI\n",
    "data[\"FECHA_PROCESO_DIF\"] = (\n",
    "    pd.to_datetime(data[\"FECHA_PROCESO\"]) - pd.to_datetime(data[\"FECHA_SINI\"])\n",
    ") / np.timedelta64(1, \"D\")\n",
    "sns.set_context(\"paper\", font_scale=1.5)\n",
    "plt.hist(data[\"FECHA_PROCESO_DIF\"], bins=\"auto\")\n",
    "plt.ylabel(\"Frequency\")\n",
    "plt.xlabel(\"Difference (day)\")\n",
    "sns.despine(trim=True)\n",
    "plt.show()"
   ]
  },
  {
   "cell_type": "code",
   "execution_count": 19,
   "metadata": {},
   "outputs": [
    {
     "data": {
      "image/png": "[encoded data removed]",
      "text/plain": [
       "<Figure size 432x288 with 1 Axes>"
      ]
     },
     "metadata": {
      "needs_background": "light"
     },
     "output_type": "display_data"
    }
   ],
   "source": [
    "# Calcular edad del asegurado, tratando edad > 100 como missing\n",
    "data[\"EDAD_ASEG\"] = (\n",
    "    np.datetime64(\"2022-01-01\") - pd.to_datetime(data[\"FECHA_NAC_ASEG\"])\n",
    ") / np.timedelta64(1, 'Y')\n",
    "data.loc[data[\"EDAD_ASEG\"] > 100, \"EDAD_ASEG\"] = np.nan\n",
    "sns.set_context(\"paper\", font_scale=1.5)\n",
    "plt.hist(data[\"EDAD_ASEG\"], bins=\"auto\")\n",
    "plt.ylabel(\"Frequency\")\n",
    "plt.xlabel(\"Age (year)\")\n",
    "sns.despine(trim=True)\n",
    "plt.show()"
   ]
  },
  {
   "cell_type": "code",
   "execution_count": 20,
   "metadata": {},
   "outputs": [
    {
     "data": {
      "text/plain": [
       "Buenos Aires           13520\n",
       "Capital Federal         5552\n",
       "Cordoba                 2050\n",
       "Santa Fe                1255\n",
       "Chaco                    911\n",
       "Tucuman                  717\n",
       "Salta                    580\n",
       "Misiones                 544\n",
       "Formosa                  416\n",
       "Mendoza                  359\n",
       "Entre Rios               278\n",
       "La Pampa                 254\n",
       "San Juan                 230\n",
       "Catamarca                207\n",
       "La Rioja                 178\n",
       "Rio Negro                169\n",
       "Jujuy                    163\n",
       "Corrientes               150\n",
       "Santiago Del Estero      150\n",
       "San Luis                 149\n",
       "Chubut                   130\n",
       "Neuquen                  123\n",
       "Santa Cruz                83\n",
       "Tierra Del Fuego          17\n",
       "Name: PROV_OCURRENCIA, dtype: int64"
      ]
     },
     "execution_count": 20,
     "metadata": {},
     "output_type": "execute_result"
    }
   ],
   "source": [
    "# Convertir el código postal a un distrito de mayor extensión, por ejemplo,\n",
    "# utilizando una tabla para mapear código postal -> provincia\n",
    "zip_codes_data = pd.read_csv(\n",
    "    \"codigos-postales.csv\", sep=\",\", header=0\n",
    ").astype(\"str\").set_index(\"CP\")\n",
    "data[\"PROV_OCURRENCIA\"] = data[\"COD_POST_OCURRENCIA\"].astype(\"str\").str[:4].map(\n",
    "    zip_codes_data[\"Provincia\"].to_dict()\n",
    ")\n",
    "del zip_codes_data\n",
    "data[\"PROV_OCURRENCIA\"].value_counts()"
   ]
  },
  {
   "cell_type": "code",
   "execution_count": 21,
   "metadata": {},
   "outputs": [
    {
     "data": {
      "text/plain": [
       "Otro         15677\n",
       "Avenida       8574\n",
       "Ruta          1945\n",
       "Acceso        1688\n",
       "Autopista     1120\n",
       "Name: LUGAR_OCURRENCIA, dtype: int64"
      ]
     },
     "execution_count": 21,
     "metadata": {},
     "output_type": "execute_result"
    }
   ],
   "source": [
    "# Simplificar LUGAR_OCURRENCIA\n",
    "places_dict = {\n",
    "    \"Avenida\": [\"avenida\", \"avda\", \"av \", \"av.\"],\n",
    "    \"Acceso\": [\"acceso\", \"acc \", \"acc.\", \"ac \", \"ac.\", \"colec\"],\n",
    "    \"Autopista\": [\"autopista\", \"autop \", \"autop.\", \"au \", \"au.\"],\n",
    "    \"Ruta\": [\"ruta\", \"ru \", \"rut \", \"ru.\", \"rut.\"]\n",
    "}\n",
    "lowercase_places = data[\"LUGAR_OCURRENCIA\"].str.lower().copy()\n",
    "data[\"LUGAR_OCURRENCIA\"] = pd.Series(\"Otro\", index=lowercase_places.index)\n",
    "for place, search in places_dict.items():\n",
    "    match = lowercase_places.str.contains(\"|\".join(search)).fillna(False)\n",
    "    data.loc[match, \"LUGAR_OCURRENCIA\"] = place\n",
    "del lowercase_places, places_dict\n",
    "data[\"LUGAR_OCURRENCIA\"].value_counts()"
   ]
  },
  {
   "cell_type": "code",
   "execution_count": 22,
   "metadata": {},
   "outputs": [
    {
     "data": {
      "text/plain": [
       "5        11667\n",
       "999       4115\n",
       "99999     3057\n",
       "44        2339\n",
       "9999      1518\n",
       "13         956\n",
       "8          939\n",
       "28         632\n",
       "1          530\n",
       "25         351\n",
       "Name: OCUPACION_ASEG, dtype: int64"
      ]
     },
     "execution_count": 22,
     "metadata": {},
     "output_type": "execute_result"
    }
   ],
   "source": [
    "# Convertir OCUPACION_ASEG a etiquetas\n",
    "data[\"OCUPACION_ASEG\"] = data[\"OCUPACION_ASEG\"].fillna(0).astype(int).astype(str)\n",
    "data[\"OCUPACION_ASEG\"].value_counts().head(10)"
   ]
  },
  {
   "cell_type": "code",
   "execution_count": 23,
   "metadata": {},
   "outputs": [
    {
     "data": {
      "text/html": [
       "<div>\n",
       "<style scoped>\n",
       "    .dataframe tbody tr th:only-of-type {\n",
       "        vertical-align: middle;\n",
       "    }\n",
       "\n",
       "    .dataframe tbody tr th {\n",
       "        vertical-align: top;\n",
       "    }\n",
       "\n",
       "    .dataframe thead th {\n",
       "        text-align: right;\n",
       "    }\n",
       "</style>\n",
       "<table border=\"1\" class=\"dataframe\">\n",
       "  <thead>\n",
       "    <tr style=\"text-align: right;\">\n",
       "      <th></th>\n",
       "      <th>TIPO_RECLAMO</th>\n",
       "      <th>FECHA_SINI</th>\n",
       "      <th>LUGAR_OCURRENCIA</th>\n",
       "      <th>ESTADO_CIVIL</th>\n",
       "      <th>FECHA_NAC_ASEG</th>\n",
       "      <th>SEXO</th>\n",
       "      <th>OCUPACION_ASEG</th>\n",
       "      <th>FECHA_PROCESO</th>\n",
       "      <th>TIPO_ADMINISTRACION</th>\n",
       "      <th>LATITUD</th>\n",
       "      <th>LONGITUD</th>\n",
       "      <th>TIPO_ADMINISTRACION_FIN</th>\n",
       "      <th>PROV_OCURRENCIA</th>\n",
       "    </tr>\n",
       "  </thead>\n",
       "  <tbody>\n",
       "    <tr>\n",
       "      <th>count</th>\n",
       "      <td>29004</td>\n",
       "      <td>29004</td>\n",
       "      <td>29004</td>\n",
       "      <td>28486</td>\n",
       "      <td>28800</td>\n",
       "      <td>29004</td>\n",
       "      <td>29004</td>\n",
       "      <td>29004</td>\n",
       "      <td>29004</td>\n",
       "      <td>5569</td>\n",
       "      <td>5569</td>\n",
       "      <td>29004</td>\n",
       "      <td>28185</td>\n",
       "    </tr>\n",
       "    <tr>\n",
       "      <th>unique</th>\n",
       "      <td>2</td>\n",
       "      <td>746</td>\n",
       "      <td>5</td>\n",
       "      <td>10</td>\n",
       "      <td>16492</td>\n",
       "      <td>2</td>\n",
       "      <td>48</td>\n",
       "      <td>40</td>\n",
       "      <td>5</td>\n",
       "      <td>5200</td>\n",
       "      <td>5159</td>\n",
       "      <td>5</td>\n",
       "      <td>24</td>\n",
       "    </tr>\n",
       "    <tr>\n",
       "      <th>top</th>\n",
       "      <td>NO TRANSPORTADO</td>\n",
       "      <td>12/18/2019</td>\n",
       "      <td>Otro</td>\n",
       "      <td>CA</td>\n",
       "      <td>1/1/1900</td>\n",
       "      <td>M</td>\n",
       "      <td>5</td>\n",
       "      <td>12/31/2019</td>\n",
       "      <td>A</td>\n",
       "      <td>-58.37388176</td>\n",
       "      <td>-34.60810232</td>\n",
       "      <td>A</td>\n",
       "      <td>Buenos Aires</td>\n",
       "    </tr>\n",
       "    <tr>\n",
       "      <th>freq</th>\n",
       "      <td>27452</td>\n",
       "      <td>109</td>\n",
       "      <td>15677</td>\n",
       "      <td>13580</td>\n",
       "      <td>838</td>\n",
       "      <td>21113</td>\n",
       "      <td>11667</td>\n",
       "      <td>2086</td>\n",
       "      <td>11569</td>\n",
       "      <td>32</td>\n",
       "      <td>32</td>\n",
       "      <td>13760</td>\n",
       "      <td>13520</td>\n",
       "    </tr>\n",
       "  </tbody>\n",
       "</table>\n",
       "</div>"
      ],
      "text/plain": [
       "           TIPO_RECLAMO  FECHA_SINI LUGAR_OCURRENCIA ESTADO_CIVIL  \\\n",
       "count             29004       29004            29004        28486   \n",
       "unique                2         746                5           10   \n",
       "top     NO TRANSPORTADO  12/18/2019             Otro           CA   \n",
       "freq              27452         109            15677        13580   \n",
       "\n",
       "       FECHA_NAC_ASEG   SEXO OCUPACION_ASEG FECHA_PROCESO TIPO_ADMINISTRACION  \\\n",
       "count           28800  29004          29004         29004               29004   \n",
       "unique          16492      2             48            40                   5   \n",
       "top          1/1/1900      M              5    12/31/2019                   A   \n",
       "freq              838  21113          11667          2086               11569   \n",
       "\n",
       "             LATITUD      LONGITUD TIPO_ADMINISTRACION_FIN PROV_OCURRENCIA  \n",
       "count           5569          5569                   29004           28185  \n",
       "unique          5200          5159                       5              24  \n",
       "top     -58.37388176  -34.60810232                       A    Buenos Aires  \n",
       "freq              32            32                   13760           13520  "
      ]
     },
     "execution_count": 23,
     "metadata": {},
     "output_type": "execute_result"
    }
   ],
   "source": [
    "# Características de columnas categóricas\n",
    "data.drop(columns=\"DESCRIP_HECHO\").describe(include=\"object\")"
   ]
  },
  {
   "cell_type": "code",
   "execution_count": 24,
   "metadata": {},
   "outputs": [],
   "source": [
    "# Eliminar algunos atributos\n",
    "data = data.drop(columns=[\n",
    "    \"id_reclamo_evento\", \"id_reclamo\", \"TIPO_RECLAMO\",\n",
    "    \"TIPO_ADMINISTRACION_FIN\", \"FECHA_PROCESO\", \"FECHA_SINI\", \"FECHA_NAC_ASEG\", \"COD_POST_OCURRENCIA\", # Fueron transformadas a otras columnas\n",
    "    \"LATITUD\", \"LONGITUD\", # Tienen demasiados missing values\n",
    "    \"OCUPACION_ASEG\" # Demasiada variabilidad, muchas categorías con pocas observaciones\n",
    "])"
   ]
  },
  {
   "cell_type": "code",
   "execution_count": 25,
   "metadata": {},
   "outputs": [
    {
     "data": {
      "application/vnd.plotly.v1+json": {
       "config": {
        "plotlyServerURL": "https://plot.ly"
       },
       "data": [
        {
         "alignmentgroup": "True",
         "hovertemplate": "columns=M<br>index=%{x}<br>value=%{y}<extra></extra>",
         "legendgroup": "M",
         "marker": {
          "color": "#4C78A8",
          "pattern": {
           "shape": ""
          }
         },
         "name": "M",
         "offsetgroup": "M",
         "orientation": "v",
         "showlegend": true,
         "textposition": "auto",
         "type": "bar",
         "x": [
          "LUGAR_OCURRENCIA",
          "ESTADO_CIVIL",
          "SEXO",
          "TIPO_ADMINISTRACION"
         ],
         "xaxis": "x",
         "y": [
          0,
          0,
          21113,
          0
         ],
         "yaxis": "y"
        },
        {
         "alignmentgroup": "True",
         "hovertemplate": "columns=Ruta<br>index=%{x}<br>value=%{y}<extra></extra>",
         "legendgroup": "Ruta",
         "marker": {
          "color": "#F58518",
          "pattern": {
           "shape": ""
          }
         },
         "name": "Ruta",
         "offsetgroup": "Ruta",
         "orientation": "v",
         "showlegend": true,
         "textposition": "auto",
         "type": "bar",
         "x": [
          "LUGAR_OCURRENCIA",
          "ESTADO_CIVIL",
          "SEXO",
          "TIPO_ADMINISTRACION"
         ],
         "xaxis": "x",
         "y": [
          1945,
          0,
          0,
          0
         ],
         "yaxis": "y"
        },
        {
         "alignmentgroup": "True",
         "hovertemplate": "columns=SO<br>index=%{x}<br>value=%{y}<extra></extra>",
         "legendgroup": "SO",
         "marker": {
          "color": "#E45756",
          "pattern": {
           "shape": ""
          }
         },
         "name": "SO",
         "offsetgroup": "SO",
         "orientation": "v",
         "showlegend": true,
         "textposition": "auto",
         "type": "bar",
         "x": [
          "LUGAR_OCURRENCIA",
          "ESTADO_CIVIL",
          "SEXO",
          "TIPO_ADMINISTRACION"
         ],
         "xaxis": "x",
         "y": [
          0,
          13425,
          0,
          0
         ],
         "yaxis": "y"
        },
        {
         "alignmentgroup": "True",
         "hovertemplate": "columns=Avenida<br>index=%{x}<br>value=%{y}<extra></extra>",
         "legendgroup": "Avenida",
         "marker": {
          "color": "#72B7B2",
          "pattern": {
           "shape": ""
          }
         },
         "name": "Avenida",
         "offsetgroup": "Avenida",
         "orientation": "v",
         "showlegend": true,
         "textposition": "auto",
         "type": "bar",
         "x": [
          "LUGAR_OCURRENCIA",
          "ESTADO_CIVIL",
          "SEXO",
          "TIPO_ADMINISTRACION"
         ],
         "xaxis": "x",
         "y": [
          8574,
          0,
          0,
          0
         ],
         "yaxis": "y"
        },
        {
         "alignmentgroup": "True",
         "hovertemplate": "columns=CA<br>index=%{x}<br>value=%{y}<extra></extra>",
         "legendgroup": "CA",
         "marker": {
          "color": "#54A24B",
          "pattern": {
           "shape": ""
          }
         },
         "name": "CA",
         "offsetgroup": "CA",
         "orientation": "v",
         "showlegend": true,
         "textposition": "auto",
         "type": "bar",
         "x": [
          "LUGAR_OCURRENCIA",
          "ESTADO_CIVIL",
          "SEXO",
          "TIPO_ADMINISTRACION"
         ],
         "xaxis": "x",
         "y": [
          0,
          13580,
          0,
          0
         ],
         "yaxis": "y"
        },
        {
         "alignmentgroup": "True",
         "hovertemplate": "columns=F<br>index=%{x}<br>value=%{y}<extra></extra>",
         "legendgroup": "F",
         "marker": {
          "color": "#EECA3B",
          "pattern": {
           "shape": ""
          }
         },
         "name": "F",
         "offsetgroup": "F",
         "orientation": "v",
         "showlegend": true,
         "textposition": "auto",
         "type": "bar",
         "x": [
          "LUGAR_OCURRENCIA",
          "ESTADO_CIVIL",
          "SEXO",
          "TIPO_ADMINISTRACION"
         ],
         "xaxis": "x",
         "y": [
          0,
          0,
          7891,
          0
         ],
         "yaxis": "y"
        },
        {
         "alignmentgroup": "True",
         "hovertemplate": "columns=Otro<br>index=%{x}<br>value=%{y}<extra></extra>",
         "legendgroup": "Otro",
         "marker": {
          "color": "#B279A2",
          "pattern": {
           "shape": ""
          }
         },
         "name": "Otro",
         "offsetgroup": "Otro",
         "orientation": "v",
         "showlegend": true,
         "textposition": "auto",
         "type": "bar",
         "x": [
          "LUGAR_OCURRENCIA",
          "ESTADO_CIVIL",
          "SEXO",
          "TIPO_ADMINISTRACION"
         ],
         "xaxis": "x",
         "y": [
          15677,
          0,
          0,
          0
         ],
         "yaxis": "y"
        },
        {
         "alignmentgroup": "True",
         "hovertemplate": "columns=Autopista<br>index=%{x}<br>value=%{y}<extra></extra>",
         "legendgroup": "Autopista",
         "marker": {
          "color": "#FF9DA6",
          "pattern": {
           "shape": ""
          }
         },
         "name": "Autopista",
         "offsetgroup": "Autopista",
         "orientation": "v",
         "showlegend": true,
         "textposition": "auto",
         "type": "bar",
         "x": [
          "LUGAR_OCURRENCIA",
          "ESTADO_CIVIL",
          "SEXO",
          "TIPO_ADMINISTRACION"
         ],
         "xaxis": "x",
         "y": [
          1120,
          0,
          0,
          0
         ],
         "yaxis": "y"
        },
        {
         "alignmentgroup": "True",
         "hovertemplate": "columns=NO<br>index=%{x}<br>value=%{y}<extra></extra>",
         "legendgroup": "NO",
         "marker": {
          "color": "#9D755D",
          "pattern": {
           "shape": ""
          }
         },
         "name": "NO",
         "offsetgroup": "NO",
         "orientation": "v",
         "showlegend": true,
         "textposition": "auto",
         "type": "bar",
         "x": [
          "LUGAR_OCURRENCIA",
          "ESTADO_CIVIL",
          "SEXO",
          "TIPO_ADMINISTRACION"
         ],
         "xaxis": "x",
         "y": [
          0,
          7,
          0,
          0
         ],
         "yaxis": "y"
        },
        {
         "alignmentgroup": "True",
         "hovertemplate": "columns=CO<br>index=%{x}<br>value=%{y}<extra></extra>",
         "legendgroup": "CO",
         "marker": {
          "color": "#BAB0AC",
          "pattern": {
           "shape": ""
          }
         },
         "name": "CO",
         "offsetgroup": "CO",
         "orientation": "v",
         "showlegend": true,
         "textposition": "auto",
         "type": "bar",
         "x": [
          "LUGAR_OCURRENCIA",
          "ESTADO_CIVIL",
          "SEXO",
          "TIPO_ADMINISTRACION"
         ],
         "xaxis": "x",
         "y": [
          0,
          31,
          0,
          0
         ],
         "yaxis": "y"
        },
        {
         "alignmentgroup": "True",
         "hovertemplate": "columns=NC<br>index=%{x}<br>value=%{y}<extra></extra>",
         "legendgroup": "NC",
         "marker": {
          "color": "#4C78A8",
          "pattern": {
           "shape": ""
          }
         },
         "name": "NC",
         "offsetgroup": "NC",
         "orientation": "v",
         "showlegend": true,
         "textposition": "auto",
         "type": "bar",
         "x": [
          "LUGAR_OCURRENCIA",
          "ESTADO_CIVIL",
          "SEXO",
          "TIPO_ADMINISTRACION"
         ],
         "xaxis": "x",
         "y": [
          0,
          34,
          0,
          0
         ],
         "yaxis": "y"
        },
        {
         "alignmentgroup": "True",
         "hovertemplate": "columns=SE<br>index=%{x}<br>value=%{y}<extra></extra>",
         "legendgroup": "SE",
         "marker": {
          "color": "#F58518",
          "pattern": {
           "shape": ""
          }
         },
         "name": "SE",
         "offsetgroup": "SE",
         "orientation": "v",
         "showlegend": true,
         "textposition": "auto",
         "type": "bar",
         "x": [
          "LUGAR_OCURRENCIA",
          "ESTADO_CIVIL",
          "SEXO",
          "TIPO_ADMINISTRACION"
         ],
         "xaxis": "x",
         "y": [
          0,
          144,
          0,
          0
         ],
         "yaxis": "y"
        },
        {
         "alignmentgroup": "True",
         "hovertemplate": "columns=UL<br>index=%{x}<br>value=%{y}<extra></extra>",
         "legendgroup": "UL",
         "marker": {
          "color": "#E45756",
          "pattern": {
           "shape": ""
          }
         },
         "name": "UL",
         "offsetgroup": "UL",
         "orientation": "v",
         "showlegend": true,
         "textposition": "auto",
         "type": "bar",
         "x": [
          "LUGAR_OCURRENCIA",
          "ESTADO_CIVIL",
          "SEXO",
          "TIPO_ADMINISTRACION"
         ],
         "xaxis": "x",
         "y": [
          0,
          216,
          0,
          0
         ],
         "yaxis": "y"
        },
        {
         "alignmentgroup": "True",
         "hovertemplate": "columns=VI<br>index=%{x}<br>value=%{y}<extra></extra>",
         "legendgroup": "VI",
         "marker": {
          "color": "#72B7B2",
          "pattern": {
           "shape": ""
          }
         },
         "name": "VI",
         "offsetgroup": "VI",
         "orientation": "v",
         "showlegend": true,
         "textposition": "auto",
         "type": "bar",
         "x": [
          "LUGAR_OCURRENCIA",
          "ESTADO_CIVIL",
          "SEXO",
          "TIPO_ADMINISTRACION"
         ],
         "xaxis": "x",
         "y": [
          0,
          237,
          0,
          0
         ],
         "yaxis": "y"
        },
        {
         "alignmentgroup": "True",
         "hovertemplate": "columns=DI<br>index=%{x}<br>value=%{y}<extra></extra>",
         "legendgroup": "DI",
         "marker": {
          "color": "#54A24B",
          "pattern": {
           "shape": ""
          }
         },
         "name": "DI",
         "offsetgroup": "DI",
         "orientation": "v",
         "showlegend": true,
         "textposition": "auto",
         "type": "bar",
         "x": [
          "LUGAR_OCURRENCIA",
          "ESTADO_CIVIL",
          "SEXO",
          "TIPO_ADMINISTRACION"
         ],
         "xaxis": "x",
         "y": [
          0,
          793,
          0,
          0
         ],
         "yaxis": "y"
        },
        {
         "alignmentgroup": "True",
         "hovertemplate": "columns=UC<br>index=%{x}<br>value=%{y}<extra></extra>",
         "legendgroup": "UC",
         "marker": {
          "color": "#EECA3B",
          "pattern": {
           "shape": ""
          }
         },
         "name": "UC",
         "offsetgroup": "UC",
         "orientation": "v",
         "showlegend": true,
         "textposition": "auto",
         "type": "bar",
         "x": [
          "LUGAR_OCURRENCIA",
          "ESTADO_CIVIL",
          "SEXO",
          "TIPO_ADMINISTRACION"
         ],
         "xaxis": "x",
         "y": [
          0,
          19,
          0,
          0
         ],
         "yaxis": "y"
        },
        {
         "alignmentgroup": "True",
         "hovertemplate": "columns=Acceso<br>index=%{x}<br>value=%{y}<extra></extra>",
         "legendgroup": "Acceso",
         "marker": {
          "color": "#B279A2",
          "pattern": {
           "shape": ""
          }
         },
         "name": "Acceso",
         "offsetgroup": "Acceso",
         "orientation": "v",
         "showlegend": true,
         "textposition": "auto",
         "type": "bar",
         "x": [
          "LUGAR_OCURRENCIA",
          "ESTADO_CIVIL",
          "SEXO",
          "TIPO_ADMINISTRACION"
         ],
         "xaxis": "x",
         "y": [
          1688,
          0,
          0,
          0
         ],
         "yaxis": "y"
        },
        {
         "alignmentgroup": "True",
         "hovertemplate": "columns=S<br>index=%{x}<br>value=%{y}<extra></extra>",
         "legendgroup": "S",
         "marker": {
          "color": "#FF9DA6",
          "pattern": {
           "shape": ""
          }
         },
         "name": "S",
         "offsetgroup": "S",
         "orientation": "v",
         "showlegend": true,
         "textposition": "auto",
         "type": "bar",
         "x": [
          "LUGAR_OCURRENCIA",
          "ESTADO_CIVIL",
          "SEXO",
          "TIPO_ADMINISTRACION"
         ],
         "xaxis": "x",
         "y": [
          0,
          0,
          0,
          80
         ],
         "yaxis": "y"
        },
        {
         "alignmentgroup": "True",
         "hovertemplate": "columns=D<br>index=%{x}<br>value=%{y}<extra></extra>",
         "legendgroup": "D",
         "marker": {
          "color": "#9D755D",
          "pattern": {
           "shape": ""
          }
         },
         "name": "D",
         "offsetgroup": "D",
         "orientation": "v",
         "showlegend": true,
         "textposition": "auto",
         "type": "bar",
         "x": [
          "LUGAR_OCURRENCIA",
          "ESTADO_CIVIL",
          "SEXO",
          "TIPO_ADMINISTRACION"
         ],
         "xaxis": "x",
         "y": [
          0,
          0,
          0,
          1834
         ],
         "yaxis": "y"
        },
        {
         "alignmentgroup": "True",
         "hovertemplate": "columns=C<br>index=%{x}<br>value=%{y}<extra></extra>",
         "legendgroup": "C",
         "marker": {
          "color": "#BAB0AC",
          "pattern": {
           "shape": ""
          }
         },
         "name": "C",
         "offsetgroup": "C",
         "orientation": "v",
         "showlegend": true,
         "textposition": "auto",
         "type": "bar",
         "x": [
          "LUGAR_OCURRENCIA",
          "ESTADO_CIVIL",
          "SEXO",
          "TIPO_ADMINISTRACION"
         ],
         "xaxis": "x",
         "y": [
          0,
          0,
          0,
          4838
         ],
         "yaxis": "y"
        },
        {
         "alignmentgroup": "True",
         "hovertemplate": "columns=B<br>index=%{x}<br>value=%{y}<extra></extra>",
         "legendgroup": "B",
         "marker": {
          "color": "#4C78A8",
          "pattern": {
           "shape": ""
          }
         },
         "name": "B",
         "offsetgroup": "B",
         "orientation": "v",
         "showlegend": true,
         "textposition": "auto",
         "type": "bar",
         "x": [
          "LUGAR_OCURRENCIA",
          "ESTADO_CIVIL",
          "SEXO",
          "TIPO_ADMINISTRACION"
         ],
         "xaxis": "x",
         "y": [
          0,
          0,
          0,
          10683
         ],
         "yaxis": "y"
        },
        {
         "alignmentgroup": "True",
         "hovertemplate": "columns=A<br>index=%{x}<br>value=%{y}<extra></extra>",
         "legendgroup": "A",
         "marker": {
          "color": "#F58518",
          "pattern": {
           "shape": ""
          }
         },
         "name": "A",
         "offsetgroup": "A",
         "orientation": "v",
         "showlegend": true,
         "textposition": "auto",
         "type": "bar",
         "x": [
          "LUGAR_OCURRENCIA",
          "ESTADO_CIVIL",
          "SEXO",
          "TIPO_ADMINISTRACION"
         ],
         "xaxis": "x",
         "y": [
          0,
          0,
          0,
          11569
         ],
         "yaxis": "y"
        }
       ],
       "layout": {
        "barmode": "relative",
        "font": {
         "color": "black"
        },
        "legend": {
         "title": {
          "text": "Possible values"
         },
         "tracegroupgap": 0
        },
        "margin": {
         "t": 60
        },
        "plot_bgcolor": "white",
        "template": {
         "data": {
          "bar": [
           {
            "error_x": {
             "color": "#2a3f5f"
            },
            "error_y": {
             "color": "#2a3f5f"
            },
            "marker": {
             "line": {
              "color": "#E5ECF6",
              "width": 0.5
             },
             "pattern": {
              "fillmode": "overlay",
              "size": 10,
              "solidity": 0.2
             }
            },
            "type": "bar"
           }
          ],
          "barpolar": [
           {
            "marker": {
             "line": {
              "color": "#E5ECF6",
              "width": 0.5
             },
             "pattern": {
              "fillmode": "overlay",
              "size": 10,
              "solidity": 0.2
             }
            },
            "type": "barpolar"
           }
          ],
          "carpet": [
           {
            "aaxis": {
             "endlinecolor": "#2a3f5f",
             "gridcolor": "white",
             "linecolor": "white",
             "minorgridcolor": "white",
             "startlinecolor": "#2a3f5f"
            },
            "baxis": {
             "endlinecolor": "#2a3f5f",
             "gridcolor": "white",
             "linecolor": "white",
             "minorgridcolor": "white",
             "startlinecolor": "#2a3f5f"
            },
            "type": "carpet"
           }
          ],
          "choropleth": [
           {
            "colorbar": {
             "outlinewidth": 0,
             "ticks": ""
            },
            "type": "choropleth"
           }
          ],
          "contour": [
           {
            "colorbar": {
             "outlinewidth": 0,
             "ticks": ""
            },
            "colorscale": [
             [
              0,
              "#0d0887"
             ],
             [
              0.1111111111111111,
              "#46039f"
             ],
             [
              0.2222222222222222,
              "#7201a8"
             ],
             [
              0.3333333333333333,
              "#9c179e"
             ],
             [
              0.4444444444444444,
              "#bd3786"
             ],
             [
              0.5555555555555556,
              "#d8576b"
             ],
             [
              0.6666666666666666,
              "#ed7953"
             ],
             [
              0.7777777777777778,
              "#fb9f3a"
             ],
             [
              0.8888888888888888,
              "#fdca26"
             ],
             [
              1,
              "#f0f921"
             ]
            ],
            "type": "contour"
           }
          ],
          "contourcarpet": [
           {
            "colorbar": {
             "outlinewidth": 0,
             "ticks": ""
            },
            "type": "contourcarpet"
           }
          ],
          "heatmap": [
           {
            "colorbar": {
             "outlinewidth": 0,
             "ticks": ""
            },
            "colorscale": [
             [
              0,
              "#0d0887"
             ],
             [
              0.1111111111111111,
              "#46039f"
             ],
             [
              0.2222222222222222,
              "#7201a8"
             ],
             [
              0.3333333333333333,
              "#9c179e"
             ],
             [
              0.4444444444444444,
              "#bd3786"
             ],
             [
              0.5555555555555556,
              "#d8576b"
             ],
             [
              0.6666666666666666,
              "#ed7953"
             ],
             [
              0.7777777777777778,
              "#fb9f3a"
             ],
             [
              0.8888888888888888,
              "#fdca26"
             ],
             [
              1,
              "#f0f921"
             ]
            ],
            "type": "heatmap"
           }
          ],
          "heatmapgl": [
           {
            "colorbar": {
             "outlinewidth": 0,
             "ticks": ""
            },
            "colorscale": [
             [
              0,
              "#0d0887"
             ],
             [
              0.1111111111111111,
              "#46039f"
             ],
             [
              0.2222222222222222,
              "#7201a8"
             ],
             [
              0.3333333333333333,
              "#9c179e"
             ],
             [
              0.4444444444444444,
              "#bd3786"
             ],
             [
              0.5555555555555556,
              "#d8576b"
             ],
             [
              0.6666666666666666,
              "#ed7953"
             ],
             [
              0.7777777777777778,
              "#fb9f3a"
             ],
             [
              0.8888888888888888,
              "#fdca26"
             ],
             [
              1,
              "#f0f921"
             ]
            ],
            "type": "heatmapgl"
           }
          ],
          "histogram": [
           {
            "marker": {
             "pattern": {
              "fillmode": "overlay",
              "size": 10,
              "solidity": 0.2
             }
            },
            "type": "histogram"
           }
          ],
          "histogram2d": [
           {
            "colorbar": {
             "outlinewidth": 0,
             "ticks": ""
            },
            "colorscale": [
             [
              0,
              "#0d0887"
             ],
             [
              0.1111111111111111,
              "#46039f"
             ],
             [
              0.2222222222222222,
              "#7201a8"
             ],
             [
              0.3333333333333333,
              "#9c179e"
             ],
             [
              0.4444444444444444,
              "#bd3786"
             ],
             [
              0.5555555555555556,
              "#d8576b"
             ],
             [
              0.6666666666666666,
              "#ed7953"
             ],
             [
              0.7777777777777778,
              "#fb9f3a"
             ],
             [
              0.8888888888888888,
              "#fdca26"
             ],
             [
              1,
              "#f0f921"
             ]
            ],
            "type": "histogram2d"
           }
          ],
          "histogram2dcontour": [
           {
            "colorbar": {
             "outlinewidth": 0,
             "ticks": ""
            },
            "colorscale": [
             [
              0,
              "#0d0887"
             ],
             [
              0.1111111111111111,
              "#46039f"
             ],
             [
              0.2222222222222222,
              "#7201a8"
             ],
             [
              0.3333333333333333,
              "#9c179e"
             ],
             [
              0.4444444444444444,
              "#bd3786"
             ],
             [
              0.5555555555555556,
              "#d8576b"
             ],
             [
              0.6666666666666666,
              "#ed7953"
             ],
             [
              0.7777777777777778,
              "#fb9f3a"
             ],
             [
              0.8888888888888888,
              "#fdca26"
             ],
             [
              1,
              "#f0f921"
             ]
            ],
            "type": "histogram2dcontour"
           }
          ],
          "mesh3d": [
           {
            "colorbar": {
             "outlinewidth": 0,
             "ticks": ""
            },
            "type": "mesh3d"
           }
          ],
          "parcoords": [
           {
            "line": {
             "colorbar": {
              "outlinewidth": 0,
              "ticks": ""
             }
            },
            "type": "parcoords"
           }
          ],
          "pie": [
           {
            "automargin": true,
            "type": "pie"
           }
          ],
          "scatter": [
           {
            "marker": {
             "colorbar": {
              "outlinewidth": 0,
              "ticks": ""
             }
            },
            "type": "scatter"
           }
          ],
          "scatter3d": [
           {
            "line": {
             "colorbar": {
              "outlinewidth": 0,
              "ticks": ""
             }
            },
            "marker": {
             "colorbar": {
              "outlinewidth": 0,
              "ticks": ""
             }
            },
            "type": "scatter3d"
           }
          ],
          "scattercarpet": [
           {
            "marker": {
             "colorbar": {
              "outlinewidth": 0,
              "ticks": ""
             }
            },
            "type": "scattercarpet"
           }
          ],
          "scattergeo": [
           {
            "marker": {
             "colorbar": {
              "outlinewidth": 0,
              "ticks": ""
             }
            },
            "type": "scattergeo"
           }
          ],
          "scattergl": [
           {
            "marker": {
             "colorbar": {
              "outlinewidth": 0,
              "ticks": ""
             }
            },
            "type": "scattergl"
           }
          ],
          "scattermapbox": [
           {
            "marker": {
             "colorbar": {
              "outlinewidth": 0,
              "ticks": ""
             }
            },
            "type": "scattermapbox"
           }
          ],
          "scatterpolar": [
           {
            "marker": {
             "colorbar": {
              "outlinewidth": 0,
              "ticks": ""
             }
            },
            "type": "scatterpolar"
           }
          ],
          "scatterpolargl": [
           {
            "marker": {
             "colorbar": {
              "outlinewidth": 0,
              "ticks": ""
             }
            },
            "type": "scatterpolargl"
           }
          ],
          "scatterternary": [
           {
            "marker": {
             "colorbar": {
              "outlinewidth": 0,
              "ticks": ""
             }
            },
            "type": "scatterternary"
           }
          ],
          "surface": [
           {
            "colorbar": {
             "outlinewidth": 0,
             "ticks": ""
            },
            "colorscale": [
             [
              0,
              "#0d0887"
             ],
             [
              0.1111111111111111,
              "#46039f"
             ],
             [
              0.2222222222222222,
              "#7201a8"
             ],
             [
              0.3333333333333333,
              "#9c179e"
             ],
             [
              0.4444444444444444,
              "#bd3786"
             ],
             [
              0.5555555555555556,
              "#d8576b"
             ],
             [
              0.6666666666666666,
              "#ed7953"
             ],
             [
              0.7777777777777778,
              "#fb9f3a"
             ],
             [
              0.8888888888888888,
              "#fdca26"
             ],
             [
              1,
              "#f0f921"
             ]
            ],
            "type": "surface"
           }
          ],
          "table": [
           {
            "cells": {
             "fill": {
              "color": "#EBF0F8"
             },
             "line": {
              "color": "white"
             }
            },
            "header": {
             "fill": {
              "color": "#C8D4E3"
             },
             "line": {
              "color": "white"
             }
            },
            "type": "table"
           }
          ]
         },
         "layout": {
          "annotationdefaults": {
           "arrowcolor": "#2a3f5f",
           "arrowhead": 0,
           "arrowwidth": 1
          },
          "autotypenumbers": "strict",
          "coloraxis": {
           "colorbar": {
            "outlinewidth": 0,
            "ticks": ""
           }
          },
          "colorscale": {
           "diverging": [
            [
             0,
             "#8e0152"
            ],
            [
             0.1,
             "#c51b7d"
            ],
            [
             0.2,
             "#de77ae"
            ],
            [
             0.3,
             "#f1b6da"
            ],
            [
             0.4,
             "#fde0ef"
            ],
            [
             0.5,
             "#f7f7f7"
            ],
            [
             0.6,
             "#e6f5d0"
            ],
            [
             0.7,
             "#b8e186"
            ],
            [
             0.8,
             "#7fbc41"
            ],
            [
             0.9,
             "#4d9221"
            ],
            [
             1,
             "#276419"
            ]
           ],
           "sequential": [
            [
             0,
             "#0d0887"
            ],
            [
             0.1111111111111111,
             "#46039f"
            ],
            [
             0.2222222222222222,
             "#7201a8"
            ],
            [
             0.3333333333333333,
             "#9c179e"
            ],
            [
             0.4444444444444444,
             "#bd3786"
            ],
            [
             0.5555555555555556,
             "#d8576b"
            ],
            [
             0.6666666666666666,
             "#ed7953"
            ],
            [
             0.7777777777777778,
             "#fb9f3a"
            ],
            [
             0.8888888888888888,
             "#fdca26"
            ],
            [
             1,
             "#f0f921"
            ]
           ],
           "sequentialminus": [
            [
             0,
             "#0d0887"
            ],
            [
             0.1111111111111111,
             "#46039f"
            ],
            [
             0.2222222222222222,
             "#7201a8"
            ],
            [
             0.3333333333333333,
             "#9c179e"
            ],
            [
             0.4444444444444444,
             "#bd3786"
            ],
            [
             0.5555555555555556,
             "#d8576b"
            ],
            [
             0.6666666666666666,
             "#ed7953"
            ],
            [
             0.7777777777777778,
             "#fb9f3a"
            ],
            [
             0.8888888888888888,
             "#fdca26"
            ],
            [
             1,
             "#f0f921"
            ]
           ]
          },
          "colorway": [
           "#636efa",
           "#EF553B",
           "#00cc96",
           "#ab63fa",
           "#FFA15A",
           "#19d3f3",
           "#FF6692",
           "#B6E880",
           "#FF97FF",
           "#FECB52"
          ],
          "font": {
           "color": "#2a3f5f"
          },
          "geo": {
           "bgcolor": "white",
           "lakecolor": "white",
           "landcolor": "#E5ECF6",
           "showlakes": true,
           "showland": true,
           "subunitcolor": "white"
          },
          "hoverlabel": {
           "align": "left"
          },
          "hovermode": "closest",
          "mapbox": {
           "style": "light"
          },
          "paper_bgcolor": "white",
          "plot_bgcolor": "#E5ECF6",
          "polar": {
           "angularaxis": {
            "gridcolor": "white",
            "linecolor": "white",
            "ticks": ""
           },
           "bgcolor": "#E5ECF6",
           "radialaxis": {
            "gridcolor": "white",
            "linecolor": "white",
            "ticks": ""
           }
          },
          "scene": {
           "xaxis": {
            "backgroundcolor": "#E5ECF6",
            "gridcolor": "white",
            "gridwidth": 2,
            "linecolor": "white",
            "showbackground": true,
            "ticks": "",
            "zerolinecolor": "white"
           },
           "yaxis": {
            "backgroundcolor": "#E5ECF6",
            "gridcolor": "white",
            "gridwidth": 2,
            "linecolor": "white",
            "showbackground": true,
            "ticks": "",
            "zerolinecolor": "white"
           },
           "zaxis": {
            "backgroundcolor": "#E5ECF6",
            "gridcolor": "white",
            "gridwidth": 2,
            "linecolor": "white",
            "showbackground": true,
            "ticks": "",
            "zerolinecolor": "white"
           }
          },
          "shapedefaults": {
           "line": {
            "color": "#2a3f5f"
           }
          },
          "ternary": {
           "aaxis": {
            "gridcolor": "white",
            "linecolor": "white",
            "ticks": ""
           },
           "baxis": {
            "gridcolor": "white",
            "linecolor": "white",
            "ticks": ""
           },
           "bgcolor": "#E5ECF6",
           "caxis": {
            "gridcolor": "white",
            "linecolor": "white",
            "ticks": ""
           }
          },
          "title": {
           "x": 0.05
          },
          "xaxis": {
           "automargin": true,
           "gridcolor": "white",
           "linecolor": "white",
           "ticks": "",
           "title": {
            "standoff": 15
           },
           "zerolinecolor": "white",
           "zerolinewidth": 2
          },
          "yaxis": {
           "automargin": true,
           "gridcolor": "white",
           "linecolor": "white",
           "ticks": "",
           "title": {
            "standoff": 15
           },
           "zerolinecolor": "white",
           "zerolinewidth": 2
          }
         }
        },
        "xaxis": {
         "anchor": "y",
         "domain": [
          0,
          1
         ],
         "tickangle": -45,
         "title": {
          "text": "Categorical Columns"
         }
        },
        "yaxis": {
         "anchor": "x",
         "domain": [
          0,
          1
         ],
         "title": {
          "text": "Count"
         }
        }
       }
      }
     },
     "metadata": {},
     "output_type": "display_data"
    }
   ],
   "source": [
    "# Veamos algunas columnas categóricas\n",
    "show_categorical_columns = data.columns[data.dtypes==\"object\"]\n",
    "show_categorical_columns = show_categorical_columns[data[show_categorical_columns].nunique() < 20]\n",
    "data_cuentas = pd.crosstab(**data[show_categorical_columns].melt(var_name=\"index\", value_name=\"columns\"))\n",
    "data_cuentas = data_cuentas.reindex(show_categorical_columns)\n",
    "for i in data_cuentas.index:\n",
    "    \"\"\"Sort row i by column values\"\"\"\n",
    "    data_cuentas = data_cuentas[data_cuentas.columns[data_cuentas.loc[i].argsort()]]\n",
    "fig = px.bar(\n",
    "    data_cuentas,\n",
    "    x = data_cuentas.index,\n",
    "    y = data_cuentas.columns,\n",
    "    color_discrete_sequence=px.colors.qualitative.T10\n",
    ")\n",
    "fig.update_layout(\n",
    "    xaxis_tickangle=-45,\n",
    "    xaxis_title=\"Categorical Columns\",\n",
    "    yaxis_title=\"Count\",\n",
    "    legend_title_text=\"Possible values\",\n",
    "    font_color=\"black\",\n",
    "    plot_bgcolor=\"white\",\n",
    ")\n",
    "fig.show()"
   ]
  },
  {
   "cell_type": "markdown",
   "metadata": {},
   "source": [
    "---\n",
    "### Procesamiento de texto\n",
    "\n",
    "Convertir las descripciones de los siniestros en conjuntos de ngrams, para luego clasificarlos usando un modelo Naive Bayes.\n",
    "\n",
    "El modelo Naive Bayes es uno de los modelos más sencillos de NLP, y tiene capacidad de aprender features interesantes.\n",
    "\n",
    "Se podrían explorar modelos más complejos con redes neuronales recurrentes o con transformers, por ejemplo."
   ]
  },
  {
   "cell_type": "code",
   "execution_count": 27,
   "metadata": {},
   "outputs": [],
   "source": [
    "# Named Entity Recognition, Tokenizer, SpellChecker, Stemmer y tamaño de los ngrams\n",
    "ner = StanzaPipeline(lang=\"es\", processors=\"tokenize, ner\", verbose=False, use_gpu=False) # Lo estoy corriendo en una laptop sin GPU\n",
    "tokenizer = RegexpTokenizer(r\"[a-zA-Z]+\")\n",
    "spell = SpellChecker(distance=3, language=\"es\")\n",
    "stemmer = SnowballStemmer(\"spanish\")\n",
    "n_ngram = 5"
   ]
  },
  {
   "cell_type": "code",
   "execution_count": 28,
   "metadata": {},
   "outputs": [],
   "source": [
    "# Funciones para transformar las descripciones de los siniestros\n",
    "def text_preprocessing(words, ner, tokenizer, spell, stemmer):\n",
    "    \"\"\"Pre-procesamiento de texto.\"\"\"\n",
    "    # Remover Named Entities (nombres propios de lugares, personas, organizaciones y miscelánea)\n",
    "    i = 0\n",
    "    new_words = \"\"\n",
    "    for entity in ner(words).ents:\n",
    "        new_words += words[i:entity.start_char]\n",
    "        i = entity.end_char\n",
    "    new_words += words[i:]\n",
    "\n",
    "    # Cambiar a minúsculas\n",
    "    new_words = new_words.lower()\n",
    "\n",
    "    # Remover números, puntuación y separar en palabras\n",
    "    new_words = tokenizer.tokenize(new_words)\n",
    "\n",
    "    # Corrección ortográfica\n",
    "    new_words = [word if word in spell else spell.correction(word) for word in new_words]\n",
    "\n",
    "    # Remover stop words\n",
    "    new_words = [word for word in new_words if word not in set(stopwords.words(\"spanish\"))]\n",
    "\n",
    "    # Obtener stems\n",
    "    new_words = [stemmer.stem(word) for word in new_words]\n",
    "\n",
    "    return new_words\n",
    "\n",
    "# Calcular ngrams\n",
    "def ngram_features(words, n):\n",
    "    \"\"\"Retorna ngrams observados en words, desde orden 1 hasta n.\"\"\"\n",
    "    return {ngram: True for ngram in everygrams(words, 1, n)}"
   ]
  },
  {
   "cell_type": "code",
   "execution_count": 29,
   "metadata": {},
   "outputs": [],
   "source": [
    "# Pipeline de procesamiento de texto\n",
    "nlp_preprocessor = lambda x: ngram_features(text_preprocessing(x, ner, tokenizer, spell, stemmer), n_ngram)\n",
    "\n",
    "# Procesar descripciones de los siniestros (se tarda 7 horas en mi compu, así que guardé los resultados en un pickle)\n",
    "# La parte del pipeline que más tiempo toma es la de NER: se podría omitir ese paso, procesar en paralelo con multiprocessing, o usar una GPU\n",
    "# data[\"DESCRIP_HECHO\"] = data[\"DESCRIP_HECHO\"].map(nlp_preprocessor)\n",
    "# data[\"DESCRIP_HECHO\"].to_pickle(\"nlp_text.pickle\")\n",
    "data[\"DESCRIP_HECHO\"] = pd.read_pickle(\"nlp_text.pickle\")\n"
   ]
  },
  {
   "cell_type": "markdown",
   "metadata": {},
   "source": [
    "---\n",
    "### Conjuntos de entrenamiento y de prueba"
   ]
  },
  {
   "cell_type": "code",
   "execution_count": 30,
   "metadata": {},
   "outputs": [],
   "source": [
    "# Dividir los datos en conjuntos de train y test\n",
    "[\n",
    "    idx_train, idx_test,\n",
    "    X_train, X_test,\n",
    "    y_train, y_test\n",
    "] = train_test_split(\n",
    "    data.index,\n",
    "    data.drop(columns=[\"target\"]),\n",
    "    data[\"target\"],\n",
    "    test_size=0.2,\n",
    "    random_state=42\n",
    ")"
   ]
  },
  {
   "cell_type": "code",
   "execution_count": 31,
   "metadata": {},
   "outputs": [
    {
     "data": {
      "text/html": [
       "<div>\n",
       "<style scoped>\n",
       "    .dataframe tbody tr th:only-of-type {\n",
       "        vertical-align: middle;\n",
       "    }\n",
       "\n",
       "    .dataframe tbody tr th {\n",
       "        vertical-align: top;\n",
       "    }\n",
       "\n",
       "    .dataframe thead th {\n",
       "        text-align: right;\n",
       "    }\n",
       "</style>\n",
       "<table border=\"1\" class=\"dataframe\">\n",
       "  <thead>\n",
       "    <tr style=\"text-align: right;\">\n",
       "      <th></th>\n",
       "      <th>LUGAR_OCURRENCIA</th>\n",
       "      <th>ESTADO_CIVIL</th>\n",
       "      <th>SEXO</th>\n",
       "      <th>MODELO_VEHICULO</th>\n",
       "      <th>DESCRIP_HECHO</th>\n",
       "      <th>HORA_SINI</th>\n",
       "      <th>CANT_RECLAMOS</th>\n",
       "      <th>FECHA_SINI_MES</th>\n",
       "      <th>FECHA_SINI_DIA_MES</th>\n",
       "      <th>FECHA_SINI_DIA_SEMANA</th>\n",
       "      <th>FECHA_PROCESO_DIF</th>\n",
       "      <th>EDAD_ASEG</th>\n",
       "      <th>PROV_OCURRENCIA</th>\n",
       "    </tr>\n",
       "    <tr>\n",
       "      <th>id_evento</th>\n",
       "      <th></th>\n",
       "      <th></th>\n",
       "      <th></th>\n",
       "      <th></th>\n",
       "      <th></th>\n",
       "      <th></th>\n",
       "      <th></th>\n",
       "      <th></th>\n",
       "      <th></th>\n",
       "      <th></th>\n",
       "      <th></th>\n",
       "      <th></th>\n",
       "      <th></th>\n",
       "    </tr>\n",
       "  </thead>\n",
       "  <tbody>\n",
       "    <tr>\n",
       "      <th>23811</th>\n",
       "      <td>Otro</td>\n",
       "      <td>CA</td>\n",
       "      <td>F</td>\n",
       "      <td>2016.0</td>\n",
       "      <td>{('asegur',): True, ('asegur', 'sal'): True, (...</td>\n",
       "      <td>12.00</td>\n",
       "      <td>2</td>\n",
       "      <td>10.828292</td>\n",
       "      <td>27</td>\n",
       "      <td>7</td>\n",
       "      <td>4.0</td>\n",
       "      <td>42.612785</td>\n",
       "      <td>Capital Federal</td>\n",
       "    </tr>\n",
       "    <tr>\n",
       "      <th>5654</th>\n",
       "      <td>Avenida</td>\n",
       "      <td>SO</td>\n",
       "      <td>M</td>\n",
       "      <td>2018.0</td>\n",
       "      <td>{('asegur',): True, ('asegur', 'circul'): True...</td>\n",
       "      <td>0.25</td>\n",
       "      <td>2</td>\n",
       "      <td>3.698782</td>\n",
       "      <td>24</td>\n",
       "      <td>7</td>\n",
       "      <td>7.0</td>\n",
       "      <td>44.261005</td>\n",
       "      <td>Buenos Aires</td>\n",
       "    </tr>\n",
       "    <tr>\n",
       "      <th>13145</th>\n",
       "      <td>Avenida</td>\n",
       "      <td>SO</td>\n",
       "      <td>F</td>\n",
       "      <td>2015.0</td>\n",
       "      <td>{('circul',): True, ('circul', 'rotond'): True...</td>\n",
       "      <td>17.00</td>\n",
       "      <td>2</td>\n",
       "      <td>11.732294</td>\n",
       "      <td>23</td>\n",
       "      <td>2</td>\n",
       "      <td>7.0</td>\n",
       "      <td>47.075573</td>\n",
       "      <td>Buenos Aires</td>\n",
       "    </tr>\n",
       "    <tr>\n",
       "      <th>10514</th>\n",
       "      <td>Otro</td>\n",
       "      <td>SO</td>\n",
       "      <td>M</td>\n",
       "      <td>2017.0</td>\n",
       "      <td>{('deten',): True, ('deten', 'semafor'): True,...</td>\n",
       "      <td>17.00</td>\n",
       "      <td>2</td>\n",
       "      <td>5.571511</td>\n",
       "      <td>20</td>\n",
       "      <td>1</td>\n",
       "      <td>11.0</td>\n",
       "      <td>26.500202</td>\n",
       "      <td>Cordoba</td>\n",
       "    </tr>\n",
       "    <tr>\n",
       "      <th>23039</th>\n",
       "      <td>Avenida</td>\n",
       "      <td>CA</td>\n",
       "      <td>F</td>\n",
       "      <td>2012.0</td>\n",
       "      <td>{('deten',): True, ('deten', 'semafor'): True,...</td>\n",
       "      <td>20.50</td>\n",
       "      <td>2</td>\n",
       "      <td>10.499743</td>\n",
       "      <td>17</td>\n",
       "      <td>4</td>\n",
       "      <td>14.0</td>\n",
       "      <td>56.378981</td>\n",
       "      <td>Capital Federal</td>\n",
       "    </tr>\n",
       "  </tbody>\n",
       "</table>\n",
       "</div>"
      ],
      "text/plain": [
       "          LUGAR_OCURRENCIA ESTADO_CIVIL SEXO  MODELO_VEHICULO  \\\n",
       "id_evento                                                       \n",
       "23811                 Otro           CA    F           2016.0   \n",
       "5654               Avenida           SO    M           2018.0   \n",
       "13145              Avenida           SO    F           2015.0   \n",
       "10514                 Otro           SO    M           2017.0   \n",
       "23039              Avenida           CA    F           2012.0   \n",
       "\n",
       "                                               DESCRIP_HECHO  HORA_SINI  \\\n",
       "id_evento                                                                 \n",
       "23811      {('asegur',): True, ('asegur', 'sal'): True, (...      12.00   \n",
       "5654       {('asegur',): True, ('asegur', 'circul'): True...       0.25   \n",
       "13145      {('circul',): True, ('circul', 'rotond'): True...      17.00   \n",
       "10514      {('deten',): True, ('deten', 'semafor'): True,...      17.00   \n",
       "23039      {('deten',): True, ('deten', 'semafor'): True,...      20.50   \n",
       "\n",
       "           CANT_RECLAMOS  FECHA_SINI_MES  FECHA_SINI_DIA_MES  \\\n",
       "id_evento                                                      \n",
       "23811                  2       10.828292                  27   \n",
       "5654                   2        3.698782                  24   \n",
       "13145                  2       11.732294                  23   \n",
       "10514                  2        5.571511                  20   \n",
       "23039                  2       10.499743                  17   \n",
       "\n",
       "           FECHA_SINI_DIA_SEMANA  FECHA_PROCESO_DIF  EDAD_ASEG  \\\n",
       "id_evento                                                        \n",
       "23811                          7                4.0  42.612785   \n",
       "5654                           7                7.0  44.261005   \n",
       "13145                          2                7.0  47.075573   \n",
       "10514                          1               11.0  26.500202   \n",
       "23039                          4               14.0  56.378981   \n",
       "\n",
       "           PROV_OCURRENCIA  \n",
       "id_evento                   \n",
       "23811      Capital Federal  \n",
       "5654          Buenos Aires  \n",
       "13145         Buenos Aires  \n",
       "10514              Cordoba  \n",
       "23039      Capital Federal  "
      ]
     },
     "execution_count": 31,
     "metadata": {},
     "output_type": "execute_result"
    }
   ],
   "source": [
    "# Un vistazo a los atributos\n",
    "X_train.head()"
   ]
  },
  {
   "cell_type": "markdown",
   "metadata": {},
   "source": [
    "---\n",
    "### Implementación de modelos de clasificación"
   ]
  },
  {
   "cell_type": "code",
   "execution_count": 32,
   "metadata": {},
   "outputs": [],
   "source": [
    "# Incorporar el NaiveBayesClassifier de nltk a pipelines de sklearn\n",
    "# NaiveBayesScores devuelve el log-odds de la descripción de un siniestro\n",
    "# A mayor log-odds, mayor es la probabilidad estimada de que el asegurado tenga la responsabilidad del siniestro\n",
    "class NaiveBayesScores(BaseEstimator, TransformerMixin):\n",
    "    \"\"\"Wrapper para hacer compatible con la API de sklearn al NaiveBayesClassifier de nltk.\"\"\"\n",
    "    def __init__(self, labels_dict):\n",
    "        self.labels_dict = labels_dict\n",
    "\n",
    "    def fit(self, X, y=None):\n",
    "        tuples = self.naive_bayes_tuples(X.values, y.values)\n",
    "        self._nb = NaiveBayesClassifier.train(tuples)\n",
    "        return self\n",
    "\n",
    "    def transform(self, X, y=None):\n",
    "        X = X.values\n",
    "        X_new = []\n",
    "        for i in range(len(X)):\n",
    "            logprob = self._nb.prob_classify(X[i][0])._prob_dict\n",
    "            X_new.append(\n",
    "                logprob[self.labels_dict[\"positive\"]] - logprob[self.labels_dict[\"negative\"]]\n",
    "            )\n",
    "        return np.array(X_new).reshape(-1, 1)\n",
    "\n",
    "    def naive_bayes_tuples(self, X, y):\n",
    "        return [(X[i][0], y[i]) for i in range(len(X))]\n"
   ]
  },
  {
   "cell_type": "code",
   "execution_count": 33,
   "metadata": {},
   "outputs": [],
   "source": [
    "# Grupos de columnas según los tipos de atributos\n",
    "text_columns = [\"DESCRIP_HECHO\"]\n",
    "categorical_columns = list(\n",
    "    X_train.drop(columns=text_columns).columns[\n",
    "        X_train.drop(columns=text_columns).dtypes == object\n",
    "    ]\n",
    ")\n",
    "numeric_columns = list(X_train.columns[X_train.dtypes != object])"
   ]
  },
  {
   "cell_type": "code",
   "execution_count": 34,
   "metadata": {},
   "outputs": [],
   "source": [
    "# Pipelines de preprocesamiento para los modelos\n",
    "# Se prueban dos modelos, lr: LogisticRegression y gb: GradientBoostingClassifier\n",
    "lr_preprocessor = ColumnTransformer([\n",
    "    (\n",
    "        \"text\",\n",
    "        make_pipeline(NaiveBayesScores(labels_dict={\"positive\": 1, \"negative\": 0}), RobustScaler()),\n",
    "        text_columns\n",
    "    ),\n",
    "    (\n",
    "        \"categorical\",\n",
    "        make_pipeline(SimpleImputer(strategy=\"most_frequent\"), OneHotEncoder()),\n",
    "        categorical_columns\n",
    "    ),\n",
    "    (\n",
    "        \"numeric\",\n",
    "        make_pipeline(SimpleImputer(strategy=\"median\"), RobustScaler()),\n",
    "        numeric_columns\n",
    "    )\n",
    "])\n",
    "gb_preprocessor = ColumnTransformer([\n",
    "    (\n",
    "        \"text\",\n",
    "        make_pipeline(NaiveBayesScores(labels_dict={\"positive\": 1, \"negative\": 0})),\n",
    "        text_columns\n",
    "    ),\n",
    "    (\n",
    "        \"categorical\",\n",
    "        make_pipeline(SimpleImputer(strategy=\"most_frequent\"), OrdinalEncoder()),\n",
    "        categorical_columns\n",
    "    ),\n",
    "    (\n",
    "        \"numeric\",\n",
    "        make_pipeline(SimpleImputer(strategy=\"median\"), \"passthrough\"),\n",
    "        numeric_columns\n",
    "    )\n",
    "])"
   ]
  },
  {
   "cell_type": "code",
   "execution_count": 35,
   "metadata": {},
   "outputs": [],
   "source": [
    "# Modelo Regresión Logística\n",
    "model_lr = make_pipeline(lr_preprocessor, LogisticRegression(max_iter=1000))\n",
    "model_lr.fit(X_train, y_train)\n",
    "y_pred_lr = model_lr.predict(X_test)\n",
    "y_prob_lr = model_lr.predict_proba(X_test)[:, 1]"
   ]
  },
  {
   "cell_type": "code",
   "execution_count": 36,
   "metadata": {},
   "outputs": [
    {
     "data": {
      "image/png": "[encoded data removed]",
      "text/plain": [
       "<Figure size 504x288 with 1 Axes>"
      ]
     },
     "metadata": {
      "needs_background": "light"
     },
     "output_type": "display_data"
    }
   ],
   "source": [
    "# Coeficientes Regresión Logística\n",
    "n_most_relevant = 8\n",
    "plt.figure(figsize=(7, 4))\n",
    "one_hot_categories = OneHotEncoder().fit(X_train[categorical_columns]).get_feature_names_out(categorical_columns)\n",
    "labels_lr = np.concatenate([text_columns, one_hot_categories, numeric_columns])\n",
    "coefs_lr = model_lr._final_estimator.coef_[0]\n",
    "sort_lr = list(np.argsort(coefs_lr)[::-1])\n",
    "plt.bar(\n",
    "    labels_lr[sort_lr[:n_most_relevant] + sort_lr[-n_most_relevant:]],\n",
    "    coefs_lr[sort_lr[:n_most_relevant] + sort_lr[-n_most_relevant:]]\n",
    "    )\n",
    "plt.xticks(rotation=45, ha=\"right\")\n",
    "plt.ylabel(\"Logistic Regression coef.\")\n",
    "sns.despine(trim=True)\n",
    "plt.show()\n",
    "plt.close()"
   ]
  },
  {
   "cell_type": "code",
   "execution_count": 37,
   "metadata": {},
   "outputs": [],
   "source": [
    "# Modelo Gradient Boosting\n",
    "model_gb = make_pipeline(gb_preprocessor, GradientBoostingClassifier(n_estimators=200, min_samples_split=0.01, min_samples_leaf=0.0025))\n",
    "model_gb.fit(X_train, y_train)\n",
    "y_pred_gb = model_gb.predict(X_test)\n",
    "y_prob_gb = model_gb.predict_proba(X_test)[:, 1]"
   ]
  },
  {
   "cell_type": "code",
   "execution_count": 38,
   "metadata": {},
   "outputs": [
    {
     "data": {
      "image/png": "[encoded data removed]",
      "text/plain": [
       "<Figure size 504x288 with 1 Axes>"
      ]
     },
     "metadata": {
      "needs_background": "light"
     },
     "output_type": "display_data"
    }
   ],
   "source": [
    "# Importancia de los features en Gradiant Boosting\n",
    "plt.figure(figsize=(7, 4))\n",
    "sns.set_context(\"paper\", font_scale=1.5)\n",
    "labels_gb = np.concatenate([text_columns, categorical_columns, numeric_columns])\n",
    "importance_gb = model_gb._final_estimator.feature_importances_\n",
    "sort_gb = np.argsort(importance_gb)[::-1]\n",
    "plt.bar(\n",
    "    labels_gb[sort_gb],\n",
    "    importance_gb[sort_gb]\n",
    "    )\n",
    "plt.xticks(rotation=45, ha=\"right\")\n",
    "plt.ylabel(\"Feature importance\")\n",
    "plt.yscale(\"log\")\n",
    "sns.despine(trim=True)\n",
    "plt.show()\n",
    "plt.close()"
   ]
  },
  {
   "cell_type": "markdown",
   "metadata": {},
   "source": [
    "---\n",
    "### Conclusiones\n",
    "\n",
    "Hay 3 órdenes de magnitud de diferencia entre la importancia de DESCRIP_HECHO (el atributo más importante) y de CANT_RECLAMOS (el segundo más importante), para el modelo Gradient Boost.\n",
    "\n",
    "Para el resto de los atributos, la importancia se hace más pequeña, hasta llegar a 6 órdenes de magnitud de diferencia para SEXO y PROV_OCURRENCIA, respecto de DESCRIP_HECHO.\n",
    "\n",
    "Algo similar se observa en los órdenes de magnitud de los coeficientes en la Regresión Logística.\n",
    "\n",
    "Esto indica que los modelos se están guiando únicamente por DESCRIP_HECHO y son prácticamente independientes de los demás atributos.\n",
    "\n",
    "Lo cual tiene sentido, pues se quiere determinar si el asegurado es responsable de un siniestro o no, según la ley de tránsito, y la ley de tránsito no involucra factores como la edad del asegurado, ni la fecha en que ocurre el siniestro, ni ninguna otra característica en nuestros datos que no sea la descripción del hecho.\n",
    "\n",
    "Tal vez podría ser importante LUGAR_OCURRENCIA (calle, avenida, ruta, etc.), ya que la ley de tránsito puede depender del tipo de vía de circulación, pero esta información también puede estar incluida en DESCRIP_HECHO."
   ]
  },
  {
   "cell_type": "code",
   "execution_count": 86,
   "metadata": {},
   "outputs": [],
   "source": [
    "# Extraer el modelo NaiveBayesClassifier (nb) de uno de los pipelines\n",
    "model_nb = model_lr.named_steps[\"columntransformer\"].named_transformers_[\"text\"].named_steps[\"naivebayesscores\"]"
   ]
  },
  {
   "cell_type": "code",
   "execution_count": 45,
   "metadata": {},
   "outputs": [],
   "source": [
    "# Calcular la probabilidad de que el asegurado sea responsable, a partir de los log-odds del model_nb\n",
    "# Es decir, convirtamos log-odds en probabilidad\n",
    "y_prob_nb = model_nb.transform(X_test[text_columns])[:, 0]\n",
    "y_prob_nb = np.exp(y_prob_nb)\n",
    "y_prob_nb = y_prob_nb / (1 + y_prob_nb)"
   ]
  },
  {
   "cell_type": "code",
   "execution_count": 89,
   "metadata": {},
   "outputs": [
    {
     "data": {
      "image/png": "[encoded data removed]",
      "text/plain": [
       "<Figure size 504x504 with 1 Axes>"
      ]
     },
     "metadata": {
      "needs_background": "light"
     },
     "output_type": "display_data"
    }
   ],
   "source": [
    "# Curvas ROC\n",
    "plt.figure(figsize=(7, 7))\n",
    "sns.set_context(\"paper\", font_scale=1.5)\n",
    "for y_prob, name in zip(\n",
    "    [y_prob_lr, y_prob_gb, y_prob_nb],\n",
    "    [\"Regresión Logística\", \"Gradient Boosting\", \"Naive Bayes\"]\n",
    "):\n",
    "    fpr, tpr, thres = roc_curve(y_test, y_prob)\n",
    "    plt.plot(\n",
    "        fpr,\n",
    "        tpr,\n",
    "        label=f\"{name} (AUC={roc_auc_score(y_test, y_prob):.3f})\"\n",
    "    )\n",
    "    gmeans = np.sqrt(tpr * (1 - fpr))\n",
    "    opt_idx = gmeans.argmax()\n",
    "    plt.scatter(\n",
    "        fpr[opt_idx],\n",
    "        tpr[opt_idx],\n",
    "        s=100,\n",
    "        label=f\"Umbral óptimo {thres[opt_idx]:.3f}\",\n",
    "    )\n",
    "plt.plot([0, 1], [0, 1], c=\"gray\", linestyle=\"--\")\n",
    "plt.xlabel(\"False Positive Rate\")\n",
    "plt.ylabel(\"True Positive Rate\")\n",
    "plt.title(\"ROC Curve\")\n",
    "plt.legend()\n",
    "plt.gca().set_aspect(\"equal\", adjustable=\"box\")\n",
    "sns.despine(trim=True)\n",
    "plt.show()"
   ]
  },
  {
   "cell_type": "markdown",
   "metadata": {},
   "source": [
    "Los modelos probados tienen performances similares, a juzgar por las curvas ROC, apoyando la hipótesis de que el atributo más importante en este problema es el obtenido a partir de DESCRIP_HECHO."
   ]
  },
  {
   "cell_type": "code",
   "execution_count": 59,
   "metadata": {},
   "outputs": [],
   "source": [
    "# Función para graficar la matriz de confusión de un modelo\n",
    "def plot_confusion_matrix(matrix, title):\n",
    "    \"\"\"Heatmap de la matriz de confusión de un modelo de clasificación.\"\"\"\n",
    "    plt.figure(figsize=(7, 7))\n",
    "    sns.set_context(\"paper\", font_scale=1.5)\n",
    "    ax = sns.heatmap(\n",
    "        matrix / np.sum(matrix) * 100,\n",
    "        annot=True, fmt=\".2f\", cmap=\"Blues\",\n",
    "        vmin=0, vmax=100\n",
    "    )\n",
    "    ax.set_xlabel(\"Predicted Values\")\n",
    "    ax.set_ylabel(\"Actual Values\")\n",
    "    ax.xaxis.set_ticklabels([\"False\", \"True\"])\n",
    "    ax.yaxis.set_ticklabels([\"False\", \"True\"])\n",
    "    ax.xaxis.set_ticks_position(\"none\")\n",
    "    ax.yaxis.set_ticks_position(\"none\")\n",
    "    cbar = ax.collections[0].colorbar\n",
    "    cbar.ax.tick_params(length=0)\n",
    "    cbar.set_label(\"Probabilidad (%)\")\n",
    "    plt.title(title)\n",
    "    plt.gca().set_aspect(\"equal\", adjustable=\"box\")\n",
    "    plt.show()\n",
    "    plt.close()"
   ]
  },
  {
   "cell_type": "code",
   "execution_count": 61,
   "metadata": {},
   "outputs": [
    {
     "data": {
      "image/png": "[encoded data removed]",
      "text/plain": [
       "<Figure size 504x504 with 2 Axes>"
      ]
     },
     "metadata": {
      "needs_background": "light"
     },
     "output_type": "display_data"
    }
   ],
   "source": [
    "# Matriz de confusion del modelo NaiveBayesClassifier,\n",
    "# con un umbral de decisión óptimo (según gmeans)\n",
    "fpr, tpr, thres = roc_curve(y_test, y_prob_nb)\n",
    "gmeans = np.sqrt(tpr * (1 - fpr))\n",
    "opt_idx = gmeans.argmax()\n",
    "opt_theta = thres[opt_idx]\n",
    "y_pred_opt = (y_prob_nb > opt_theta).astype(int)\n",
    "confusion_opt = confusion_matrix(y_test, y_pred_opt)\n",
    "plot_confusion_matrix(confusion_opt, \"Naive Bayes optimizado\")"
   ]
  },
  {
   "cell_type": "markdown",
   "metadata": {},
   "source": [
    "En nuestro caso, nos conviene elegir un umbral que reduzca la tasa de Falsos Negativos (aumente la tasa de Verdaderos Positivos).\n",
    "\n",
    "Pues es más costoso que se escape un asegurado responsable de un siniestro y quede sin detectar, respecto de clasificar erróneamente a un asegurado como responsable.\n",
    "\n",
    "Por lo tanto, habría que elegir un umbral que aumente el recall de los positivos."
   ]
  },
  {
   "cell_type": "code",
   "execution_count": 64,
   "metadata": {},
   "outputs": [
    {
     "name": "stdout",
     "output_type": "stream",
     "text": [
      "              precision    recall  f1-score   support\n",
      "\n",
      "           0       0.76      0.76      0.76      3005\n",
      "           1       0.74      0.74      0.74      2796\n",
      "\n",
      "    accuracy                           0.75      5801\n",
      "   macro avg       0.75      0.75      0.75      5801\n",
      "weighted avg       0.75      0.75      0.75      5801\n",
      "\n"
     ]
    }
   ],
   "source": [
    "# Métricas NaiveBayesClassifier\n",
    "y_pred_opt = (y_prob_nb > opt_theta).astype(int)\n",
    "print(classification_report(y_test, y_pred_opt))"
   ]
  },
  {
   "cell_type": "markdown",
   "metadata": {},
   "source": [
    "El accuracy de nuestro modelo sencillo es de 75%.\n",
    "\n",
    "Bastante por debajo del 91% de accuracy de un operador humano.\n",
    "\n",
    "Pero mucho mejor que el accuracy debido al azar (aproximadamente 50%)."
   ]
  },
  {
   "cell_type": "code",
   "execution_count": 71,
   "metadata": {},
   "outputs": [
    {
     "name": "stdout",
     "output_type": "stream",
     "text": [
      "Human accuracy:\t 0.91\n",
      "Chance accuracy: 0.48\n"
     ]
    }
   ],
   "source": [
    "accuracy_human = (tipo_administracion.loc[idx_test].map(target_dict) == y_test).mean()\n",
    "accuracy_chance = y_test.mean()\n",
    "print(f\"Human accuracy:\\t {accuracy_human:.2f}\")\n",
    "print(f\"Chance accuracy: {accuracy_chance:.2f}\")"
   ]
  },
  {
   "cell_type": "markdown",
   "metadata": {},
   "source": [
    "Veamos qué normas de tránsito aprendió el modelo NaiveBayesClassifier."
   ]
  },
  {
   "cell_type": "code",
   "execution_count": 80,
   "metadata": {},
   "outputs": [
    {
     "name": "stdout",
     "output_type": "stream",
     "text": [
      "Most Informative Features\n",
      "('mot', 'choc', 'atras') = True                1 : 0      =     32.4 : 1.0\n",
      "('asegur', 'deten', 'semafor', 'tercer') = True                1 : 0      =     29.4 : 1.0\n",
      "('traser', 'mot', 'circul', 'detr') = True                1 : 0      =     29.2 : 1.0\n",
      "('part', 'traser', 'mot', 'circul', 'detr') = True                1 : 0      =     28.8 : 1.0\n",
      "('part', 'delanter', 'tercer', 'circul', 'detr') = True                1 : 0      =     27.2 : 1.0\n",
      "('asegur', 'estacion', 'ocup') = True                1 : 0      =     24.7 : 1.0\n",
      "('deten', 'semafor', 'colision', 'part', 'traser') = True                1 : 0      =     24.3 : 1.0\n",
      "('traser', 'tercer', 'detien') = True                0 : 1      =     24.2 : 1.0\n",
      "('semafor', 'colision', 'part', 'traser') = True                1 : 0      =     22.8 : 1.0\n",
      "('asegur', 'deten', 'transit', 'colision') = True                1 : 0      =     22.0 : 1.0\n"
     ]
    }
   ],
   "source": [
    "# Estos son los ngrams con mayor likelihood de estar en una desripción positiva (1) o negativa (0)\n",
    "most_informative_list = model_nb._nb.most_informative_features(n=10)\n",
    "model_nb._nb.show_most_informative_features(n=10)"
   ]
  },
  {
   "cell_type": "code",
   "execution_count": 76,
   "metadata": {},
   "outputs": [],
   "source": [
    "# Veamos cuáles son las descripciones que contienen al segundo ngram más importante ('asegur', 'deten', 'semafor', 'tercer')\n",
    "text_match = data[\"DESCRIP_HECHO\"].map(lambda x: ('asegur', 'deten', 'semafor', 'tercer') in x)"
   ]
  },
  {
   "cell_type": "code",
   "execution_count": 83,
   "metadata": {},
   "outputs": [
    {
     "data": {
      "text/plain": [
       "'ASEGURADO DETENIDO POR SEMAFORO SOBRE AV. M. BUFFANO CUANDO UN TERCERO (F-100) QUE CIRCULABA SOBRE LA MISMA , LO IMPACTA CON LA PARTE DELANTERA EN LA PARTE TRASERA ASEG.. PRODUCTO DEL MISMO EL VH ASEG. SE DESPLAZA Y COLISIONA A OTRO TERCERO (CHEV.) CON PARTE DELANTERA EN LA PARTE TRASERA TERC.. AMIGO DEL ASEG. CON DOLENCIAS Y GOLPES.  SIN LESIONES TERCERO .-'"
      ]
     },
     "execution_count": 83,
     "metadata": {},
     "output_type": "execute_result"
    }
   ],
   "source": [
    "# Esta es una de esas descripciones\n",
    "descrip_hecho.loc[text_match].iloc[0]"
   ]
  },
  {
   "cell_type": "code",
   "execution_count": 85,
   "metadata": {},
   "outputs": [
    {
     "data": {
      "text/plain": [
       "1"
      ]
     },
     "execution_count": 85,
     "metadata": {},
     "output_type": "execute_result"
    }
   ],
   "source": [
    "# Donde el asegurado es responsable\n",
    "data[\"target\"].loc[text_match].iloc[0]"
   ]
  },
  {
   "cell_type": "markdown",
   "metadata": {},
   "source": [
    "El modelo aprendió, por ejemplo, que si el asegurado está detenido en un semáforo y un tercero lo impacta en la parte trasera, entonces es muy probable que el asegurado sea responsable del siniestro."
   ]
  },
  {
   "cell_type": "markdown",
   "metadata": {},
   "source": [
    "---\n",
    "### Pasos a seguir\n",
    "\n",
    "Viendo que el problema puede ser resulto con NLP de las descripciones de los siniestros, un próximo paso sería implementar modelos de lenguaje más complejos (RNN y transformers).\n",
    "\n",
    "El modelo seleccionado puede luego llevarse a producción y hacer un deployment usando un Docker container, por ejemplo.\n",
    "\n",
    "El único input que sería necesario, para este modelo, sería la descripción del siniestro.\n",
    "\n",
    "También, se pueden implementar esquemas de CI/CD para mantener el modelo entrenado y actualizado con las descripciones de siniestros más recientes.\n",
    "\n",
    "Por ej., si se elige el modelo Naive Bayes, se pueden actualizar las likelihoods de los ngrams y los valores de las priors del modelo.\n",
    "\n",
    "Por último, se pueden plantear esquemas de validación y de tuning de hiperparámetros.\n",
    "\n",
    "Por ej., para nuestro NaiveBayesClassifier, se podrían comparar las performances con diferentes valores de tamaño de ngram máximo."
   ]
  }
 ],
 "metadata": {
  "interpreter": {
   "hash": "31f2aee4e71d21fbe5cf8b01ff0e069b9275f58929596ceb00d14d90e3e16cd6"
  },
  "kernelspec": {
   "display_name": "Python 3.8.10 64-bit",
   "language": "python",
   "name": "python3"
  },
  "language_info": {
   "codemirror_mode": {
    "name": "ipython",
    "version": 3
   },
   "file_extension": ".py",
   "mimetype": "text/x-python",
   "name": "python",
   "nbconvert_exporter": "python",
   "pygments_lexer": "ipython3",
   "version": "3.8.10"
  },
  "orig_nbformat": 4
 },
 "nbformat": 4,
 "nbformat_minor": 2
}
